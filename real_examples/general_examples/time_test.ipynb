{
 "cells": [
  {
   "cell_type": "code",
   "execution_count": 439,
   "id": "3eac1e2c-d67d-419c-b912-18a6a4d482fa",
   "metadata": {
    "tags": []
   },
   "outputs": [
    {
     "data": {
      "text/plain": [
       "<module 'save_procedures' from 'D:\\\\ITC\\\\РНФ_Курганский_2024\\\\pythonProject\\\\save_procedures.py'>"
      ]
     },
     "execution_count": 439,
     "metadata": {},
     "output_type": "execute_result"
    }
   ],
   "source": [
    "import sys\n",
    "import os\n",
    "\n",
    "sys.path.append(os.path.abspath('D:\\ITC\\РНФ_Курганский_2024\\pythonProject'))\n",
    "\n",
    "import numpy as np\n",
    "import torch\n",
    "from torch import nn\n",
    "import math\n",
    "\n",
    "from scipy.spatial import Delaunay\n",
    "import matplotlib.pyplot as plt\n",
    "\n",
    "import spin_system, utils, particles, res_field_algorithm, constants, spectral_integration, mesher, spectra_manager, particles\n",
    "from visualization import levels_plot, transitions_plot, spin_system_plot\n",
    "from population import time_population, tr_utils, transform\n",
    "import population\n",
    "\n",
    "from importlib import reload\n",
    "\n",
    "from spectra_manager import TruncatedSpectraCreatorTimeResolved, PostSpectraProcessing,TimeResolvedIntensitiesCalculator, ParamSpec\n",
    "from spectral_integration import SpectraIntegratorEasySpinLikeTimeResolved, BaseSpectraIntegrator\n",
    "from reader import read_bruker_data\n",
    "from spectra_manager import BaseSpectraCreator, StationarySpectraCreator\n",
    "\n",
    "import optimization\n",
    "import spectra_processing\n",
    "\n",
    "import save_procedures\n",
    "\n",
    "reload(spectral_integration)\n",
    "reload(spin_system)\n",
    "reload(population)\n",
    "reload(population.stationary_population)\n",
    "\n",
    "reload(time_population)\n",
    "reload(levels_plot)\n",
    "reload(transitions_plot)\n",
    "reload(tr_utils)\n",
    "reload(spectra_manager)\n",
    "reload(spin_system)\n",
    "reload(res_field_algorithm)\n",
    "reload(optimization)\n",
    "reload(mesher.general_mesh)\n",
    "reload(mesher)\n",
    "reload(mesher.delanay_neigbour)\n",
    "\n",
    "\n",
    "reload(spin_system_plot)\n",
    "reload(save_procedures)"
   ]
  },
  {
   "cell_type": "code",
   "execution_count": 440,
   "id": "977e29c2-53ba-4113-8870-dbb8a775f256",
   "metadata": {
    "tags": []
   },
   "outputs": [
    {
     "data": {
      "text/plain": [
       "<module 'optimization.objectives' from 'D:\\\\ITC\\\\РНФ_Курганский_2024\\\\pythonProject\\\\optimization\\\\objectives.py'>"
      ]
     },
     "execution_count": 440,
     "metadata": {},
     "output_type": "execute_result"
    }
   ],
   "source": [
    "reload(optimization.fitter)\n",
    "reload(optimization.objectives)"
   ]
  },
  {
   "cell_type": "markdown",
   "id": "0aa9fcf2-50f7-4f31-ae73-6ff18d6dd67b",
   "metadata": {},
   "source": [
    "### TEST RESFIELD ALGORITHM"
   ]
  },
  {
   "cell_type": "code",
   "execution_count": 441,
   "id": "8f4a0825-4d70-48b3-9330-928f1389015d",
   "metadata": {
    "tags": []
   },
   "outputs": [],
   "source": [
    "class ResFieldTestCtreator(StationarySpectraCreator):\n",
    "    def forward(self,\n",
    "             sample: spin_system.MultiOrientedSample,\n",
    "             fields: torch.Tensor):\n",
    "\n",
    "        B_low  = fields[..., 0].unsqueeze(-1).expand(*self.mesh_size)\n",
    "        B_high = fields[..., -1].unsqueeze(-1).expand(*self.mesh_size)\n",
    "\n",
    "        F, Gx, Gy, Gz = sample.get_hamiltonian_terms()\n",
    "\n",
    "        (vectors_u, vectors_v), (valid_lvl_down, valid_lvl_up), res_fields, resonance_energies, full_eigen_vectors =\\\n",
    "            self.res_field(sample, self.resonance_freq, B_low, B_high, F, Gz)\n",
    "\n",
    "        return None"
   ]
  },
  {
   "cell_type": "code",
   "execution_count": 442,
   "id": "6ca946b5-62fb-4a30-b165-eaaf72b4b86a",
   "metadata": {
    "tags": []
   },
   "outputs": [],
   "source": [
    "def _get_one_spin_system(mesh_size):\n",
    "    e_1 = particles.Electron(spin=0.5)\n",
    "    g_1 = spin_system.Interaction((2, 2.0, 2.0))\n",
    "    \n",
    "    \n",
    "    system = spin_system.SpinSystem([e_1], g_tensors=(g_1, ))\n",
    "    mesh = mesher.DelaunayMeshNeighbour(initial_grid_frequency=mesh_size)\n",
    "    sample = spin_system.MultiOrientedSample(system)\n",
    "    return sample\n",
    "\n",
    "def _get_midium_system_anisotropy(mesh_size):\n",
    "    e_1 = particles.Electron(spin=1)\n",
    "    e_2 = particles.Electron(spin=0.5)\n",
    "    \n",
    "    g_1 = spin_system.Interaction((2, 2.2, 2.3))\n",
    "    g_2 = spin_system.Interaction((2, 2.1, 2.1))\n",
    "    \n",
    "    J = constants.unit_converter(123, \"Hz_to_K\")\n",
    "\n",
    "    ee = spin_system.Interaction(J)\n",
    "    zer = spin_system.Interaction(J)\n",
    "    \n",
    "    system = spin_system.SpinSystem([e_1, e_2], g_tensors=(g_1, g_2), electron_electron=[(0, 1, ee), (0, 0, zer)])\n",
    "    mesh = mesher.DelaunayMeshNeighbour(initial_grid_frequency=mesh_size)\n",
    "    sample = spin_system.MultiOrientedSample(system)\n",
    "    return sample\n",
    "\n",
    "\n",
    "def _get_large_spin_system(mesh_size):\n",
    "    e_1 = particles.Electron(spin=1)\n",
    "    e_2 = particles.Electron(spin=0.5)\n",
    "    e_3 = particles.Electron(spin=0.5)\n",
    "    e_4 = particles.Electron(spin=0.5)\n",
    "    \n",
    "    g_1 = spin_system.Interaction((2, 2.2, 2.3))\n",
    "    g_2 = spin_system.Interaction((2, 2.1, 2.1))\n",
    "    g_3 = spin_system.Interaction((2, 2.1, 2.1))\n",
    "    g_4 = spin_system.Interaction((2, 2.1, 2.1))\n",
    "    \n",
    "    J = constants.unit_converter(123, \"Hz_to_K\")\n",
    "\n",
    "    ee = spin_system.Interaction(J)\n",
    "    zer = spin_system.Interaction(J)\n",
    "    \n",
    "    system = spin_system.SpinSystem([e_1, e_2, e_3, e_4], g_tensors=(g_1, g_2, g_3, g_4), electron_electron=[(0, 1, ee), (0, 0, zer)])\n",
    "    mesh = mesher.DelaunayMeshNeighbour(initial_grid_frequency=mesh_size)\n",
    "    sample = spin_system.MultiOrientedSample(system, mesh=mesh)\n",
    "    return sample\n",
    "\n",
    "\n",
    "def _get_large_spin_system(mesh_size):\n",
    "    e_1 = particles.Electron(spin=1)\n",
    "    e_2 = particles.Electron(spin=0.5)\n",
    "    e_3 = particles.Electron(spin=0.5)\n",
    "    e_4 = particles.Electron(spin=0.5)\n",
    "    \n",
    "    g_1 = spin_system.Interaction((2, 2.2, 2.3))\n",
    "    g_2 = spin_system.Interaction((2, 2.1, 2.1))\n",
    "    g_3 = spin_system.Interaction((2, 2.1, 2.1))\n",
    "    g_4 = spin_system.Interaction((2, 2.1, 2.1))\n",
    "    \n",
    "    J = constants.unit_converter(123, \"Hz_to_K\")\n",
    "\n",
    "    ee = spin_system.Interaction(J)\n",
    "    zer = spin_system.Interaction(J)\n",
    "    system = spin_system.SpinSystem([e_1, e_2, e_3, e_4], g_tensors=(g_1, g_2, g_3, g_4), electron_electron=[(0, 1, ee), (0, 0, zer)])\n",
    "    mesh = mesher.DelaunayMeshNeighbour(initial_grid_frequency=mesh_size)\n",
    "    sample = spin_system.MultiOrientedSample(system, mesh=mesh)\n",
    "    return sample"
   ]
  },
  {
   "cell_type": "code",
   "execution_count": 443,
   "id": "e338c8f8-efef-4df3-a76a-38891523e0c3",
   "metadata": {
    "tags": []
   },
   "outputs": [],
   "source": [
    "g_1 = spin_system.Interaction((2, 2.2, 2.3))"
   ]
  },
  {
   "cell_type": "code",
   "execution_count": 444,
   "id": "ec6fd53d-dfee-4896-8fff-25238296679c",
   "metadata": {
    "tags": []
   },
   "outputs": [],
   "source": [
    "sample = _get_one_spin_system(12)\n",
    "freq = 9.8 * 1e9"
   ]
  },
  {
   "cell_type": "code",
   "execution_count": 445,
   "id": "090f639f-5b54-4d59-982e-f4e673c07996",
   "metadata": {
    "tags": []
   },
   "outputs": [],
   "source": [
    "res_filed_creator = ResFieldTestCtreator(freq, sample)"
   ]
  },
  {
   "cell_type": "code",
   "execution_count": 446,
   "id": "e5ec8b6d-9e7d-4dc8-805b-8cbe231ce324",
   "metadata": {
    "tags": []
   },
   "outputs": [],
   "source": [
    "solver = res_field_algorithm.ZeroFreeResonanceIntervalSolver(sample.base_spin_system.spin_system_dim)"
   ]
  },
  {
   "cell_type": "code",
   "execution_count": 447,
   "id": "61cbc260-0166-4edf-86e0-0efc0ae2ace5",
   "metadata": {
    "tags": []
   },
   "outputs": [],
   "source": [
    "sample = _get_large_spin_system(35)"
   ]
  },
  {
   "cell_type": "code",
   "execution_count": 448,
   "id": "b7bf397f-a1d1-43fe-a14f-9d24b20e8cec",
   "metadata": {
    "tags": []
   },
   "outputs": [],
   "source": [
    "F, Gx, Gy, Gz = sample.get_hamiltonian_terms()\n",
    "resonance_frequency = torch.tensor(9.8 * 1e9)\n",
    "\n",
    "def _compute_zero_field_resonance(F: torch.tensor, resonance_frequency: torch.tensor):\n",
    "    \"\"\"\n",
    "    :param F: Magnetic filed free stationary Hamiltonian matrix. The shape is [..., K, K],\n",
    "    where K is spin system dimension\n",
    "    :param resonance_frequency: the resonance frequency. The shape is []\n",
    "    :return: The mask, where True if resonance function > 0, and False otherwise\n",
    "    \"\"\"\n",
    "    eig_values = torch.linalg.eigvalsh(F)\n",
    "    res_1N = eig_values[..., -1] - eig_values[..., 0] - resonance_frequency\n",
    "    return res_1N > 0\n",
    "\n",
    "baseline_sigh = _compute_zero_field_resonance(F, resonance_frequency)\n",
    "fields = torch.linspace(0.2, 0.4, 100)\n",
    "B_low  = fields[..., 0].unsqueeze(-1).expand(*sample.mesh.initial_size)\n",
    "B_high = fields[..., -1].unsqueeze(-1).expand(*sample.mesh.initial_size)\n",
    "\n",
    "deriv_max = sample.calculate_derivative_max()\n",
    "\n",
    "\n",
    "\n",
    "#solver = torch.compile(solver)"
   ]
  },
  {
   "cell_type": "code",
   "execution_count": 449,
   "id": "28714a9f-9f49-46d1-8ad0-a659fbaba59e",
   "metadata": {
    "tags": []
   },
   "outputs": [
    {
     "ename": "RuntimeError",
     "evalue": "Only tensors, lists, tuples of tensors, or dictionary of tensors can be output from traced functions",
     "output_type": "error",
     "traceback": [
      "\u001b[1;31m---------------------------------------------------------------------------\u001b[0m",
      "\u001b[1;31mRuntimeError\u001b[0m                              Traceback (most recent call last)",
      "Cell \u001b[1;32mIn[449], line 1\u001b[0m\n\u001b[1;32m----> 1\u001b[0m solver_jit \u001b[38;5;241m=\u001b[39m \u001b[43mtorch\u001b[49m\u001b[38;5;241;43m.\u001b[39;49m\u001b[43mjit\u001b[49m\u001b[38;5;241;43m.\u001b[39;49m\u001b[43mtrace\u001b[49m\u001b[43m(\u001b[49m\u001b[43msolver\u001b[49m\u001b[43m,\u001b[49m\u001b[43m \u001b[49m\u001b[43mexample_inputs\u001b[49m\u001b[38;5;241;43m=\u001b[39;49m\u001b[43m(\u001b[49m\u001b[43mF\u001b[49m\u001b[43m,\u001b[49m\u001b[43m \u001b[49m\u001b[43mGz\u001b[49m\u001b[43m,\u001b[49m\u001b[43m \u001b[49m\u001b[43mB_low\u001b[49m\u001b[43m,\u001b[49m\u001b[43m \u001b[49m\u001b[43mB_high\u001b[49m\u001b[43m,\u001b[49m\u001b[43m \u001b[49m\u001b[43mresonance_frequency\u001b[49m\u001b[43m,\u001b[49m\u001b[43m \u001b[49m\u001b[43mbaseline_sigh\u001b[49m\u001b[43m,\u001b[49m\u001b[43m \u001b[49m\u001b[43mderiv_max\u001b[49m\u001b[43m)\u001b[49m\u001b[43m,\u001b[49m\u001b[43m \u001b[49m\u001b[43moptimize\u001b[49m\u001b[38;5;241;43m=\u001b[39;49m\u001b[38;5;28;43;01mTrue\u001b[39;49;00m\u001b[43m)\u001b[49m\n",
      "File \u001b[1;32m~\\AppData\\Local\\Programs\\Python\\Python310\\lib\\site-packages\\torch\\_dynamo\\eval_frame.py:632\u001b[0m, in \u001b[0;36mDisableContext.__call__.<locals>._fn\u001b[1;34m(*args, **kwargs)\u001b[0m\n\u001b[0;32m    630\u001b[0m prior \u001b[38;5;241m=\u001b[39m _maybe_set_eval_frame(callback)\n\u001b[0;32m    631\u001b[0m \u001b[38;5;28;01mtry\u001b[39;00m:\n\u001b[1;32m--> 632\u001b[0m     \u001b[38;5;28;01mreturn\u001b[39;00m fn(\u001b[38;5;241m*\u001b[39margs, \u001b[38;5;241m*\u001b[39m\u001b[38;5;241m*\u001b[39mkwargs)\n\u001b[0;32m    633\u001b[0m \u001b[38;5;28;01mfinally\u001b[39;00m:\n\u001b[0;32m    634\u001b[0m     _maybe_set_eval_frame(prior)\n",
      "File \u001b[1;32m~\\AppData\\Local\\Programs\\Python\\Python310\\lib\\site-packages\\torch\\jit\\_trace.py:1002\u001b[0m, in \u001b[0;36mtrace\u001b[1;34m(func, example_inputs, optimize, check_trace, check_inputs, check_tolerance, strict, _force_outplace, _module_class, _compilation_unit, example_kwarg_inputs, _store_inputs)\u001b[0m\n\u001b[0;32m    989\u001b[0m     warnings\u001b[38;5;241m.\u001b[39mwarn(\n\u001b[0;32m    990\u001b[0m         \u001b[38;5;124m\"\u001b[39m\u001b[38;5;124m`optimize` is deprecated and has no effect. \u001b[39m\u001b[38;5;124m\"\u001b[39m\n\u001b[0;32m    991\u001b[0m         \u001b[38;5;124m\"\u001b[39m\u001b[38;5;124mUse `with torch.jit.optimized_execution()` instead\u001b[39m\u001b[38;5;124m\"\u001b[39m,\n\u001b[0;32m    992\u001b[0m         \u001b[38;5;167;01mFutureWarning\u001b[39;00m,\n\u001b[0;32m    993\u001b[0m         stacklevel\u001b[38;5;241m=\u001b[39m\u001b[38;5;241m2\u001b[39m,\n\u001b[0;32m    994\u001b[0m     )\n\u001b[0;32m    996\u001b[0m \u001b[38;5;28;01mfrom\u001b[39;00m \u001b[38;5;21;01mtorch\u001b[39;00m\u001b[38;5;21;01m.\u001b[39;00m\u001b[38;5;21;01m_utils_internal\u001b[39;00m \u001b[38;5;28;01mimport\u001b[39;00m (\n\u001b[0;32m    997\u001b[0m     check_if_torch_exportable,\n\u001b[0;32m    998\u001b[0m     log_torch_jit_trace_exportability,\n\u001b[0;32m    999\u001b[0m     log_torchscript_usage,\n\u001b[0;32m   1000\u001b[0m )\n\u001b[1;32m-> 1002\u001b[0m traced_func \u001b[38;5;241m=\u001b[39m \u001b[43m_trace_impl\u001b[49m\u001b[43m(\u001b[49m\n\u001b[0;32m   1003\u001b[0m \u001b[43m    \u001b[49m\u001b[43mfunc\u001b[49m\u001b[43m,\u001b[49m\n\u001b[0;32m   1004\u001b[0m \u001b[43m    \u001b[49m\u001b[43mexample_inputs\u001b[49m\u001b[43m,\u001b[49m\n\u001b[0;32m   1005\u001b[0m \u001b[43m    \u001b[49m\u001b[43moptimize\u001b[49m\u001b[43m,\u001b[49m\n\u001b[0;32m   1006\u001b[0m \u001b[43m    \u001b[49m\u001b[43mcheck_trace\u001b[49m\u001b[43m,\u001b[49m\n\u001b[0;32m   1007\u001b[0m \u001b[43m    \u001b[49m\u001b[43mcheck_inputs\u001b[49m\u001b[43m,\u001b[49m\n\u001b[0;32m   1008\u001b[0m \u001b[43m    \u001b[49m\u001b[43mcheck_tolerance\u001b[49m\u001b[43m,\u001b[49m\n\u001b[0;32m   1009\u001b[0m \u001b[43m    \u001b[49m\u001b[43mstrict\u001b[49m\u001b[43m,\u001b[49m\n\u001b[0;32m   1010\u001b[0m \u001b[43m    \u001b[49m\u001b[43m_force_outplace\u001b[49m\u001b[43m,\u001b[49m\n\u001b[0;32m   1011\u001b[0m \u001b[43m    \u001b[49m\u001b[43m_module_class\u001b[49m\u001b[43m,\u001b[49m\n\u001b[0;32m   1012\u001b[0m \u001b[43m    \u001b[49m\u001b[43m_compilation_unit\u001b[49m\u001b[43m,\u001b[49m\n\u001b[0;32m   1013\u001b[0m \u001b[43m    \u001b[49m\u001b[43mexample_kwarg_inputs\u001b[49m\u001b[43m,\u001b[49m\n\u001b[0;32m   1014\u001b[0m \u001b[43m    \u001b[49m\u001b[43m_store_inputs\u001b[49m\u001b[43m,\u001b[49m\n\u001b[0;32m   1015\u001b[0m \u001b[43m\u001b[49m\u001b[43m)\u001b[49m\n\u001b[0;32m   1016\u001b[0m log_torchscript_usage(\u001b[38;5;124m\"\u001b[39m\u001b[38;5;124mtrace\u001b[39m\u001b[38;5;124m\"\u001b[39m, model_id\u001b[38;5;241m=\u001b[39m_get_model_id(traced_func))\n\u001b[0;32m   1018\u001b[0m \u001b[38;5;28;01mif\u001b[39;00m check_if_torch_exportable():\n",
      "File \u001b[1;32m~\\AppData\\Local\\Programs\\Python\\Python310\\lib\\site-packages\\torch\\jit\\_trace.py:698\u001b[0m, in \u001b[0;36m_trace_impl\u001b[1;34m(func, example_inputs, optimize, check_trace, check_inputs, check_tolerance, strict, _force_outplace, _module_class, _compilation_unit, example_kwarg_inputs, _store_inputs)\u001b[0m\n\u001b[0;32m    696\u001b[0m         \u001b[38;5;28;01melse\u001b[39;00m:\n\u001b[0;32m    697\u001b[0m             \u001b[38;5;28;01mraise\u001b[39;00m \u001b[38;5;167;01mRuntimeError\u001b[39;00m(\u001b[38;5;124m\"\u001b[39m\u001b[38;5;124mexample_kwarg_inputs should be a dict\u001b[39m\u001b[38;5;124m\"\u001b[39m)\n\u001b[1;32m--> 698\u001b[0m     \u001b[38;5;28;01mreturn\u001b[39;00m \u001b[43mtrace_module\u001b[49m\u001b[43m(\u001b[49m\n\u001b[0;32m    699\u001b[0m \u001b[43m        \u001b[49m\u001b[43mfunc\u001b[49m\u001b[43m,\u001b[49m\n\u001b[0;32m    700\u001b[0m \u001b[43m        \u001b[49m\u001b[43m{\u001b[49m\u001b[38;5;124;43m\"\u001b[39;49m\u001b[38;5;124;43mforward\u001b[39;49m\u001b[38;5;124;43m\"\u001b[39;49m\u001b[43m:\u001b[49m\u001b[43m \u001b[49m\u001b[43mexample_inputs\u001b[49m\u001b[43m}\u001b[49m\u001b[43m,\u001b[49m\n\u001b[0;32m    701\u001b[0m \u001b[43m        \u001b[49m\u001b[38;5;28;43;01mNone\u001b[39;49;00m\u001b[43m,\u001b[49m\n\u001b[0;32m    702\u001b[0m \u001b[43m        \u001b[49m\u001b[43mcheck_trace\u001b[49m\u001b[43m,\u001b[49m\n\u001b[0;32m    703\u001b[0m \u001b[43m        \u001b[49m\u001b[43mwrap_check_inputs\u001b[49m\u001b[43m(\u001b[49m\u001b[43mcheck_inputs\u001b[49m\u001b[43m)\u001b[49m\u001b[43m,\u001b[49m\n\u001b[0;32m    704\u001b[0m \u001b[43m        \u001b[49m\u001b[43mcheck_tolerance\u001b[49m\u001b[43m,\u001b[49m\n\u001b[0;32m    705\u001b[0m \u001b[43m        \u001b[49m\u001b[43mstrict\u001b[49m\u001b[43m,\u001b[49m\n\u001b[0;32m    706\u001b[0m \u001b[43m        \u001b[49m\u001b[43m_force_outplace\u001b[49m\u001b[43m,\u001b[49m\n\u001b[0;32m    707\u001b[0m \u001b[43m        \u001b[49m\u001b[43m_module_class\u001b[49m\u001b[43m,\u001b[49m\n\u001b[0;32m    708\u001b[0m \u001b[43m        \u001b[49m\u001b[43mexample_inputs_is_kwarg\u001b[49m\u001b[38;5;241;43m=\u001b[39;49m\u001b[38;5;28;43misinstance\u001b[39;49m\u001b[43m(\u001b[49m\u001b[43mexample_kwarg_inputs\u001b[49m\u001b[43m,\u001b[49m\u001b[43m \u001b[49m\u001b[38;5;28;43mdict\u001b[39;49m\u001b[43m)\u001b[49m\u001b[43m,\u001b[49m\n\u001b[0;32m    709\u001b[0m \u001b[43m        \u001b[49m\u001b[43m_store_inputs\u001b[49m\u001b[38;5;241;43m=\u001b[39;49m\u001b[43m_store_inputs\u001b[49m\u001b[43m,\u001b[49m\n\u001b[0;32m    710\u001b[0m \u001b[43m    \u001b[49m\u001b[43m)\u001b[49m\n\u001b[0;32m    711\u001b[0m \u001b[38;5;28;01mif\u001b[39;00m (\n\u001b[0;32m    712\u001b[0m     \u001b[38;5;28mhasattr\u001b[39m(func, \u001b[38;5;124m\"\u001b[39m\u001b[38;5;124m__self__\u001b[39m\u001b[38;5;124m\"\u001b[39m)\n\u001b[0;32m    713\u001b[0m     \u001b[38;5;129;01mand\u001b[39;00m \u001b[38;5;28misinstance\u001b[39m(func\u001b[38;5;241m.\u001b[39m\u001b[38;5;18m__self__\u001b[39m, torch\u001b[38;5;241m.\u001b[39mnn\u001b[38;5;241m.\u001b[39mModule)\n\u001b[0;32m    714\u001b[0m     \u001b[38;5;129;01mand\u001b[39;00m func\u001b[38;5;241m.\u001b[39m\u001b[38;5;18m__name__\u001b[39m \u001b[38;5;241m==\u001b[39m \u001b[38;5;124m\"\u001b[39m\u001b[38;5;124mforward\u001b[39m\u001b[38;5;124m\"\u001b[39m\n\u001b[0;32m    715\u001b[0m ):\n\u001b[0;32m    716\u001b[0m     \u001b[38;5;28;01mif\u001b[39;00m example_inputs \u001b[38;5;129;01mis\u001b[39;00m \u001b[38;5;28;01mNone\u001b[39;00m:\n",
      "File \u001b[1;32m~\\AppData\\Local\\Programs\\Python\\Python310\\lib\\site-packages\\torch\\jit\\_trace.py:1278\u001b[0m, in \u001b[0;36mtrace_module\u001b[1;34m(mod, inputs, optimize, check_trace, check_inputs, check_tolerance, strict, _force_outplace, _module_class, _compilation_unit, example_inputs_is_kwarg, _store_inputs)\u001b[0m\n\u001b[0;32m   1276\u001b[0m \u001b[38;5;28;01melse\u001b[39;00m:\n\u001b[0;32m   1277\u001b[0m     example_inputs \u001b[38;5;241m=\u001b[39m make_tuple(example_inputs)\n\u001b[1;32m-> 1278\u001b[0m     \u001b[43mmodule\u001b[49m\u001b[38;5;241;43m.\u001b[39;49m\u001b[43m_c\u001b[49m\u001b[38;5;241;43m.\u001b[39;49m\u001b[43m_create_method_from_trace\u001b[49m\u001b[43m(\u001b[49m\n\u001b[0;32m   1279\u001b[0m \u001b[43m        \u001b[49m\u001b[43mmethod_name\u001b[49m\u001b[43m,\u001b[49m\n\u001b[0;32m   1280\u001b[0m \u001b[43m        \u001b[49m\u001b[43mfunc\u001b[49m\u001b[43m,\u001b[49m\n\u001b[0;32m   1281\u001b[0m \u001b[43m        \u001b[49m\u001b[43mexample_inputs\u001b[49m\u001b[43m,\u001b[49m\n\u001b[0;32m   1282\u001b[0m \u001b[43m        \u001b[49m\u001b[43mvar_lookup_fn\u001b[49m\u001b[43m,\u001b[49m\n\u001b[0;32m   1283\u001b[0m \u001b[43m        \u001b[49m\u001b[43mstrict\u001b[49m\u001b[43m,\u001b[49m\n\u001b[0;32m   1284\u001b[0m \u001b[43m        \u001b[49m\u001b[43m_force_outplace\u001b[49m\u001b[43m,\u001b[49m\n\u001b[0;32m   1285\u001b[0m \u001b[43m        \u001b[49m\u001b[43margument_names\u001b[49m\u001b[43m,\u001b[49m\n\u001b[0;32m   1286\u001b[0m \u001b[43m        \u001b[49m\u001b[43m_store_inputs\u001b[49m\u001b[43m,\u001b[49m\n\u001b[0;32m   1287\u001b[0m \u001b[43m    \u001b[49m\u001b[43m)\u001b[49m\n\u001b[0;32m   1289\u001b[0m check_trace_method \u001b[38;5;241m=\u001b[39m module\u001b[38;5;241m.\u001b[39m_c\u001b[38;5;241m.\u001b[39m_get_method(method_name)\n\u001b[0;32m   1291\u001b[0m \u001b[38;5;66;03m# Check the trace against new traces created from user-specified inputs\u001b[39;00m\n",
      "\u001b[1;31mRuntimeError\u001b[0m: Only tensors, lists, tuples of tensors, or dictionary of tensors can be output from traced functions"
     ]
    }
   ],
   "source": [
    "solver_jit = torch.jit.trace(solver, example_inputs=(F, Gz, B_low, B_high, resonance_frequency, baseline_sigh, deriv_max), optimize=True)"
   ]
  },
  {
   "cell_type": "code",
   "execution_count": 428,
   "id": "f20dc39c-81e3-460e-a2f1-dbd0898272dc",
   "metadata": {
    "tags": []
   },
   "outputs": [
    {
     "name": "stdout",
     "output_type": "stream",
     "text": [
      "0.0001830564909998793\n"
     ]
    }
   ],
   "source": [
    "with torch.no_grad():\n",
    "    start_time = time.perf_counter()\n",
    "    for _ in range(100):\n",
    "        out = solver_jit(F, Gz, B_low, B_high, resonance_frequency, baseline_sigh, deriv_max)\n",
    "end_time = time.perf_counter()\n",
    "print( (end_time - start_time) / (100 * 1_000))"
   ]
  },
  {
   "cell_type": "code",
   "execution_count": 437,
   "id": "01c70082-b6a2-42de-8f1c-ceca8478d9b4",
   "metadata": {
    "tags": []
   },
   "outputs": [
    {
     "name": "stdout",
     "output_type": "stream",
     "text": [
      "0.00017666233399999328\n"
     ]
    }
   ],
   "source": [
    "with torch.no_grad():\n",
    "    start_time = time.perf_counter()\n",
    "    for _ in range(100):\n",
    "        out = solver(F, Gz, B_low, B_high, resonance_frequency, baseline_sigh, deriv_max)\n",
    "end_time = time.perf_counter()\n",
    "print( (end_time - start_time) / (100 * 1_000))"
   ]
  },
  {
   "cell_type": "code",
   "execution_count": null,
   "id": "e6066472-7e08-4ac9-a662-8cb0455a086b",
   "metadata": {
    "tags": []
   },
   "outputs": [],
   "source": [
    "import time\n",
    "\n",
    "\n",
    "def pergorm_test(size, caller):\n",
    "    sample = caller(size)\n",
    "    freq = 9.8 * 1e9\n",
    "    res_filed_creator = ResFieldTestCtreator(freq, sample)\n",
    "    field = torch.linspace(0.2, 0.4, 100)\n",
    "    \n",
    "    with torch.no_grad():\n",
    "        start_time = time.perf_counter()\n",
    "        for _ in range(100):\n",
    "            out = res_filed_creator(sample, field)\n",
    "    end_time = time.perf_counter()\n",
    "    return (end_time - start_time) / (100 * 1_000)\n",
    "    \n",
    "\n",
    "def test_time():\n",
    "    mesh_size = [4, 10, 35]\n",
    "    sample_callers = {\"small\": _get_one_spin_system, \"mid\": _get_midium_system_anisotropy, \"large\": _get_large_spin_system}\n",
    "    for size in mesh_size:\n",
    "        for key, caller in sample_callers.items():\n",
    "            time_res= pergorm_test(size, caller)\n",
    "            print(f\"mesh_size {size},  caller: {key}   time_res  {time_res}  \\n\")\n",
    "            "
   ]
  },
  {
   "cell_type": "code",
   "execution_count": 290,
   "id": "6db3366f-6b12-4ae5-9279-059e85ba2f42",
   "metadata": {
    "tags": []
   },
   "outputs": [
    {
     "name": "stdout",
     "output_type": "stream",
     "text": [
      "mesh_size 4,  caller: small   time_res  6.041440999979386e-06  \n",
      "\n",
      "mesh_size 4,  caller: mid   time_res  1.8355890999955592e-05  \n",
      "\n",
      "mesh_size 4,  caller: large   time_res  1.5588530999957584e-05  \n",
      "\n",
      "mesh_size 10,  caller: small   time_res  4.959438999940175e-06  \n",
      "\n",
      "mesh_size 10,  caller: mid   time_res  1.705377699996461e-05  \n",
      "\n",
      "mesh_size 10,  caller: large   time_res  3.918790100011392e-05  \n",
      "\n",
      "mesh_size 35,  caller: small   time_res  4.962060999969253e-06  \n",
      "\n",
      "mesh_size 35,  caller: mid   time_res  1.7039685999916402e-05  \n",
      "\n",
      "mesh_size 35,  caller: large   time_res  0.0003020541170000797  \n",
      "\n"
     ]
    }
   ],
   "source": [
    "test_time()"
   ]
  },
  {
   "cell_type": "code",
   "execution_count": 83,
   "id": "e2f91c36-196b-45a9-8852-166c9c45ec60",
   "metadata": {
    "tags": []
   },
   "outputs": [
    {
     "name": "stdout",
     "output_type": "stream",
     "text": [
      "mesh_size 4,  caller: small   time_res  5.523212999978568e-06  \n",
      "\n",
      "mesh_size 4,  caller: mid   time_res  1.7080153999850153e-05  \n",
      "\n",
      "mesh_size 4,  caller: large   time_res  1.5484939999878408e-05  \n",
      "\n",
      "mesh_size 10,  caller: small   time_res  5.237669000052847e-06  \n",
      "\n",
      "mesh_size 10,  caller: mid   time_res  1.6853238999901805e-05  \n",
      "\n",
      "mesh_size 10,  caller: large   time_res  3.927236599993193e-05  \n",
      "\n",
      "mesh_size 35,  caller: small   time_res  5.343236000044271e-06  \n",
      "\n",
      "mesh_size 35,  caller: mid   time_res  1.663185400015209e-05  \n",
      "\n",
      "mesh_size 35,  caller: large   time_res  0.00028711276099988026  \n",
      "\n"
     ]
    }
   ],
   "source": [
    "test_time()"
   ]
  },
  {
   "cell_type": "code",
   "execution_count": 90,
   "id": "15f98377-9951-490e-8c99-5cde0c50fbf3",
   "metadata": {
    "tags": []
   },
   "outputs": [
    {
     "name": "stdout",
     "output_type": "stream",
     "text": [
      "mesh_size 4,  caller: small   time_res  5.451970000285655e-06  \n",
      "\n",
      "mesh_size 4,  caller: mid   time_res  1.7488123000075575e-05  \n",
      "\n",
      "mesh_size 4,  caller: large   time_res  1.6060929000086618e-05  \n",
      "\n",
      "mesh_size 10,  caller: small   time_res  5.257455999962985e-06  \n",
      "\n",
      "mesh_size 10,  caller: mid   time_res  1.7043966999917758e-05  \n",
      "\n",
      "mesh_size 10,  caller: large   time_res  3.940499200019986e-05  \n",
      "\n",
      "mesh_size 35,  caller: small   time_res  5.384164999995846e-06  \n",
      "\n",
      "mesh_size 35,  caller: mid   time_res  1.7212063999904786e-05  \n",
      "\n",
      "mesh_size 35,  caller: large   time_res  0.0002808384050001041  \n",
      "\n"
     ]
    }
   ],
   "source": [
    "test_time()"
   ]
  },
  {
   "cell_type": "code",
   "execution_count": 34,
   "id": "36a3fcf3-323e-4895-9a38-809a86c58a9d",
   "metadata": {
    "tags": []
   },
   "outputs": [],
   "source": [
    "data = torch.randn(100, 4, 200, 200)\n",
    "idx_true = torch.randint(100, (50, ))\n",
    "idx_false = torch.randint(100, (50, ))"
   ]
  },
  {
   "cell_type": "code",
   "execution_count": 35,
   "id": "0dbac8ca-b8a0-4710-a924-5f8759ed049a",
   "metadata": {
    "tags": []
   },
   "outputs": [],
   "source": [
    "def vers_1():\n",
    "    data_true = data.index_select(dim=0, index=idx_true)\n",
    "    data_false = data.index_select(dim=0, index=idx_false)\n",
    "    return data_true, data_false\n",
    "    \n",
    "def vers_2():\n",
    "    idx = torch.cat((idx_true, idx_false), dim=0)\n",
    "    reordered = data.index_select(dim=0, index=idx)\n",
    "    n_true = idx_true.shape[0]\n",
    "    data_1 = reordered[:n_true]\n",
    "    data_2 = reordered[n_true:]  \n",
    "    return data_1, data_2\n",
    "    "
   ]
  },
  {
   "cell_type": "code",
   "execution_count": 64,
   "id": "842940db-1dae-4ac3-96ce-c6cfc6dc4fb9",
   "metadata": {
    "tags": []
   },
   "outputs": [],
   "source": [
    "e_1 = particles.Electron(spin=0.5)\n",
    "e_2 = particles.Electron(spin=1.5)\n",
    "g_1 = spin_system.Interaction((2, 2.0, 2.0))\n",
    "g_2 = spin_system.Interaction((2, 2.0, 2.0))\n",
    "\n",
    "J = constants.unit_converter(123, \"Hz_to_K\")\n",
    "\n",
    "ee = spin_system.Interaction(J)\n",
    "zer = spin_system.Interaction(J)\n",
    "\n",
    "\n",
    "system = spin_system.SpinSystem([e_1, e_2], g_tensors=(g_1, g_2), electron_electron=[(0, 1, ee), (0, 0, zer)])\n",
    "sample = spin_system.MultiOrientedSample(system)\n"
   ]
  },
  {
   "cell_type": "code",
   "execution_count": 65,
   "id": "ff2a5e45-0152-4708-9ced-423d293540ac",
   "metadata": {
    "tags": []
   },
   "outputs": [
    {
     "ename": "TypeError",
     "evalue": "SpinSystem.__init__() missing 2 required positional arguments: 'electrons' and 'g_tensors'",
     "output_type": "error",
     "traceback": [
      "\u001b[1;31m---------------------------------------------------------------------------\u001b[0m",
      "\u001b[1;31mTypeError\u001b[0m                                 Traceback (most recent call last)",
      "Cell \u001b[1;32mIn[65], line 1\u001b[0m\n\u001b[1;32m----> 1\u001b[0m \u001b[43mspin_system\u001b[49m\u001b[38;5;241;43m.\u001b[39;49m\u001b[43mSpinSystem\u001b[49m\u001b[43m(\u001b[49m\u001b[43m)\u001b[49m\n",
      "\u001b[1;31mTypeError\u001b[0m: SpinSystem.__init__() missing 2 required positional arguments: 'electrons' and 'g_tensors'"
     ]
    }
   ],
   "source": [
    "spin_system.SpinSystem()"
   ]
  },
  {
   "cell_type": "code",
   "execution_count": 66,
   "id": "f2b9ffaf-a4ec-4eca-ba2b-3dc77d49a38e",
   "metadata": {
    "tags": []
   },
   "outputs": [],
   "source": [
    "def build_sample(\n",
    "    J, g_cu_chain, g_cu_branching, orient_side, orient_up, mesh, gauss, lorentz\n",
    ") -> spin_system.MultiOrientedSample:\n",
    "\n",
    "        # g-tensor components\n",
    "        g_cu_chain_tensor = torch.tensor(g_cu_chain)\n",
    "        g1_frame = orient_side\n",
    "        zeem_chain = spin_system.Interaction(\n",
    "            g_cu_chain_tensor, g1_frame)\n",
    "        \n",
    "        g_cu_branching = torch.tensor(g_cu_branching)\n",
    "        orient_up = orient_up\n",
    "        zeem_branching = spin_system.Interaction(g_cu_branching, orient_up)\n",
    "        \n",
    "        e_chain = particles.Electron(spin=0.5)\n",
    "        e_branching = particles.Electron(spin=0.5)\n",
    "        \n",
    "        J = 2 * J # Because 2 S1 S2\n",
    "        J = (J * 100) * 3 * 1e8\n",
    "        J = torch.full((3,), J)\n",
    "        d_frame = torch.zeros(3)\n",
    "        ee_int_chain = spin_system.Interaction(J, d_frame, torch.zeros(3))\n",
    "        \n",
    "        system = spin_system.SpinSystem(\n",
    "            electrons=[e_chain, e_branching],\n",
    "            g_tensors=[zeem_chain, zeem_branching],\n",
    "            electron_electron=[\n",
    "                (0, 1, ee_int_chain)\n",
    "            ]\n",
    "        )\n",
    "\n",
    "        # Homogeneity strain\n",
    "        \n",
    "        return system, spin_system.MultiOrientedSample(system, torch.tensor([0, 4e8, 0.0]), gauss, lorentz, mesh)"
   ]
  },
  {
   "cell_type": "code",
   "execution_count": 67,
   "id": "b6d0cc1e-019b-4cdf-93e4-e306abe3bb7c",
   "metadata": {
    "tags": []
   },
   "outputs": [],
   "source": [
    "orien_side_up = torch.tensor(\n",
    "    [\n",
    "        [0.8859114, 0.0008034, 0.4638538],\n",
    "        [0.0005397, -0.9999996, 0.0007013],\n",
    "        [0.4638541, -0.000371, -0.8859115],]\n",
    ")\n",
    "\n",
    "orien_chain_left = torch.tensor(\n",
    "    [\n",
    "        [0.744169, 0.4552341, -0.4888501],\n",
    "        [0.3236334, -0.8859029, -0.3323212],\n",
    "        [-0.5843577, 0.0890949, -0.8065904]\n",
    "    ]\n",
    ")\n",
    "\n",
    "\n",
    "J = -0.02\n",
    "g_cu_chain = [2.0, 2.1, 2.2]\n",
    "g_cu_branching = [2.3, 2.14, 2.17]\n",
    "gauss = torch.tensor(0.0)\n",
    "lorentz = torch.tensor(0.01)\n",
    "mesh = mesher.DelaunayMeshNeighbour(phi_limits = (0, 2* np.pi),\n",
    "                                    initial_grid_frequency=35,\n",
    "                                    interpolate=False)\n",
    "\n",
    "#mesh = mesher.CrystalMesh(torch.tensor([[0.0, 0.0, 0.0], [0.0, 1.1, 0.0]]))\n",
    "\n",
    "system, sample = build_sample(J, g_cu_chain, g_cu_branching, orien_side_up, orien_chain_left, mesh, gauss, lorentz)\n"
   ]
  },
  {
   "cell_type": "code",
   "execution_count": 68,
   "id": "e37bcaa5-45c2-46df-b2ec-19800ce727ee",
   "metadata": {
    "tags": []
   },
   "outputs": [
    {
     "data": {
      "text/plain": [
       "[<matplotlib.lines.Line2D at 0x223d838e7a0>]"
      ]
     },
     "execution_count": 68,
     "metadata": {},
     "output_type": "execute_result"
    },
    {
     "data": {
      "image/png": "[encoded data removed]",
      "text/plain": [
       "<Figure size 640x480 with 1 Axes>"
      ]
     },
     "metadata": {},
     "output_type": "display_data"
    }
   ],
   "source": [
    "fields_1 = torch.linspace(0.9, 1.5, 1_000)\n",
    "freq = torch.tensor(38 * 1e9)\n",
    "temp = 0.1\n",
    "spec_creat = spectra_manager.StationarySpectraCreator(freq, sample, temperature=temp)\n",
    "with torch.no_grad():\n",
    "    spec_1 = spec_creat(sample, fields_1)\n",
    "    \n",
    "plt.plot(fields_1.numpy(), spec_1.numpy())"
   ]
  },
  {
   "cell_type": "code",
   "execution_count": 69,
   "id": "f8a7aadf-c8eb-4885-98f9-74862432c6ad",
   "metadata": {
    "tags": []
   },
   "outputs": [
    {
     "data": {
      "text/plain": [
       "[<matplotlib.lines.Line2D at 0x223d82b4280>]"
      ]
     },
     "execution_count": 69,
     "metadata": {},
     "output_type": "execute_result"
    },
    {
     "data": {
      "image/png": "[encoded data removed]",
      "text/plain": [
       "<Figure size 640x480 with 1 Axes>"
      ]
     },
     "metadata": {},
     "output_type": "display_data"
    }
   ],
   "source": [
    "fields_1 = torch.linspace(0.9, 1.5, 200)\n",
    "freq = torch.tensor(38 * 1e9)\n",
    "temp = 0.1\n",
    "spec_creat = spectra_manager.StationarySpectraCreator(freq, sample, temperature=temp)\n",
    "with torch.no_grad():\n",
    "    spec_1 = spec_creat(sample, fields_1)\n",
    "    \n",
    "plt.plot(fields_1.numpy(), spec_1.numpy())"
   ]
  },
  {
   "cell_type": "code",
   "execution_count": 775,
   "id": "a223f144-a583-4332-94fc-2e3788b7434a",
   "metadata": {
    "tags": []
   },
   "outputs": [],
   "source": [
    "save_procedures.save(\"example.mat\", sample, spec_creat, fields_1, \"easyspin\")\n",
    "sample, fields_1, spec_creat = save_procedures.load(\"example.mat\", \"easyspin\").values()"
   ]
  },
  {
   "cell_type": "code",
   "execution_count": 776,
   "id": "e8b38675-fa9f-47a8-8a4e-3307eaaa6ae9",
   "metadata": {
    "tags": []
   },
   "outputs": [
    {
     "name": "stdout",
     "output_type": "stream",
     "text": [
      "============================================================\n",
      "SPIN SYSTEM SUMMARY\n",
      "============================================================\n",
      "\n",
      "PARTICLES:\n",
      "--------------------\n",
      "Electrons (2):\n",
      "  e0: S=0.5\n",
      "  e1: S=0.5\n",
      "\n",
      "Nuclei: None\n",
      "\n",
      "SYSTEM PROPERTIES:\n",
      "--------------------\n",
      "Hilbert space dimension: 4\n",
      "Configuration shape: ()\n",
      "\n",
      "INTERACTIONS (1 total):\n",
      "------------------------------\n",
      "\n",
      "Electron-Electron (1):\n",
      "  1. e0 ↔ e1:\n",
      "      Principal values: [-1200000000.0000, -1200000000.0000, -1200000000.0000]\n",
      "      Frame (Euler angles): [α=0.000, β=0.000, γ=0.000] rad\n",
      "      Strain: None\n",
      "\n",
      "============================================================\n",
      "\n",
      "============================================================\n",
      "GENERAL INFO: \n",
      "============================================================\n",
      "lorentz: 0.009999999776482582\n",
      "gauss: 0.0\n",
      "gauss: tensor([[0.0000e+00, 0.0000e+00, 4.0000e+08]])\n"
     ]
    }
   ],
   "source": [
    "print(sample)"
   ]
  },
  {
   "cell_type": "code",
   "execution_count": 705,
   "id": "2d6dbb1f-702e-4ff3-8793-4167c5dedea4",
   "metadata": {
    "tags": []
   },
   "outputs": [
    {
     "ename": "TypeError",
     "evalue": "'str' object is not callable",
     "output_type": "error",
     "traceback": [
      "\u001b[1;31m---------------------------------------------------------------------------\u001b[0m",
      "\u001b[1;31mTypeError\u001b[0m                                 Traceback (most recent call last)",
      "Cell \u001b[1;32mIn[705], line 6\u001b[0m\n\u001b[0;32m      4\u001b[0m \u001b[38;5;28;01mfor\u001b[39;00m _ \u001b[38;5;129;01min\u001b[39;00m \u001b[38;5;28mrange\u001b[39m(\u001b[38;5;241m300\u001b[39m):\n\u001b[0;32m      5\u001b[0m     \u001b[38;5;28;01mwith\u001b[39;00m torch\u001b[38;5;241m.\u001b[39mno_grad():\n\u001b[1;32m----> 6\u001b[0m         spec_1 \u001b[38;5;241m=\u001b[39m \u001b[43mspec_creat\u001b[49m\u001b[43m(\u001b[49m\u001b[43msample\u001b[49m\u001b[43m,\u001b[49m\u001b[43m \u001b[49m\u001b[43mfields_1\u001b[49m\u001b[43m)\u001b[49m\n\u001b[0;32m      8\u001b[0m end_time \u001b[38;5;241m=\u001b[39m time\u001b[38;5;241m.\u001b[39mperf_counter()\n\u001b[0;32m      9\u001b[0m \u001b[38;5;28mprint\u001b[39m((end_time \u001b[38;5;241m-\u001b[39m start_time) \u001b[38;5;241m/\u001b[39m \u001b[38;5;241m100\u001b[39m \u001b[38;5;241m*\u001b[39m \u001b[38;5;241m1000\u001b[39m)\n",
      "\u001b[1;31mTypeError\u001b[0m: 'str' object is not callable"
     ]
    }
   ],
   "source": [
    "import time\n",
    "start_time = time.perf_counter()\n",
    "\n",
    "for _ in range(300):\n",
    "    with torch.no_grad():\n",
    "        spec_1 = spec_creat(sample, fields_1)\n",
    "        \n",
    "end_time = time.perf_counter()\n",
    "print((end_time - start_time) / 100 * 1000)"
   ]
  },
  {
   "cell_type": "code",
   "execution_count": null,
   "id": "9aa64415-d0f1-4be9-b820-9d07ca8f1e76",
   "metadata": {
    "tags": []
   },
   "outputs": [],
   "source": [
    "start_time = time.perf_counter()\n",
    "\n",
    "for _ in range(300):\n",
    "    with torch.no_grad():\n",
    "        spec_1 = spec_creat(sample, fields_1)\n",
    "        \n",
    "end_time = time.perf_counter()\n",
    "print((end_time - start_time) / 100 * 1000)"
   ]
  },
  {
   "cell_type": "code",
   "execution_count": 614,
   "id": "92497811-711a-4954-ab5c-5ea04cc886ed",
   "metadata": {
    "tags": []
   },
   "outputs": [],
   "source": [
    "from torch.profiler import profile, ProfilerActivity, record_function\n",
    "\n",
    "#with profile(activities=[ProfilerActivity.CPU], record_shapes=True) as prof:\n",
    "#    with record_function(\"model_inference\"):\n",
    "#        spec_1 = spec_creat(sample, freq, fields_1)"
   ]
  },
  {
   "cell_type": "code",
   "execution_count": null,
   "id": "c14ff393-aeb1-4ff3-b463-135a0ac4389f",
   "metadata": {
    "tags": []
   },
   "outputs": [],
   "source": [
    "#print(prof.key_averages().table(sort_by=\"cpu_time_total\", row_limit=10))"
   ]
  },
  {
   "cell_type": "code",
   "execution_count": 208,
   "id": "c03f490d-ff0b-482f-9c08-a60b8d9fc5ae",
   "metadata": {
    "tags": []
   },
   "outputs": [
    {
     "data": {
      "text/plain": [
       "[<matplotlib.lines.Line2D at 0x2222bb53850>]"
      ]
     },
     "execution_count": 208,
     "metadata": {},
     "output_type": "execute_result"
    },
    {
     "data": {
      "image/png": "[encoded data removed]",
      "text/plain": [
       "<Figure size 640x480 with 1 Axes>"
      ]
     },
     "metadata": {},
     "output_type": "display_data"
    }
   ],
   "source": [
    "reload(spectra_manager)\n",
    "reload(spin_system)\n",
    "reload(res_field_algorithm)\n",
    "\n",
    "fields_2 = torch.linspace(1.10, 1.4, 4400)\n",
    "freq = torch.tensor(38 * 1e9)\n",
    "temp = 0.1\n",
    "spec_creat = spectra_manager.StationarySpectraCreator(freq, sample, temperature=temp)\n",
    "with torch.no_grad():\n",
    "    spec_2 = spec_creat(sample, fields_2)\n",
    "    \n",
    "plt.plot(fields_2.numpy(), spec_2.numpy())"
   ]
  },
  {
   "cell_type": "code",
   "execution_count": 209,
   "id": "331a079a-8ce0-487f-bb2f-c5ff4ed95ace",
   "metadata": {
    "tags": []
   },
   "outputs": [
    {
     "data": {
      "text/plain": [
       "[<matplotlib.lines.Line2D at 0x2222bbf04c0>]"
      ]
     },
     "execution_count": 209,
     "metadata": {},
     "output_type": "execute_result"
    },
    {
     "data": {
      "image/png": "[encoded data removed]",
      "text/plain": [
       "<Figure size 640x480 with 1 Axes>"
      ]
     },
     "metadata": {},
     "output_type": "display_data"
    }
   ],
   "source": [
    "plt.plot(fields_1.numpy()[400:-400], spec_1.numpy()[400:-400])\n",
    "plt.plot(fields_2.numpy(), spec_2.numpy())"
   ]
  },
  {
   "cell_type": "code",
   "execution_count": 154,
   "id": "7d7c2202-c46e-4f86-b6e8-a10499f9ab1e",
   "metadata": {},
   "outputs": [],
   "source": [
    "mesh = mesher.DelaunayMeshNeighbour(phi_limits = (0, 1.999 * np.pi),\n",
    "                                    initial_grid_frequency=4,\n",
    "                                    interpolate=False)\n",
    "\n",
    "vertices, triangles = mesh.post_mesh\n",
    "areas = mesh.spherical_triangle_areas(vertices, triangles)"
   ]
  },
  {
   "cell_type": "code",
   "execution_count": 504,
   "id": "76873f6c-d7bb-49e5-808e-046e8d6e3fb8",
   "metadata": {
    "tags": []
   },
   "outputs": [],
   "source": [
    "def rotation_matrix_to_zyz_euler(R):\n",
    "    \"\"\"\n",
    "    Convert a 3x3 rotation matrix to ZYZ Euler angles.\n",
    "    \n",
    "    Args:\n",
    "        R (torch.Tensor): 3x3 rotation matrix\n",
    "    \n",
    "    Returns:\n",
    "        tuple: (alpha, beta, gamma) in radians\n",
    "               alpha: rotation around Z-axis (first)\n",
    "               beta: rotation around Y-axis (middle) \n",
    "               gamma: rotation around Z-axis (last)\n",
    "    \"\"\"\n",
    "    # Extract elements from rotation matrix\n",
    "    r11, r12, r13 = R[0, 0], R[0, 1], R[0, 2]\n",
    "    r21, r22, r23 = R[1, 0], R[1, 1], R[1, 2]\n",
    "    r31, r32, r33 = R[2, 0], R[2, 1], R[2, 2]\n",
    "    \n",
    "    # Calculate beta (middle rotation around Y-axis)\n",
    "    beta = torch.acos(torch.clamp(r33, -1.0, 1.0))\n",
    "    \n",
    "    # Check for singularities\n",
    "    sin_beta = torch.sin(beta)\n",
    "    \n",
    "    if torch.abs(sin_beta) > 1e-6:  # Non-singular case\n",
    "        # Calculate alpha (first rotation around Z-axis)\n",
    "        alpha = torch.atan2(r23, r13)\n",
    "        \n",
    "        # Calculate gamma (last rotation around Z-axis)\n",
    "        gamma = torch.atan2(r32, -r31)\n",
    "    else:\n",
    "        # Singular case: beta ≈ 0 or π\n",
    "        if torch.abs(beta) < 1e-6:  # beta ≈ 0\n",
    "            # When beta ≈ 0, only alpha + gamma is determined\n",
    "            alpha = torch.atan2(r12, r11)\n",
    "            gamma = torch.tensor(0.0, dtype=R.dtype, device=R.device)\n",
    "        else:  # beta ≈ π\n",
    "            # When beta ≈ π, only alpha - gamma is determined\n",
    "            alpha = torch.atan2(-r12, r11)\n",
    "            gamma = torch.tensor(0.0, dtype=R.dtype, device=R.device)\n",
    "    \n",
    "    return alpha, beta, gamma"
   ]
  },
  {
   "cell_type": "code",
   "execution_count": 507,
   "id": "e74471c4-217d-40f0-a289-559414b44df8",
   "metadata": {
    "tags": []
   },
   "outputs": [],
   "source": [
    "a, b, gamma = rotation_matrix_to_zyz_euler(system.g_tensors[0].frame)"
   ]
  },
  {
   "cell_type": "code",
   "execution_count": 509,
   "id": "88d49bb1-86db-4c25-b66c-c5dac89897ac",
   "metadata": {
    "tags": []
   },
   "outputs": [
    {
     "data": {
      "text/plain": [
       "tensor([[ 8.8591e-01,  8.0340e-04,  4.6385e-01],\n",
       "        [ 5.3970e-04, -1.0000e+00,  7.0130e-04],\n",
       "        [ 4.6385e-01, -3.7100e-04, -8.8591e-01]])"
      ]
     },
     "execution_count": 509,
     "metadata": {},
     "output_type": "execute_result"
    }
   ],
   "source": [
    "system.g_tensors[0].frame"
   ]
  },
  {
   "cell_type": "code",
   "execution_count": 508,
   "id": "ee4885f1-7ce0-47a1-b12c-1f818c4944b1",
   "metadata": {
    "tags": []
   },
   "outputs": [
    {
     "data": {
      "text/plain": [
       "tensor([[[ 8.8591e-01,  8.0334e-04,  4.6385e-01],\n",
       "         [ 5.3960e-04, -1.0000e+00,  7.0130e-04],\n",
       "         [ 4.6385e-01, -3.7099e-04, -8.8591e-01]]])"
      ]
     },
     "execution_count": 508,
     "metadata": {},
     "output_type": "execute_result"
    }
   ],
   "source": [
    "utils.euler_angles_to_matrix(torch.tensor([a, b, gamma]))"
   ]
  },
  {
   "cell_type": "code",
   "execution_count": 1277,
   "id": "8764aa56-de37-46c0-b1bc-9a8e61c832bf",
   "metadata": {},
   "outputs": [],
   "source": [
    "zero_areas = (areas == 0).numpy()"
   ]
  },
  {
   "cell_type": "code",
   "execution_count": 1278,
   "id": "4398a363-2f6e-46f3-bf04-abb3c4df1f2b",
   "metadata": {},
   "outputs": [],
   "source": [
    "vertices_np = vertices.numpy()\n",
    "triangles_np = triangles.numpy()"
   ]
  },
  {
   "cell_type": "code",
   "execution_count": 1279,
   "id": "7cc8375d-fe93-4f73-bd2a-094f17dadb41",
   "metadata": {
    "tags": []
   },
   "outputs": [],
   "source": [
    "from matplotlib import pyplot as plt"
   ]
  },
  {
   "cell_type": "code",
   "execution_count": null,
   "id": "7e15f723-5049-40f4-af53-bc3c22cdbbe3",
   "metadata": {
    "tags": []
   },
   "outputs": [],
   "source": [
    "plt.triplot(vertices_np[:, 0], vertices_np[:, 1], triangles.numpy()[zero_areas])"
   ]
  },
  {
   "cell_type": "code",
   "execution_count": null,
   "id": "fb3041a7-a222-4674-a48e-d2a3833bd66d",
   "metadata": {},
   "outputs": [
    {
     "data": {
      "text/plain": [
       "array([[0.        , 0.        ],\n",
       "       [0.        , 0.62831855],\n",
       "       [6.2800436 , 0.62831855],\n",
       "       [0.        , 0.9424778 ],\n",
       "       [3.1400218 , 0.9424778 ],\n",
       "       [6.2800436 , 0.9424778 ],\n",
       "       [0.        , 1.2566371 ],\n",
       "       [2.0933478 , 1.2566371 ],\n",
       "       [4.1866956 , 1.2566371 ],\n",
       "       [6.2800436 , 1.2566371 ],\n",
       "       [0.        , 1.5707964 ],\n",
       "       [1.5700109 , 1.5707964 ],\n",
       "       [3.1400218 , 1.5707964 ],\n",
       "       [4.710033  , 1.5707964 ],\n",
       "       [6.2800436 , 1.5707964 ]], dtype=float32)"
      ]
     },
     "execution_count": 1203,
     "metadata": {},
     "output_type": "execute_result"
    }
   ],
   "source": [
    "vertices_np"
   ]
  },
  {
   "cell_type": "code",
   "execution_count": null,
   "id": "bf298e19-9c6c-4771-936b-455e32c8a477",
   "metadata": {},
   "outputs": [],
   "source": [
    "    def spherical_triangle_areas(vertices: torch.Tensor, triangles: torch.Tensor):\n",
    "        \"\"\"\n",
    "        vertices: tensor of shape (N,2), each row is [phi, theta]\n",
    "        triangles: tensor of shape (M,3) with indices into vertices defining the triangles.\n",
    "\n",
    "        Returns:\n",
    "           areas: tensor of shape (M,) with the spherical areas of the triangles (for unit sphere).\n",
    "                  For a sphere of radius R, multiply each area by R**2.\n",
    "        \"\"\"\n",
    "        def _angle_between(u, v):\n",
    "            dot = (u * v).sum(dim=1)\n",
    "            dot = torch.clamp(dot, -1.0, 1.0)\n",
    "            return torch.acos(dot)\n",
    "        phi = vertices[:, 0]\n",
    "        theta = vertices[:, 1]\n",
    "        \n",
    "\n",
    "        x = torch.sin(theta) * torch.cos(phi)\n",
    "        y = torch.sin(theta) * torch.sin(phi)\n",
    "        z = torch.cos(theta)\n",
    "        xyz = torch.stack([x, y, z], dim=1)\n",
    "\n",
    "        v0 = xyz[triangles[:, 0]]\n",
    "        v1 = xyz[triangles[:, 1]]\n",
    "        v2 = xyz[triangles[:, 2]]\n",
    "\n",
    "        a = _angle_between(v1, v2)\n",
    "        b = _angle_between(v2, v0)\n",
    "        c = _angle_between(v0, v1)\n",
    "\n",
    "        s = (a + b + c) / 2\n",
    "\n",
    "        # L'Huilier's formula for spherical excess\n",
    "        tan_E_4 = torch.sqrt(\n",
    "            torch.clamp(\n",
    "                torch.tan(s / 2) * torch.tan((s - a) / 2) * torch.tan((s - b) / 2) * torch.tan((s - c) / 2),\n",
    "                min=0.0\n",
    "            )\n",
    "        )\n",
    "\n",
    "        excess = 4 * torch.atan(tan_E_4)\n",
    "        return excess"
   ]
  },
  {
   "cell_type": "code",
   "execution_count": 16,
   "id": "412c202f-9868-4eab-90e3-865988a18bbe",
   "metadata": {
    "tags": []
   },
   "outputs": [],
   "source": [
    "import torch\n",
    "from typing import List, Optional\n",
    "\n",
    "import torch\n",
    "from typing import List\n",
    "\n",
    "import torch\n",
    "from typing import List, Optional\n",
    "\n",
    "def split_positions_unique(idx: torch.Tensor, num_buckets: Optional[int] = None) -> List[torch.Tensor]:\n",
    "    if idx.numel() == 0:\n",
    "        return []\n",
    "    if idx.dim() != 1:\n",
    "        raise ValueError(\"idx must be a 1D tensor\")\n",
    "    \n",
    "    # Get unique values, inverse indices, and counts\n",
    "    u, inverse, counts = torch.unique(idx, return_inverse=True, return_counts=True)\n",
    "    max_count = counts.max().item()\n",
    "    if num_buckets is None:\n",
    "        num_buckets = max_count\n",
    "    if num_buckets < max_count:\n",
    "        raise ValueError(f\"num_buckets ({num_buckets}) < required minimal buckets ({max_count})\")\n",
    "    \n",
    "    # Compute group start indices\n",
    "    group_start = torch.cat([torch.tensor([0], device=idx.device), counts.cumsum(0)[:-1]])\n",
    "    \n",
    "    # Sort indices by inverse and compute occurrence index\n",
    "    sorted_indices = torch.argsort(inverse)\n",
    "    sorted_inverse = inverse[sorted_indices]\n",
    "    occurrence_index_sorted = torch.arange(len(idx), device=idx.device) - group_start[sorted_inverse]\n",
    "    occurrence_index = torch.empty_like(occurrence_index_sorted)\n",
    "    occurrence_index[sorted_indices] = occurrence_index_sorted\n",
    "    \n",
    "    # Group indices by occurrence index using bincount and split\n",
    "    counts_per_bucket = torch.bincount(occurrence_index, minlength=num_buckets)\n",
    "    sorted_by_bucket = torch.argsort(occurrence_index)\n",
    "    buckets_tensors = torch.split(sorted_by_bucket, counts_per_bucket.tolist())\n",
    "    \n",
    "    return list(buckets_tensors)"
   ]
  },
  {
   "cell_type": "code",
   "execution_count": 19,
   "id": "a4fb4412-9d1b-42dd-82bc-607c0e67d07a",
   "metadata": {
    "tags": []
   },
   "outputs": [],
   "source": [
    "indexes = torch.tensor([1,2,3,4,5,6,1,2,3,4,5,1,1,2,3,4,56])\n",
    "sub_indexes = split_positions_unique(indexes)"
   ]
  },
  {
   "cell_type": "code",
   "execution_count": null,
   "id": "96ed7541-6497-4419-afc4-403b4cc18996",
   "metadata": {
    "tags": []
   },
   "outputs": [],
   "source": [
    "indexes.select_indexes(sub_indexes)"
   ]
  },
  {
   "cell_type": "code",
   "execution_count": 2,
   "id": "1ba2c62b-ac91-42af-8b62-620ed2210070",
   "metadata": {},
   "outputs": [],
   "source": [
    "import torch"
   ]
  },
  {
   "cell_type": "code",
   "execution_count": 4,
   "id": "4d1ec003-0bb2-4081-99c3-f4a2393f8853",
   "metadata": {
    "tags": []
   },
   "outputs": [],
   "source": [
    "delta = torch.tensor(2*3.14 / 6)"
   ]
  },
  {
   "cell_type": "code",
   "execution_count": 5,
   "id": "1db8eba5-441f-43e7-a77b-c4f95514caa1",
   "metadata": {
    "tags": []
   },
   "outputs": [],
   "source": [
    "theta_1 = torch.tensor(3.14 / 5)\n",
    "theta_2 = torch.tensor(3.14 / 8)"
   ]
  },
  {
   "cell_type": "code",
   "execution_count": 9,
   "id": "0d301cac-b04c-4ca4-80f3-0944a265791e",
   "metadata": {
    "tags": []
   },
   "outputs": [],
   "source": [
    "cos_a = torch.cos(theta_1).square() + torch.sin(theta_1).square() * torch.cos(delta)\n",
    "\n",
    "cos_c = torch.cos(theta_2).square() + torch.sin(theta_2).square() * torch.cos(delta)\n",
    "\n",
    "cos_b = torch.cos(theta_1) * torch.cos(theta_2) + torch.sin(theta_1) * torch.sin(theta_2) * torch.cos(delta / 2)"
   ]
  },
  {
   "cell_type": "code",
   "execution_count": 13,
   "id": "050f894c-fc2a-4388-a6f6-f3142f1878af",
   "metadata": {
    "tags": []
   },
   "outputs": [],
   "source": [
    "a, b, c = torch.acos(cos_a), torch.acos(cos_b), torch.acos(cos_c)"
   ]
  },
  {
   "cell_type": "code",
   "execution_count": 141,
   "id": "0cade791-405c-4547-8b86-e749126c3b19",
   "metadata": {
    "tags": []
   },
   "outputs": [],
   "source": [
    "def _get_L(n, m):\n",
    "    return (2 * n - 1) * m + m*(m-1)/2"
   ]
  },
  {
   "cell_type": "code",
   "execution_count": null,
   "id": "2978229b-45dd-4379-83e2-351711dc6b4b",
   "metadata": {
    "tags": []
   },
   "outputs": [],
   "source": [
    "n = 3\n",
    "m = 5\n",
    "L = _get_L(n, m)\n",
    "factors = [0] + [((2 * (n + k) - 1) / L) for k in  range(1, m)]"
   ]
  },
  {
   "cell_type": "code",
   "execution_count": 153,
   "id": "c5015211-5b4e-40b1-8a28-6cb53bafb760",
   "metadata": {
    "tags": []
   },
   "outputs": [],
   "source": [
    "a = torch.tensor([1,2,3])"
   ]
  },
  {
   "cell_type": "code",
   "execution_count": 154,
   "id": "70fc9e3b-f921-4d30-883a-5f28ead88371",
   "metadata": {
    "tags": []
   },
   "outputs": [
    {
     "data": {
      "text/plain": [
       "tensor([1])"
      ]
     },
     "execution_count": 154,
     "metadata": {},
     "output_type": "execute_result"
    }
   ],
   "source": [
    "a[:1]"
   ]
  },
  {
   "cell_type": "code",
   "execution_count": 155,
   "id": "1a2fca4f-3235-4e57-9867-1ba03c1ced35",
   "metadata": {
    "tags": []
   },
   "outputs": [
    {
     "data": {
      "text/plain": [
       "tensor([2, 3])"
      ]
     },
     "execution_count": 155,
     "metadata": {},
     "output_type": "execute_result"
    }
   ],
   "source": [
    "a[1:]"
   ]
  },
  {
   "cell_type": "code",
   "execution_count": 156,
   "id": "ebc148ee-310d-47d7-a359-d9f20fa8f9e0",
   "metadata": {
    "tags": []
   },
   "outputs": [
    {
     "data": {
      "text/plain": [
       "[1, 2, 3]"
      ]
     },
     "execution_count": 156,
     "metadata": {},
     "output_type": "execute_result"
    }
   ],
   "source": [
    "a.tolist()"
   ]
  },
  {
   "cell_type": "code",
   "execution_count": 179,
   "id": "12223934-c7e4-438e-9b21-af2cbd81a176",
   "metadata": {
    "tags": []
   },
   "outputs": [
    {
     "data": {
      "text/plain": [
       "tensor([4, 3, 2, 3, 4, 0])"
      ]
     },
     "execution_count": 179,
     "metadata": {},
     "output_type": "execute_result"
    }
   ],
   "source": [
    "idx"
   ]
  },
  {
   "cell_type": "code",
   "execution_count": 180,
   "id": "1ae64710-d1ab-421f-b2ab-81c682e3124d",
   "metadata": {
    "tags": []
   },
   "outputs": [],
   "source": [
    "idx_1 = torch.randint(5, (2, ))\n",
    "idx_2 = torch.randint(5, (4, ))\n",
    "idx = torch.cat((idx_1, idx_2), dim=0)\n",
    "\n",
    "a = torch.randn(5, 100, 20)\n",
    "a = a.index_select(dim=0, index=idx)\n",
    "n = idx_1.numel()"
   ]
  },
  {
   "cell_type": "code",
   "execution_count": 181,
   "id": "163822ac-15b3-4452-9818-76ff9524096c",
   "metadata": {
    "tags": []
   },
   "outputs": [
    {
     "data": {
      "text/plain": [
       "(torch.Size([2, 100, 20]), torch.Size([4, 100, 20]))"
      ]
     },
     "execution_count": 181,
     "metadata": {},
     "output_type": "execute_result"
    }
   ],
   "source": [
    "a[:n].shape, a[n:].shape"
   ]
  },
  {
   "cell_type": "code",
   "execution_count": 58,
   "id": "5e12ca81-87f5-48ca-876e-d2c882465dd8",
   "metadata": {
    "tags": []
   },
   "outputs": [],
   "source": [
    "idx = torch.tensor([], dtype=torch.long)"
   ]
  },
  {
   "cell_type": "code",
   "execution_count": 43,
   "id": "fb6a6ecf-f2ce-412c-9045-081b73cf7306",
   "metadata": {
    "tags": []
   },
   "outputs": [],
   "source": [
    "idx = torch.tensor([2,3,4])\n",
    "min_idx = idx[0]\n",
    "max_idx = idx[1]"
   ]
  },
  {
   "cell_type": "code",
   "execution_count": 55,
   "id": "852d4b9b-bc50-42b2-95c9-b2f40ceaa647",
   "metadata": {
    "tags": []
   },
   "outputs": [
    {
     "data": {
      "text/plain": [
       "torch.Size([3, 100, 20])"
      ]
     },
     "execution_count": 55,
     "metadata": {},
     "output_type": "execute_result"
    }
   ],
   "source": [
    "a[(min_idx-1):(max_idx+1)].shape"
   ]
  },
  {
   "cell_type": "code",
   "execution_count": 53,
   "id": "548b17b1-65f6-4d62-af91-af98bf51de90",
   "metadata": {
    "tags": []
   },
   "outputs": [
    {
     "data": {
      "text/plain": [
       "torch.Size([4, 100, 20])"
      ]
     },
     "execution_count": 53,
     "metadata": {},
     "output_type": "execute_result"
    }
   ],
   "source": [
    "a[1:].shape"
   ]
  },
  {
   "cell_type": "code",
   "execution_count": null,
   "id": "f3ea94eb-7fb3-4b4f-b43f-28870426da92",
   "metadata": {},
   "outputs": [],
   "source": []
  }
 ],
 "metadata": {
  "kernelspec": {
   "display_name": "Python 3 (ipykernel)",
   "language": "python",
   "name": "python3"
  },
  "language_info": {
   "codemirror_mode": {
    "name": "ipython",
    "version": 3
   },
   "file_extension": ".py",
   "mimetype": "text/x-python",
   "name": "python",
   "nbconvert_exporter": "python",
   "pygments_lexer": "ipython3",
   "version": "3.10.9"
  }
 },
 "nbformat": 4,
 "nbformat_minor": 5
}
