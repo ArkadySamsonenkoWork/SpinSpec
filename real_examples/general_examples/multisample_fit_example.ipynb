{
 "cells": [
  {
   "cell_type": "code",
   "execution_count": 2,
   "id": "95e50ed1-6c84-48c5-9788-97fe71caf0dc",
   "metadata": {
    "tags": []
   },
   "outputs": [
    {
     "data": {
      "text/plain": [
       "<module 'optimization' from 'D:\\\\ITC\\\\РНФ_Курганский_2024\\\\pythonProject\\\\optimization\\\\__init__.py'>"
      ]
     },
     "execution_count": 2,
     "metadata": {},
     "output_type": "execute_result"
    }
   ],
   "source": [
    "import sys\n",
    "import os\n",
    "\n",
    "sys.path.append(os.path.abspath('D:\\ITC\\РНФ_Курганский_2024\\pythonProject'))\n",
    "\n",
    "import numpy as np\n",
    "import torch\n",
    "from torch import nn\n",
    "import math\n",
    "\n",
    "from scipy.spatial import Delaunay\n",
    "import matplotlib.pyplot as plt\n",
    "\n",
    "import spin_system, utils, particles, res_field_algorithm, constants, spectral_integration, mesher, spectra_manager, particles\n",
    "from visualization import levels_plot, transitions_plot\n",
    "from population import time_population, tr_utils, transform\n",
    "import population\n",
    "\n",
    "from importlib import reload\n",
    "\n",
    "from spectra_manager import TruncatedSpectraCreatorTimeResolved, PostSpectraProcessing,TimeResolvedIntensitiesCalculator, ParamSpec\n",
    "from spectral_integration import SpectraIntegratorEasySpinLikeTimeResolved, BaseSpectraIntegrator\n",
    "from reader import read_bruker_data\n",
    "from spectra_manager import BaseSpectraCreator\n",
    "import spectral_integration\n",
    "import optimization\n",
    "import spectra_processing\n",
    "\n",
    "reload(population)\n",
    "reload(optimization.fitter)\n",
    "reload(optimization.objectives)\n",
    "reload(time_population)\n",
    "reload(levels_plot)\n",
    "reload(transitions_plot)\n",
    "reload(tr_utils)\n",
    "reload(spectral_integration)\n",
    "reload(spectra_manager)\n",
    "reload(spin_system)\n",
    "reload(res_field_algorithm)\n",
    "reload(optimization)"
   ]
  },
  {
   "cell_type": "markdown",
   "id": "96e4f372-8bb5-49fd-81a0-3a621805bc1f",
   "metadata": {},
   "source": [
    "### ИЗВЛЕЧЁМ ЭКСПЕРЕМЕНТАЛЬНЫЕ СПЕКТРЫ"
   ]
  },
  {
   "cell_type": "code",
   "execution_count": 3,
   "id": "4c18fb65-c2ac-4c7f-9ec4-2562772d14b3",
   "metadata": {
    "tags": []
   },
   "outputs": [],
   "source": [
    "import os\n",
    "import re\n",
    "\n",
    "import os\n",
    "import re\n",
    "\n",
    "def extract_data(folder_path):\n",
    "    temperatures = []\n",
    "    file_paths = []\n",
    "    \n",
    "    # Convert p notation to decimal for temperatures\n",
    "    def parse_temp(temp_str):\n",
    "        if 'p' in temp_str:\n",
    "            parts = temp_str.split('p')\n",
    "            return float(parts[0]) + float(parts[1]) / 10**len(parts[1])\n",
    "        else:\n",
    "            # Remove 'K' suffix if present\n",
    "            temp_str = temp_str.rstrip('K')\n",
    "            return float(temp_str)\n",
    "    \n",
    "    # Regex pattern to match your filename format: KY3_{temp}_{attin}.DSC/.DTA\n",
    "    pattern = r'KY3_([^_]+)_[^_]+\\.(DSC)$'\n",
    "    \n",
    "    # Walk through the directory structure\n",
    "    for root, dirs, files in os.walk(folder_path):\n",
    "        for file in files:\n",
    "            # Use regex to extract temperature from filename\n",
    "            match = re.match(pattern, file)\n",
    "            if match:\n",
    "                temp_str = match.group(1)  # Extract the temperature part\n",
    "                try:\n",
    "                    temp = parse_temp(temp_str)\n",
    "                    temperatures.append(temp)\n",
    "                    file_paths.append(os.path.join(root, file))\n",
    "                except ValueError as e:\n",
    "                    print(f\"Could not parse temperature from {file}: {e}\")\n",
    "            else:\n",
    "                print(f\"File {file} does not match expected pattern\")\n",
    "    \n",
    "    return temperatures, file_paths"
   ]
  },
  {
   "cell_type": "code",
   "execution_count": 4,
   "id": "2e1852aa-e909-4c26-a1b0-6fb27bc553da",
   "metadata": {
    "tags": []
   },
   "outputs": [],
   "source": [
    "folder = r\"D:\\ITC\\Эксперементы_на_ЭПР_спектрометре\\2025_EPR\\Qband_Ksenia_2025_07_11\\Qband_Ksenia_2025_07_11\\KY3\\up\""
   ]
  },
  {
   "cell_type": "code",
   "execution_count": 5,
   "id": "6cb25c47-ddf1-4a26-bf9d-7c3d09c59c2d",
   "metadata": {
    "tags": []
   },
   "outputs": [
    {
     "name": "stdout",
     "output_type": "stream",
     "text": [
      "File KY3_107K_30dB.DTA does not match expected pattern\n",
      "File KY3_10K_35dB.DTA does not match expected pattern\n",
      "File KY3_113K_30dB.DTA does not match expected pattern\n",
      "File KY3_123K_30dB.DTA does not match expected pattern\n",
      "File KY3_136K_30dB.DTA does not match expected pattern\n",
      "File KY3_152K_30dB.DTA does not match expected pattern\n",
      "File KY3_175K_30dB.DTA does not match expected pattern\n",
      "File KY3_20K_30dB.DTA does not match expected pattern\n",
      "File KY3_210K_30dB.DTA does not match expected pattern\n",
      "File KY3_36K_30dB.DTA does not match expected pattern\n",
      "File KY3_4K_35dB.DTA does not match expected pattern\n",
      "File KY3_52K_30dB.DTA does not match expected pattern\n",
      "File KY3_67K_30dB.DTA does not match expected pattern\n",
      "File KY3_6K_35dB.DTA does not match expected pattern\n",
      "File KY3_80K_30dB.DTA does not match expected pattern\n",
      "File KY3_90K_30dB.DTA does not match expected pattern\n",
      "File KY3_96K_30dB.DTA does not match expected pattern\n"
     ]
    }
   ],
   "source": [
    "temperatures, file_paths = extract_data(folder)\n",
    "results = []\n",
    "for path in file_paths:\n",
    "    areas = ((0.0, 1.0), (1.35, 1.5))\n",
    "    meta, data = read_bruker_data(path)\n",
    "    x_values = data[\"x_values\"] / 1e4\n",
    "    data[\"x_values\"] = x_values\n",
    "    y_values = data[\"y_values\"]\n",
    "    y_values, _ = spectra_processing.correct_baseline(x_values, y_values, areas, poly_order=1)\n",
    "    y_values = y_values / max(y_values)\n",
    "    data[\"y_values\"] = y_values\n",
    "    results.append((meta, data))"
   ]
  },
  {
   "cell_type": "markdown",
   "id": "5ac1e7ef-1929-4861-9b06-1ab86a824d75",
   "metadata": {},
   "source": [
    "### Зададим спиновую систему"
   ]
  },
  {
   "cell_type": "markdown",
   "id": "71ab5286-d292-4630-8f68-a82d027fc2ba",
   "metadata": {},
   "source": [
    "Спиновая система - это три элетронных спина с разными g-тензорами. Один изотропный, и два анизотропных. При температруе порядка 100К в системе наблюдается стркутрынй переход - изменяются обменные энергии и g-tensor branching меди.\n",
    "\n",
    "При этом ориентация g-тензоров медей известна из струкутруного анализа"
   ]
  },
  {
   "cell_type": "code",
   "execution_count": 6,
   "id": "997425ed-3dd2-45be-86c3-5aa8ce6c5a61",
   "metadata": {
    "tags": []
   },
   "outputs": [],
   "source": [
    "fixed_parameters = {}\n",
    "\n",
    "fixed_parameters[\"g_rad\"] = 2.002\n",
    "\n",
    "fixed_parameters[\"J_chain_high_temp\"] = 1.4\n",
    "fixed_parameters[\"J_branching_high_temp\"] = -4.21\n",
    "\n",
    "fixed_parameters[\"J_chain_low_temp\"] = 1.9\n",
    "fixed_parameters[\"J_branching_low_temp\"] = -0.23\n",
    "\n",
    "\n",
    "orien_side_up = torch.tensor(\n",
    "    [\n",
    "        [0.8859114, 0.0008034, 0.4638538],\n",
    "        [0.0005397, -0.9999996, 0.0007013],\n",
    "        [0.4638541, -0.000371, -0.8859115],]\n",
    ")\n",
    "\n",
    "orien_chain_left = torch.tensor(\n",
    "    [\n",
    "        [0.744169, 0.4552341, -0.4888501],\n",
    "        [0.3236334, -0.8859029, -0.3323212],\n",
    "        [-0.5843577, 0.0890949, -0.8065904]\n",
    "    ]\n",
    ")\n",
    "fixed_parameters[\"orien_side_up\"] = orien_side_up\n",
    "fixed_parameters[\"orien_chain_left\"] = orien_chain_left\n",
    "\n",
    "\n",
    "varies_parameters = []\n",
    "varies_parameters.append(\n",
    "    optimization.fitter.ParamSpec(\"g_cu_interchain_x\", (2.0, 2.30), 2.025)\n",
    ")\n",
    "varies_parameters.append(\n",
    "    optimization.fitter.ParamSpec(\"g_cu_interchain_y\", (2.0, 2.30), 2.05)\n",
    ")\n",
    "varies_parameters.append(\n",
    "    optimization.fitter.ParamSpec(\"g_cu_interchain_z\", (2.0, 2.30), 2.25)\n",
    ")\n",
    "\n",
    "\n",
    "varies_parameters.append(\n",
    "    optimization.fitter.ParamSpec(\"g_cu_branching_high_temp_x\", (2.0, 2.30), 2.07)\n",
    ")\n",
    "varies_parameters.append(\n",
    "    optimization.fitter.ParamSpec(\"g_cu_branching_high_temp_y\", (2.0, 2.30), 2.14)\n",
    ")\n",
    "varies_parameters.append(\n",
    "    optimization.fitter.ParamSpec(\"g_cu_branching_high_temp_z\", (2.0, 2.30), 2.26)\n",
    ")\n",
    "\n",
    "\n",
    "varies_parameters.append(\n",
    "    optimization.fitter.ParamSpec(\"g_cu_branching_low_temp_x\", (2.0, 2.30), 2.19)\n",
    ")\n",
    "varies_parameters.append(\n",
    "    optimization.fitter.ParamSpec(\"g_cu_branching_low_temp_z\", (2.0, 2.30), 2.07)\n",
    ")\n",
    "\n",
    "varies_parameters.append(\n",
    "    optimization.fitter.ParamSpec(\"delta_g\", (-0.01, 0.01), 0.0)\n",
    ") # Здесь по задаче считается, что <g *g > меняется слабо\n",
    "\n",
    "\n",
    "\n",
    "varies_parameters.append(\n",
    "    optimization.fitter.ParamSpec(\"lorentz_high_temp\", (0.00, 0.02), 0.001)\n",
    ")\n",
    "\n",
    "varies_parameters.append(\n",
    "    optimization.fitter.ParamSpec(\"gauss_high_temp\", (0.0, 0.02), 0.001)\n",
    ")\n",
    "\n",
    "varies_parameters.append(\n",
    "    optimization.fitter.ParamSpec(\"h_strain_high_temp\", (1e8, 1e9), 5e8)\n",
    ")\n",
    "\n",
    "\n",
    "varies_parameters.append(\n",
    "    optimization.fitter.ParamSpec(\"lorentz_low_temp\", (0.00, 0.02), 0.001)\n",
    ")\n",
    "\n",
    "varies_parameters.append(\n",
    "    optimization.fitter.ParamSpec(\"gauss_low_temp\", (0.00, 0.02), 0.001)\n",
    ")\n",
    "\n",
    "varies_parameters.append(\n",
    "    optimization.fitter.ParamSpec(\"h_strain_low_temp\", (1e8, 1e9), 5e8)\n",
    ")\n",
    "\n",
    "\n",
    "param_space = optimization.fitter.ParameterSpace(varies_parameters, fixed_parameters)"
   ]
  },
  {
   "cell_type": "markdown",
   "id": "0af79705-f578-4b98-b59d-6ec74a1a377a",
   "metadata": {},
   "source": [
    "### Подгрузим эксперементальные данные - 136K и 90K спектры"
   ]
  },
  {
   "cell_type": "code",
   "execution_count": 7,
   "id": "7eef4183-fe61-4e2a-a47a-4d4d2cbdc7eb",
   "metadata": {
    "tags": []
   },
   "outputs": [],
   "source": [
    "###### Эксперементальные данные, которые будут использованы\n",
    "\n",
    "idx_high = 4\n",
    "fields_high = results[idx_high][1][\"x_values\"][300:-300]\n",
    "y_exp_high = results[idx_high][1][\"y_values\"][300:-300]\n",
    "freq_high = results[idx_high][0][\"MWFQ\"]\n",
    "temp_high = temperatures[idx_high]\n",
    "\n",
    "\n",
    "idx_low = -2\n",
    "fields_low = results[idx_low][1][\"x_values\"][300:-300]\n",
    "y_exp_low = results[idx_low][1][\"y_values\"][300:-300]\n",
    "freq_low = results[idx_low][0][\"MWFQ\"]\n",
    "temp_low = temperatures[idx_low]"
   ]
  },
  {
   "cell_type": "markdown",
   "id": "18d9b454-f11c-424e-b5fe-0ac5fcdda32a",
   "metadata": {},
   "source": [
    "Нужно задать метод, который строит спектры. У меня это\n",
    "\n",
    "from functools import partial\n",
    "\n",
    "simulate_spectra_partial = partial(\n",
    "        simulate_spectra,\n",
    "        mesh=mesh,\n",
    "        freq_high_temp=freq_high,\n",
    "        freq_low_temp=freq_low,\n",
    "        high_temp=temp_high,\n",
    "        low_temp=temp_low\n",
    ")\n",
    "\n",
    "partial я использую, чтобы передать всякие эксперементальный опции. Потом, на следующей итерации подумаю, как это лучше сделать\n",
    "\n"
   ]
  },
  {
   "cell_type": "code",
   "execution_count": 8,
   "id": "d8a2dea2-475c-4169-b9c7-ecde7ae06496",
   "metadata": {
    "tags": []
   },
   "outputs": [],
   "source": [
    "def build_sample(\n",
    "    J_chain, J_branching,\n",
    "    g_rad, g_cu_chain, g_cu_branching,\n",
    "    orient_side, orient_up, h_strain,\n",
    "    mesh, gauss, lorentz\n",
    ") -> spin_system.MultiOrientedSample:\n",
    "\n",
    "        # g-tensor components\n",
    "        g_cu_chain_tensor = torch.tensor(g_cu_chain)\n",
    "        g1_frame = orient_side\n",
    "        zeem_chain = spin_system.Interaction(g_cu_chain_tensor, g1_frame)\n",
    "        \n",
    "        g_cu_branching = torch.tensor(g_cu_branching)\n",
    "        orient_up = orient_up\n",
    "        zeem_branching = spin_system.Interaction(g_cu_branching, orient_up)\n",
    "        \n",
    "        g_rad = torch.full((3,), g_rad)\n",
    "        g_rad_frame = torch.tensor([0, 0, 0])\n",
    "        zeem_rad = spin_system.Interaction(g_rad, g_rad_frame)\n",
    "        \n",
    "        e_chain = particles.Electron(spin=0.5)\n",
    "        e_branching = particles.Electron(spin=0.5)\n",
    "        e_rad = particles.Electron(spin=0.5)\n",
    "        \n",
    "        J_chain = 2 * J_chain # Because 2 S1 S2\n",
    "        J_chain_hz = (J_chain * 100) * 3 * 1e8\n",
    "        inter_chain = torch.full((3,), J_chain_hz)\n",
    "        d_frame = torch.zeros(3)\n",
    "        ee_int_chain = spin_system.Interaction(inter_chain, d_frame, torch.zeros(3))\n",
    "\n",
    "        J_branching = 2 * J_branching # Because 2 S1 S2\n",
    "        J_branching_hz = (J_branching * 100) * 3 * 1e8\n",
    "        inter_side = torch.full((3,), J_branching_hz)\n",
    "        d_frame = torch.zeros(3)\n",
    "        ee_int_side = spin_system.Interaction(inter_side, d_frame, torch.zeros(3))\n",
    "        \n",
    "        system = spin_system.SpinSystem(\n",
    "            electrons=[e_rad, e_chain, e_branching],\n",
    "            g_tensors=[zeem_rad, zeem_chain, zeem_branching],\n",
    "            electron_electron=[\n",
    "                (0, 1, ee_int_side), (0, 2, ee_int_chain)\n",
    "            ]\n",
    "        )\n",
    "\n",
    "        # Homogeneity strain\n",
    "        hum_str = h_strain * torch.ones(3)\n",
    "        return spin_system.MultiOrientedSample(system, hum_str, gauss, lorentz, mesh)\n",
    "\n",
    "def get_powders(params, mesh):\n",
    "    g_cu_chain = torch.tensor(\n",
    "        [params[\"g_cu_interchain_x\"],\n",
    "         params[\"g_cu_interchain_y\"],\n",
    "         params[\"g_cu_interchain_z\"]]\n",
    "        )\n",
    "    \n",
    "    g_cu_branching_high_temp = torch.tensor(\n",
    "        [params[\"g_cu_branching_high_temp_x\"],\n",
    "         params[\"g_cu_branching_high_temp_y\"],\n",
    "         params[\"g_cu_branching_high_temp_z\"]]\n",
    "    )\n",
    "    \n",
    "    delta_g = params[\"delta_g\"]\n",
    "    g_cu_branching_low_temp_x = params[\"g_cu_branching_low_temp_x\"]\n",
    "    g_cu_branching_low_temp_z = params[\"g_cu_branching_low_temp_z\"]\n",
    "    \n",
    "    g_cu__intra_sq =  sum(g_cu_branching_high_temp ** 2)\n",
    "    g_cu_branching_low_temp_y =\\\n",
    "    g_cu__intra_sq - g_cu_branching_low_temp_x ** 2 - g_cu_branching_low_temp_z**2  + delta_g\n",
    "    g_cu_branching_low_temp_y = g_cu_branching_low_temp_y ** 0.5 \n",
    "    \n",
    "    g_cu_branching_low_temp = torch.tensor(\n",
    "        [params[\"g_cu_branching_high_temp_x\"],\n",
    "         g_cu_branching_low_temp_y,\n",
    "         params[\"g_cu_branching_high_temp_z\"]]\n",
    "    )\n",
    "    \n",
    "    powder_high_temp = build_sample(\n",
    "        J_chain=params[\"J_chain_high_temp\"],\n",
    "        J_branching=params[\"J_branching_high_temp\"],\n",
    "        g_rad=params[\"g_rad\"],\n",
    "        g_cu_chain = g_cu_chain,\n",
    "        g_cu_branching = g_cu_branching_high_temp,\n",
    "        orient_side=params[\"orien_side_up\"],\n",
    "        orient_up=params[\"orien_chain_left\"],\n",
    "        h_strain=params[\"h_strain_high_temp\"],\n",
    "        mesh=mesh,\n",
    "        gauss=torch.tensor(params[\"gauss_high_temp\"]),\n",
    "        lorentz=torch.tensor(params[\"lorentz_high_temp\"])\n",
    "    )\n",
    "    \n",
    "    powder_low_temp = build_sample(\n",
    "        J_chain=params[\"J_chain_low_temp\"],\n",
    "        J_branching=params[\"J_branching_low_temp\"],\n",
    "        g_rad=params[\"g_rad\"],\n",
    "        g_cu_chain = g_cu_chain,\n",
    "        g_cu_branching = g_cu_branching_low_temp,\n",
    "        orient_side=params[\"orien_side_up\"],\n",
    "        orient_up=params[\"orien_chain_left\"],\n",
    "        h_strain=params[\"h_strain_low_temp\"],\n",
    "        mesh=mesh,\n",
    "        gauss=torch.tensor(params[\"gauss_low_temp\"]),\n",
    "        lorentz=torch.tensor(params[\"lorentz_low_temp\"])\n",
    "    )\n",
    "    \n",
    "    return powder_high_temp, powder_low_temp\n",
    "    \n",
    "\n",
    "class SpectraSimulator:\n",
    "    def __init__(self, mesh, freq_high_temp, freq_low_temp, high_temp, low_temp, params):\n",
    "        example_powder = powder_high_temp, powder_low_temp = get_powders(params, mesh)\n",
    "        self.high_creator = spectra_manager.StationarySpectraCreator(freq_high_temp, powder_high_temp,\n",
    "                                                                temperature=torch.tensor(high_temp))\n",
    "        \n",
    "        self.low_creator = spectra_manager.StationarySpectraCreator(freq_low_temp, powder_low_temp,\n",
    "                                                                temperature=torch.tensor(low_temp))\n",
    "        \n",
    "    def __call__(self, magnetic_fields, params):\n",
    "        B_high = magnetic_fields[0]\n",
    "        B_low = magnetic_fields[1]\n",
    "        powder_high_temp, powder_low_temp = get_powders(params, mesh)\n",
    "        return [self.high_creator(powder_high_temp, B_high),\n",
    "                self.low_creator(powder_low_temp, B_low)]\n",
    "    \n",
    "    \n",
    "mesh = mesher.DelaunayMeshNeighbour(phi_limits = (0, 2 * np.pi),\n",
    "                                    initial_grid_frequency=18,\n",
    "                                    interpolate=True, interpolation_grid_frequency=30)\n",
    "\n",
    "    \n",
    "simulate_spectra = SpectraSimulator(mesh, freq_high, freq_low, temp_high, temp_low, param_space)"
   ]
  },
  {
   "cell_type": "markdown",
   "id": "4e5aac32-9f89-4996-a71a-04bb64fc5bd6",
   "metadata": {},
   "source": [
    "### Создадим объект fitter и зафитируем спектры"
   ]
  },
  {
   "cell_type": "code",
   "execution_count": 9,
   "id": "6381d9cd-efc8-4b0a-97b5-4161727e537c",
   "metadata": {
    "tags": []
   },
   "outputs": [],
   "source": [
    "from functools import partial\n",
    "\n",
    "fitter = optimization.SpectrumFitter(\n",
    "    x_exp=[fields_high, fields_low],\n",
    "    y_exp=[y_exp_high, y_exp_low],\n",
    "    param_space=param_space,\n",
    "    spectra_simulator=simulate_spectra\n",
    ")"
   ]
  },
  {
   "cell_type": "code",
   "execution_count": null,
   "id": "5f3028ea-c25d-4a5b-965b-dc3430159872",
   "metadata": {
    "tags": []
   },
   "outputs": [],
   "source": [
    "import optuna\n",
    "result = fitter.fit(backend=\"optuna\", n_trials=2000)"
   ]
  },
  {
   "cell_type": "code",
   "execution_count": null,
   "id": "b034daa2-7b32-4566-b807-08dccf56a8f5",
   "metadata": {
    "tags": []
   },
   "outputs": [],
   "source": [
    "param_names = ['g_cu_interchain_x',\n",
    "                 'g_cu_interchain_y',\n",
    "                 'g_cu_interchain_z',\n",
    "                 'g_cu_branching_high_temp_x',\n",
    "                 'g_cu_branching_high_temp_y',\n",
    "                 'g_cu_branching_high_temp_z', \n",
    "                 'g_cu_branching_low_temp_x',\n",
    "                 'g_cu_branching_low_temp_z'\n",
    "                ]"
   ]
  },
  {
   "cell_type": "code",
   "execution_count": null,
   "id": "aacf32dd-99ba-45fd-bbe5-08f9ee54734e",
   "metadata": {
    "tags": []
   },
   "outputs": [],
   "source": [
    "best_params = result.best_params\n",
    "new_param_space = param_space.copy()\n",
    "new_param_space.set_default(best_params)\n",
    "new_param_space.reduce_bounds(param_names, alpha=0.01)"
   ]
  },
  {
   "cell_type": "code",
   "execution_count": null,
   "id": "5831965e-4277-4567-8456-57ea47934c9b",
   "metadata": {
    "tags": []
   },
   "outputs": [],
   "source": [
    "import nevergrad\n",
    "fitter.param_space = new_param_space\n",
    "new_result = fitter.fit(backend=\"ng\", budget=100, optimizer_name=\"Cobyla\")"
   ]
  },
  {
   "cell_type": "markdown",
   "id": "4fa3bcec-2344-4b6f-91ad-a6a6b8276bfc",
   "metadata": {},
   "source": [
    "### Сравним с эксперементальынми спектарми"
   ]
  },
  {
   "cell_type": "code",
   "execution_count": 91,
   "id": "7875932a-7afc-4c90-af0c-7ce7d29b2dad",
   "metadata": {
    "tags": []
   },
   "outputs": [
    {
     "data": {
      "text/plain": [
       "[<matplotlib.lines.Line2D at 0x1fd31bc0c70>]"
      ]
     },
     "execution_count": 91,
     "metadata": {},
     "output_type": "execute_result"
    },
    {
     "data": {
      "image/png": "[encoded data removed]",
      "text/plain": [
       "<Figure size 640x480 with 1 Axes>"
      ]
     },
     "metadata": {},
     "output_type": "display_data"
    }
   ],
   "source": [
    "plt.plot(fitter.x_exp[0].numpy(), new_result.best_spectrum[0].numpy())\n",
    "plt.plot(fitter.x_exp[0].numpy(), fitter.y_exp[0].numpy())"
   ]
  },
  {
   "cell_type": "code",
   "execution_count": 92,
   "id": "bd825dc5-21bf-4967-bf7b-421862933301",
   "metadata": {
    "tags": []
   },
   "outputs": [
    {
     "data": {
      "text/plain": [
       "[<matplotlib.lines.Line2D at 0x1fd31c0b2e0>]"
      ]
     },
     "execution_count": 92,
     "metadata": {},
     "output_type": "execute_result"
    },
    {
     "data": {
      "image/png": "[encoded data removed]",
      "text/plain": [
       "<Figure size 640x480 with 1 Axes>"
      ]
     },
     "metadata": {},
     "output_type": "display_data"
    }
   ],
   "source": [
    "plt.plot(fitter.x_exp[1].numpy(), new_result.best_spectrum[1].numpy())\n",
    "plt.plot(fitter.x_exp[1].numpy(), fitter.y_exp[1].numpy())"
   ]
  },
  {
   "cell_type": "markdown",
   "id": "24aa66e3-4a42-4772-ad22-9317af20fd6b",
   "metadata": {},
   "source": [
    "### как-то в попадаетresult.best_params. В целом, в финильной статье выглядит немного лучше"
   ]
  },
  {
   "cell_type": "markdown",
   "id": "1c7d9197-f54c-4842-ad21-2f2f014cad3c",
   "metadata": {},
   "source": [
    "Теперь попробуем поискать другие минимумы, с другими g-тензорами. Оставим только их имена"
   ]
  },
  {
   "cell_type": "code",
   "execution_count": 1192,
   "id": "f15ba693-2c3e-4fc1-a20c-255b6fafe751",
   "metadata": {
    "tags": []
   },
   "outputs": [],
   "source": [
    "space_searcher = optimiation.fitter.SpaceSearcher()\n",
    "param_names = ['g_cu_interchain_x',\n",
    "                 'g_cu_interchain_y',\n",
    "                 'g_cu_interchain_z',\n",
    "                 'g_cu_branching_high_temp_x',\n",
    "                 'g_cu_branching_high_temp_y',\n",
    "                 'g_cu_branching_high_temp_z', \n",
    "                 'g_cu_branching_low_temp_x',\n",
    "                 'g_cu_branching_low_temp_z'\n",
    "                ]\n",
    "searcher_result = space_searcher(result, param_names)"
   ]
  },
  {
   "cell_type": "code",
   "execution_count": null,
   "id": "3d474a4d-ac39-47ec-9051-ba2e5bdee056",
   "metadata": {
    "tags": []
   },
   "outputs": [],
   "source": [
    "optimiation.print_trial_results(searcher_result)"
   ]
  },
  {
   "cell_type": "code",
   "execution_count": 1194,
   "id": "bfa3f076-9ab3-4418-95f7-3bb2c7940742",
   "metadata": {
    "tags": []
   },
   "outputs": [
    {
     "data": {
      "text/plain": [
       "[<matplotlib.lines.Line2D at 0x17767d11b10>]"
      ]
     },
     "execution_count": 1194,
     "metadata": {},
     "output_type": "execute_result"
    },
    {
     "data": {
      "image/png": "[encoded data removed]",
      "text/plain": [
       "<Figure size 640x480 with 1 Axes>"
      ]
     },
     "metadata": {},
     "output_type": "display_data"
    }
   ],
   "source": [
    "spec_high, spec_low = fitter.simulate_spectra_from_trial_params(searcher_result[2][\"params\"])\n",
    "\n",
    "plt.plot(fitter.B[0].numpy(), spec_high.numpy())\n",
    "plt.plot(fitter.B[0].numpy(), fitter.y_exp[0].numpy())"
   ]
  },
  {
   "cell_type": "code",
   "execution_count": 1195,
   "id": "b5d34f0c-372e-492f-b908-8c4be464012a",
   "metadata": {
    "tags": []
   },
   "outputs": [
    {
     "data": {
      "text/plain": [
       "[<matplotlib.lines.Line2D at 0x1776d1bc550>]"
      ]
     },
     "execution_count": 1195,
     "metadata": {},
     "output_type": "execute_result"
    },
    {
     "data": {
      "image/png": "[encoded data removed]",
      "text/plain": [
       "<Figure size 640x480 with 1 Axes>"
      ]
     },
     "metadata": {},
     "output_type": "display_data"
    }
   ],
   "source": [
    "spec_high, spec_low = fitter.simulate_spectra_from_trial_params(searcher_result[2][\"params\"])\n",
    "\n",
    "plt.plot(fitter.B[1].numpy(), spec_low.numpy())\n",
    "plt.plot(fitter.B[1].numpy(), fitter.y_exp[1].numpy())"
   ]
  },
  {
   "cell_type": "code",
   "execution_count": null,
   "id": "66ad95f5-6d5e-4664-a898-eeb434e6a386",
   "metadata": {
    "tags": []
   },
   "outputs": [],
   "source": [
    "best_params = result.best_params\n",
    "new_param_space = param_space.copy()\n",
    "new_param_space.set_default(searcher_result[2][\"params\"])\n",
    "new_param_space.reduce_bounds(param_names, alpha=0.05)\n",
    "\n",
    "fitter.param_space = new_param_space\n",
    "new_result = fitter.fit(method=\"ng\", budget=200, optimizer_name=\"Cobyla\")"
   ]
  },
  {
   "cell_type": "code",
   "execution_count": 120,
   "id": "c3f0a0ee-4e7d-4e43-8d12-d91210ebcfcf",
   "metadata": {},
   "outputs": [],
   "source": [
    "index = torch.tensor([2,3,4])"
   ]
  },
  {
   "cell_type": "code",
   "execution_count": 121,
   "id": "5a41c336-e095-4558-a406-821650757e91",
   "metadata": {
    "tags": []
   },
   "outputs": [],
   "source": [
    "data = torch.randn((150, 2, 4))"
   ]
  },
  {
   "cell_type": "code",
   "execution_count": 122,
   "id": "cbd7c4f4-8394-406d-a611-d184b9377e5c",
   "metadata": {
    "tags": []
   },
   "outputs": [
    {
     "data": {
      "text/plain": [
       "torch.Size([3, 2, 4])"
      ]
     },
     "execution_count": 122,
     "metadata": {},
     "output_type": "execute_result"
    }
   ],
   "source": [
    "min_idx = index[0]\n",
    "max_idx = index[-1]\n",
    "\n",
    "data[(min_idx-1):(max_idx)].shape"
   ]
  },
  {
   "cell_type": "code",
   "execution_count": null,
   "id": "4410d024-f07f-4eed-9e27-741006659acd",
   "metadata": {},
   "outputs": [],
   "source": []
  }
 ],
 "metadata": {
  "kernelspec": {
   "display_name": "Python 3 (ipykernel)",
   "language": "python",
   "name": "python3"
  },
  "language_info": {
   "codemirror_mode": {
    "name": "ipython",
    "version": 3
   },
   "file_extension": ".py",
   "mimetype": "text/x-python",
   "name": "python",
   "nbconvert_exporter": "python",
   "pygments_lexer": "ipython3",
   "version": "3.10.9"
  }
 },
 "nbformat": 4,
 "nbformat_minor": 5
}
