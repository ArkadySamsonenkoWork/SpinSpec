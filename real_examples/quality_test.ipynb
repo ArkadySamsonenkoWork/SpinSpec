{
 "cells": [
  {
   "cell_type": "code",
   "execution_count": 349,
   "id": "3eac1e2c-d67d-419c-b912-18a6a4d482fa",
   "metadata": {
    "tags": []
   },
   "outputs": [
    {
     "data": {
      "text/plain": [
       "<module 'save_procedures' from 'D:\\\\ITC\\\\РНФ_Курганский_2024\\\\pythonProject\\\\save_procedures.py'>"
      ]
     },
     "execution_count": 349,
     "metadata": {},
     "output_type": "execute_result"
    }
   ],
   "source": [
    "import sys\n",
    "import os\n",
    "\n",
    "sys.path.append(os.path.abspath('D:\\ITC\\РНФ_Курганский_2024\\pythonProject'))\n",
    "\n",
    "import numpy as np\n",
    "import torch\n",
    "from torch import nn\n",
    "import math\n",
    "\n",
    "from scipy.spatial import Delaunay\n",
    "import matplotlib.pyplot as plt\n",
    "\n",
    "import spin_system, utils, particles, res_field_algorithm, constants, spectral_integration, mesher, spectra_manager, particles\n",
    "from visualization import levels_plot, transitions_plot, spin_system_plot\n",
    "from population import time_population, tr_utils, transform\n",
    "import population\n",
    "\n",
    "from importlib import reload\n",
    "\n",
    "from spectra_manager import TruncatedSpectraCreatorTimeResolved, PostSpectraProcessing,TimeResolvedIntensitiesCalculator, ParamSpec\n",
    "from spectral_integration import SpectraIntegratorEasySpinLikeTimeResolved, BaseSpectraIntegrator\n",
    "from reader import read_bruker_data\n",
    "from spectra_manager import BaseSpectraCreator\n",
    "\n",
    "import optimization\n",
    "import spectra_processing\n",
    "\n",
    "import save_procedures\n",
    "\n",
    "reload(spectral_integration)\n",
    "reload(spin_system)\n",
    "reload(population)\n",
    "reload(population.stationary_population)\n",
    "reload(optimization.fitter)\n",
    "reload(optimization.objectives)\n",
    "reload(optimization.interactions)\n",
    "reload(time_population)\n",
    "reload(levels_plot)\n",
    "reload(transitions_plot)\n",
    "reload(tr_utils)\n",
    "reload(spectra_manager)\n",
    "reload(spin_system)\n",
    "reload(res_field_algorithm)\n",
    "reload(optimization)\n",
    "reload(mesher.general_mesh)\n",
    "reload(mesher)\n",
    "reload(mesher.delanay_neigbour)\n",
    "\n",
    "\n",
    "reload(spin_system_plot)\n",
    "reload(save_procedures)"
   ]
  },
  {
   "cell_type": "code",
   "execution_count": 350,
   "id": "842940db-1dae-4ac3-96ce-c6cfc6dc4fb9",
   "metadata": {
    "tags": []
   },
   "outputs": [
    {
     "name": "stdout",
     "output_type": "stream",
     "text": [
      "(2.1, 2.1, 2.1)\n",
      "(2.1, 2.1, 2.1)\n",
      "1000000.0\n",
      "1000000.0\n"
     ]
    }
   ],
   "source": [
    "e_1 = particles.Electron(spin=0.5)\n",
    "e_2 = particles.Electron(spin=1.5)\n",
    "g_1 = spin_system.Interaction((2.1, 2.1, 2.1))\n",
    "g_2 = spin_system.Interaction((2.1, 2.1, 2.1))\n",
    "\n",
    "J = 1e6\n",
    "\n",
    "ee = spin_system.Interaction(J)\n",
    "zer = spin_system.Interaction(J)\n",
    "\n",
    "\n",
    "system = spin_system.SpinSystem([e_1, e_2], g_tensors=(g_1, g_2), electron_electron=[(0, 1, ee), (0, 0, zer)])\n",
    "sample = spin_system.MultiOrientedSample(system)\n"
   ]
  },
  {
   "cell_type": "code",
   "execution_count": 351,
   "id": "bdc1f970-9b79-4f6d-aad5-6b40133c7c00",
   "metadata": {
    "tags": []
   },
   "outputs": [],
   "source": [
    "param_space = optimization.SampleVary().vary(sample,\n",
    "                               g_tensors=(\n",
    "                                   (0, optimization.VaryInteraction((0.1), (0.1, 0.1, 0.1), (0.1, 0.1, 0.1))),\n",
    "                               )\n",
    "                              )"
   ]
  },
  {
   "cell_type": "code",
   "execution_count": 352,
   "id": "f2b9ffaf-a4ec-4eca-ba2b-3dc77d49a38e",
   "metadata": {
    "tags": []
   },
   "outputs": [],
   "source": [
    "def build_sample(\n",
    "    J, g_cu_chain, g_cu_branching, orient_side, orient_up, mesh, gauss, lorentz\n",
    ") -> spin_system.MultiOrientedSample:\n",
    "\n",
    "        # g-tensor components\n",
    "        g_cu_chain_tensor = torch.tensor(g_cu_chain)\n",
    "        g1_frame = orient_side\n",
    "        zeem_chain = spin_system.Interaction(\n",
    "            g_cu_chain_tensor, g1_frame)\n",
    "        \n",
    "        zeem_chain = spin_system.Interaction(\n",
    "            g_cu_chain_tensor)\n",
    "        \n",
    "        g_cu_branching = torch.tensor(g_cu_branching)\n",
    "        orient_up = orient_up\n",
    "        zeem_branching = spin_system.Interaction(g_cu_branching, orient_up)\n",
    "        zeem_branching = spin_system.Interaction(g_cu_branching)\n",
    "        \n",
    "        e_chain = particles.Electron(spin=0.5)\n",
    "        e_branching = particles.Electron(spin=0.5)\n",
    "        \n",
    "        J = J # Because 2 S1 S2\n",
    "        J = (J * 100) * 3 * 1e8\n",
    "        J = torch.full((3,), J)\n",
    "        d_frame = torch.zeros(3)\n",
    "        ee_int_chain = spin_system.Interaction(J, d_frame)\n",
    "        \n",
    "        system = spin_system.SpinSystem(\n",
    "            electrons=[e_chain, e_branching],\n",
    "            g_tensors=[zeem_chain, zeem_branching],\n",
    "            electron_electron=[\n",
    "                (0, 1, ee_int_chain)\n",
    "            ]\n",
    "        )\n",
    "\n",
    "        # Homogeneity strain\n",
    "        \n",
    "        return system, spin_system.MultiOrientedSample(system, torch.tensor([1e6, 1e6, 1e6]), gauss, lorentz, mesh)"
   ]
  },
  {
   "cell_type": "code",
   "execution_count": 358,
   "id": "b6d0cc1e-019b-4cdf-93e4-e306abe3bb7c",
   "metadata": {
    "tags": []
   },
   "outputs": [
    {
     "name": "stdout",
     "output_type": "stream",
     "text": [
      "tensor([2.1000, 2.2000, 2.3000])\n",
      "tensor([2.1000, 2.2000, 2.3000])\n",
      "tensor([2.2000, 2.2000, 2.2000])\n",
      "tensor([2.2000, 2.2000, 2.2000])\n",
      "tensor([-0., -0., -0.])\n",
      "tensor([1000000., 1000000., 1000000.])\n"
     ]
    }
   ],
   "source": [
    "orien_side_up = torch.tensor(\n",
    "    [\n",
    "        [0.8859114, 0.0008034, 0.4638538],\n",
    "        [0.0005397, -0.9999996, 0.0007013],\n",
    "        [0.4638541, -0.000371, -0.8859115],]\n",
    ")\n",
    "\n",
    "orien_chain_left = torch.tensor(\n",
    "    [\n",
    "        [0.744169, 0.4552341, -0.4888501],\n",
    "        [0.3236334, -0.8859029, -0.3323212],\n",
    "        [-0.5843577, 0.0890949, -0.8065904]\n",
    "    ]\n",
    ")\n",
    "\n",
    "\n",
    "J = -0.0\n",
    "g_cu_chain = [2.1, 2.2, 2.3]\n",
    "g_cu_branching = [2.2, 2.2, 2.2]\n",
    "gauss = torch.tensor(0.0001)\n",
    "lorentz = torch.tensor(0.01)\n",
    "mesh = mesher.DelaunayMeshNeighbour(phi_limits = (0, 2* np.pi),\n",
    "                                    initial_grid_frequency=25,\n",
    "                                    interpolate=True, interpolation_grid_frequency=50)\n",
    "\n",
    "\n",
    "system, sample = build_sample(J, g_cu_chain, g_cu_branching, orien_side_up, orien_chain_left, mesh, gauss, lorentz)\n"
   ]
  },
  {
   "cell_type": "code",
   "execution_count": 359,
   "id": "e37bcaa5-45c2-46df-b2ec-19800ce727ee",
   "metadata": {
    "tags": []
   },
   "outputs": [
    {
     "data": {
      "text/plain": [
       "[<matplotlib.lines.Line2D at 0x2182cdebc70>]"
      ]
     },
     "execution_count": 359,
     "metadata": {},
     "output_type": "execute_result"
    },
    {
     "data": {
      "image/png": "[encoded data removed]",
      "text/plain": [
       "<Figure size 640x480 with 1 Axes>"
      ]
     },
     "metadata": {},
     "output_type": "display_data"
    }
   ],
   "source": [
    "fields_1 = torch.linspace(0.9, 1.5, 3000)\n",
    "freq = torch.tensor(38 * 1e9)\n",
    "temp = 1\n",
    "spec_creat = spectra_manager.StationarySpectraCreator(freq, sample, temperature=temp)\n",
    "with torch.no_grad():\n",
    "    spec_1 = spec_creat(sample, fields_1)\n",
    "\n",
    "plt.plot(fields_1.numpy(), spec_1.numpy())"
   ]
  },
  {
   "cell_type": "code",
   "execution_count": 12,
   "id": "24425f7d-c4f9-4ae5-a691-fc4e746b71ca",
   "metadata": {
    "tags": []
   },
   "outputs": [
    {
     "name": "stdout",
     "output_type": "stream",
     "text": [
      "(0, 1)\n"
     ]
    }
   ],
   "source": [
    "import pandas as pd\n",
    "fields_1 = fields_1.numpy()\n",
    "spec_1 = spec_1.numpy()\n",
    "\n",
    "\n",
    "data_frame = pd.DataFrame({\"field\": fields_1, \"spec\": spec_1})\n",
    "data_frame.to_csv(\"D:\\ITC\\РНФ_Курганский_2024\\qulity_spectra.csv\", header=False, index=False)\n",
    "save_procedures.save(\"D:\\ITC\\РНФ_Курганский_2024\\example.mat\", sample, spec_creat, fields_1, format_type=\"easyspin\")"
   ]
  },
  {
   "cell_type": "markdown",
   "id": "1a99cf3e-d12b-4361-89b4-41fd4b21c73b",
   "metadata": {},
   "source": [
    "### dipole-dipole"
   ]
  },
  {
   "cell_type": "code",
   "execution_count": 13,
   "id": "0b23cce8-a582-4a82-b183-9ee437cf8fc7",
   "metadata": {
    "tags": []
   },
   "outputs": [],
   "source": [
    "def build_sample(\n",
    "    J, g_cu_chain, g_cu_branching, orient_side, orient_up, mesh, gauss, lorentz\n",
    ") -> spin_system.MultiOrientedSample:\n",
    "\n",
    "        # g-tensor components\n",
    "        g_cu_chain_tensor = torch.tensor(g_cu_chain)\n",
    "        g1_frame = orient_side\n",
    "        zeem_chain = spin_system.Interaction(\n",
    "            g_cu_chain_tensor, g1_frame)\n",
    "        \n",
    "        zeem_chain = spin_system.Interaction(\n",
    "            g_cu_chain_tensor)\n",
    "        \n",
    "        g_cu_branching = torch.tensor(g_cu_branching)\n",
    "        orient_up = orient_up\n",
    "        zeem_branching = spin_system.Interaction(g_cu_branching)\n",
    "        zeem_branching = spin_system.Interaction(g_cu_branching)\n",
    "        \n",
    "        e_chain = particles.Electron(spin=0.5)\n",
    "        e_branching = particles.Electron(spin=0.5)\n",
    "        \n",
    "        D, E = constants.unit_converter(0.1, \"cm-1_to_Hz\"), constants.unit_converter(0.003, \"cm-1_to_Hz\")\n",
    "        J = J # Because 2 S1 S2\n",
    "        J = (J * 100) * 3 * 1e8\n",
    "        ee_int_chain = spin_system.Interaction(J) + spin_system.DEInteraction((D, E))\n",
    "        print(ee_int_chain)\n",
    "        \n",
    "        system = spin_system.SpinSystem(\n",
    "            electrons=[e_chain, e_branching],\n",
    "            g_tensors=[zeem_chain, zeem_branching],\n",
    "            electron_electron=[\n",
    "                (0, 1, ee_int_chain)\n",
    "            ]\n",
    "        )\n",
    "\n",
    "        # Homogeneity strain\n",
    "        \n",
    "        return system, spin_system.MultiOrientedSample(system, torch.tensor([5e7, 5e7, 5e7]), gauss, lorentz, mesh)"
   ]
  },
  {
   "cell_type": "code",
   "execution_count": 14,
   "id": "8c9cfc36-289f-4c43-ae4d-8144fdd4f531",
   "metadata": {
    "tags": []
   },
   "outputs": [
    {
     "name": "stdout",
     "output_type": "stream",
     "text": [
      "Principal values: [-9.09e+08, -1.09e+09, 2.00e+09]\n",
      "Frame (Euler angles): [α=0.000, β=0.000, γ=0.000] rad\n",
      "Strain: None\n"
     ]
    }
   ],
   "source": [
    "system, sample = build_sample(J, g_cu_chain, g_cu_branching, orien_side_up, orien_chain_left, mesh, gauss, lorentz)"
   ]
  },
  {
   "cell_type": "code",
   "execution_count": 15,
   "id": "fc459bb5-0c6a-4930-8b0d-344ed6bfaa8d",
   "metadata": {
    "tags": []
   },
   "outputs": [
    {
     "data": {
      "text/plain": [
       "[<matplotlib.lines.Line2D at 0x1b5efa91bd0>]"
      ]
     },
     "execution_count": 15,
     "metadata": {},
     "output_type": "execute_result"
    },
    {
     "data": {
      "image/png": "[encoded data removed]",
      "text/plain": [
       "<Figure size 640x480 with 1 Axes>"
      ]
     },
     "metadata": {},
     "output_type": "display_data"
    }
   ],
   "source": [
    "fields_1 = torch.linspace(0.9, 1.5, 3000)\n",
    "freq = torch.tensor(38 * 1e9)\n",
    "temp = 1\n",
    "spec_creat = spectra_manager.StationarySpectraCreator(freq, sample, temperature=temp)\n",
    "with torch.no_grad():\n",
    "    spec_1 = spec_creat(sample, fields_1)\n",
    "\n",
    "plt.plot(fields_1.numpy(), spec_1.numpy())"
   ]
  },
  {
   "cell_type": "code",
   "execution_count": 16,
   "id": "8e44bd6a-0399-4d07-890f-397d3dd2afed",
   "metadata": {
    "tags": []
   },
   "outputs": [
    {
     "name": "stdout",
     "output_type": "stream",
     "text": [
      "(0, 1)\n"
     ]
    }
   ],
   "source": [
    "import pandas as pd\n",
    "fields_1 = fields_1.numpy()\n",
    "spec_1 = spec_1.numpy()\n",
    "\n",
    "\n",
    "data_frame = pd.DataFrame({\"field\": fields_1, \"spec\": spec_1})\n",
    "data_frame.to_csv(\"D:\\ITC\\РНФ_Курганский_2024\\qulity_spectra.csv\", header=False, index=False)\n",
    "save_procedures.save(\"D:\\ITC\\РНФ_Курганский_2024\\example.mat\", sample, spec_creat, fields_1, format_type=\"easyspin\")"
   ]
  },
  {
   "cell_type": "markdown",
   "id": "19a04994-45ad-4c99-a93d-859c467fe275",
   "metadata": {
    "tags": []
   },
   "source": [
    "### D-E interaction"
   ]
  },
  {
   "cell_type": "code",
   "execution_count": 17,
   "id": "dc8506cf-9bf6-46ff-983c-f0d6e649dd32",
   "metadata": {
    "tags": []
   },
   "outputs": [
    {
     "data": {
      "text/plain": [
       "<module 'save_procedures' from 'D:\\\\ITC\\\\РНФ_Курганский_2024\\\\pythonProject\\\\save_procedures.py'>"
      ]
     },
     "execution_count": 17,
     "metadata": {},
     "output_type": "execute_result"
    }
   ],
   "source": [
    "reload(spectral_integration)\n",
    "reload(spin_system)\n",
    "reload(population)\n",
    "reload(population.stationary_population)\n",
    "reload(optimization.fitter)\n",
    "reload(optimization.objectives)\n",
    "reload(time_population)\n",
    "reload(levels_plot)\n",
    "reload(transitions_plot)\n",
    "reload(tr_utils)\n",
    "reload(spectra_manager)\n",
    "reload(spin_system)\n",
    "reload(res_field_algorithm)\n",
    "reload(optimization)\n",
    "reload(mesher.general_mesh)\n",
    "reload(mesher)\n",
    "reload(mesher.delanay_neigbour)\n",
    "\n",
    "\n",
    "reload(spin_system_plot)\n",
    "reload(save_procedures)"
   ]
  },
  {
   "cell_type": "code",
   "execution_count": 18,
   "id": "338894cf-2cb6-4396-8be7-59f9f892615f",
   "metadata": {
    "tags": []
   },
   "outputs": [],
   "source": [
    "def build_sample(\n",
    "    J, g_cu_chain, g_cu_branching, orient_side, orient_up, mesh, gauss, lorentz\n",
    ") -> spin_system.MultiOrientedSample:\n",
    "\n",
    "        # g-tensor components\n",
    "        g_cu_chain_tensor = torch.tensor(g_cu_chain)\n",
    "        g1_frame = orient_side\n",
    "        zeem_chain = spin_system.Interaction(\n",
    "            g_cu_chain_tensor, g1_frame)\n",
    "        \n",
    "        zeem_chain = spin_system.Interaction(\n",
    "            g_cu_chain_tensor)\n",
    "        \n",
    "        g_cu_branching = torch.tensor(g_cu_branching)\n",
    "        orient_up = orient_up\n",
    "        zeem_branching = spin_system.Interaction(g_cu_branching)\n",
    "        zeem_branching = spin_system.Interaction(g_cu_branching)\n",
    "        \n",
    "        e_chain = particles.Electron(spin=1.0)\n",
    "        e_branching = particles.Electron(spin=0.5)\n",
    "        \n",
    "        D, E = constants.unit_converter(0.1, \"cm-1_to_Hz\"), constants.unit_converter(0.0003, \"cm-1_to_Hz\")\n",
    "\n",
    "        ee_int_chain = spin_system.DEInteraction((D, E), strain=(0.0, 0))\n",
    "        \n",
    "        system = spin_system.SpinSystem(\n",
    "            electrons=[e_chain, e_branching],\n",
    "            g_tensors=[zeem_chain, zeem_branching],\n",
    "            electron_electron=[\n",
    "                (0, 0, ee_int_chain)\n",
    "            ]\n",
    "        )\n",
    "\n",
    "        # Homogeneity strain\n",
    "        \n",
    "        return system, spin_system.MultiOrientedSample(system, torch.tensor([5e7, 5e7, 5e7]), gauss, lorentz, mesh)"
   ]
  },
  {
   "cell_type": "code",
   "execution_count": 19,
   "id": "1d98ff92-5e52-47fd-af03-800ea004222a",
   "metadata": {
    "tags": []
   },
   "outputs": [],
   "source": [
    "mesh = mesher.DelaunayMeshNeighbour(phi_limits = (0, 2* np.pi),\n",
    "                                    initial_grid_frequency=35,\n",
    "                                    interpolate=True, interpolation_grid_frequency=70)"
   ]
  },
  {
   "cell_type": "code",
   "execution_count": 20,
   "id": "46b4d94a-0703-41bf-95c4-593878369302",
   "metadata": {
    "tags": []
   },
   "outputs": [
    {
     "data": {
      "text/plain": [
       "[<matplotlib.lines.Line2D at 0x1b5f1beadd0>]"
      ]
     },
     "execution_count": 20,
     "metadata": {},
     "output_type": "execute_result"
    },
    {
     "data": {
      "image/png": "[encoded data removed]",
      "text/plain": [
       "<Figure size 640x480 with 1 Axes>"
      ]
     },
     "metadata": {},
     "output_type": "display_data"
    }
   ],
   "source": [
    "system, sample = build_sample(J, g_cu_chain, g_cu_branching, orien_side_up, orien_chain_left, mesh, gauss, lorentz)\n",
    "\n",
    "fields_1 = torch.linspace(1.1, 1.40, 3000)\n",
    "freq = torch.tensor(38 * 1e9)\n",
    "temp = 1\n",
    "spec_creat = spectra_manager.StationarySpectraCreator(freq, sample, temperature=temp)\n",
    "with torch.no_grad():\n",
    "    spec_1 = spec_creat(sample, fields_1)\n",
    "\n",
    "plt.plot(fields_1.numpy(), spec_1.numpy())"
   ]
  },
  {
   "cell_type": "code",
   "execution_count": 21,
   "id": "6182b640-f693-484e-9dcb-283404857456",
   "metadata": {
    "tags": []
   },
   "outputs": [
    {
     "name": "stdout",
     "output_type": "stream",
     "text": [
      "[[2.99792467e+09 8.99376000e+06]\n",
      " [0.00000000e+00 0.00000000e+00]]\n"
     ]
    }
   ],
   "source": [
    "import pandas as pd\n",
    "fields_1 = fields_1.numpy()\n",
    "spec_1 = spec_1.numpy()\n",
    "\n",
    "\n",
    "data_frame = pd.DataFrame({\"field\": fields_1, \"spec\": spec_1})\n",
    "data_frame.to_csv(\"D:\\ITC\\РНФ_Курганский_2024\\qulity_spectra.csv\", header=False, index=False)\n",
    "save_procedures.save(\"D:\\ITC\\РНФ_Курганский_2024\\example.mat\", sample, spec_creat, fields_1, format_type=\"easyspin\")"
   ]
  },
  {
   "cell_type": "markdown",
   "id": "90c6f246-94af-4503-a9e9-99bb4b012285",
   "metadata": {},
   "source": [
    "### Nuclei"
   ]
  },
  {
   "cell_type": "code",
   "execution_count": 22,
   "id": "693b76ed-af1c-4f1a-9e25-e4d11962b4c7",
   "metadata": {},
   "outputs": [],
   "source": [
    "def build_sample(\n",
    "    J, g_cu_chain, g_cu_branching, orient_side, orient_up, mesh, gauss, lorentz\n",
    ") -> spin_system.MultiOrientedSample:\n",
    "\n",
    "        # g-tensor components\n",
    "        g_cu_chain_tensor = torch.tensor(g_cu_chain)\n",
    "        g1_frame = orient_side\n",
    "        zeem_chain = spin_system.Interaction(\n",
    "            g_cu_chain_tensor, g1_frame)\n",
    "        \n",
    "        zeem_chain = spin_system.Interaction(\n",
    "            g_cu_chain_tensor)\n",
    "        \n",
    "        g_cu_branching = torch.tensor(g_cu_branching)\n",
    "        orient_up = orient_up\n",
    "        zeem_branching = spin_system.Interaction(g_cu_branching)\n",
    "        zeem_branching = spin_system.Interaction(g_cu_branching)\n",
    "        \n",
    "        e_chain = particles.Electron(spin=1.0)\n",
    "        e_branching = particles.Electron(spin=0.5)\n",
    "        A_interaction = spin_system.Interaction((1e7, 1e7, 1e9))\n",
    "\n",
    "        \n",
    "        system = spin_system.SpinSystem(\n",
    "            electrons=[e_chain, e_branching],\n",
    "            nuclei = [\"14N\", \"14N\"],\n",
    "            g_tensors=[zeem_chain, zeem_branching],\n",
    "            electron_nuclei=[(0, 0, A_interaction), (1, 0, A_interaction), (1, 1, A_interaction)]\n",
    "        )\n",
    "\n",
    "        # Homogeneity strain\n",
    "        \n",
    "        return system, spin_system.MultiOrientedSample(system, torch.tensor([5e7, 5e7, 5e7]), gauss, lorentz, mesh)"
   ]
  },
  {
   "cell_type": "code",
   "execution_count": null,
   "id": "2a892b00-2f56-47ba-bf94-297ac2a78f88",
   "metadata": {
    "tags": []
   },
   "outputs": [],
   "source": [
    "mesh = mesher.DelaunayMeshNeighbour(phi_limits = (0, 2* np.pi),\n",
    "                                    initial_grid_frequency=10, \n",
    "                                    interpolate=False, interpolation_grid_frequency=80)\n",
    "\n",
    "system, sample = build_sample(J, g_cu_chain, g_cu_branching, orien_side_up, orien_chain_left, mesh, gauss, lorentz)\n",
    "\n",
    "fields_1 = torch.linspace(1.1, 1.40, 3000)\n",
    "freq = torch.tensor(38 * 1e9)\n",
    "temp = 1\n",
    "spec_creat = spectra_manager.StationarySpectraCreator(freq, sample, temperature=temp)\n",
    "with torch.no_grad():\n",
    "    spec_1 = spec_creat(sample, fields_1)\n",
    "\n",
    "plt.plot(fields_1.numpy(), spec_1.numpy())"
   ]
  },
  {
   "cell_type": "code",
   "execution_count": 24,
   "id": "bc6f7d27-a802-4ca4-a68c-03a68f47f9a9",
   "metadata": {
    "tags": []
   },
   "outputs": [
    {
     "name": "stdout",
     "output_type": "stream",
     "text": [
      "[[1.e+07 1.e+07 1.e+09 1.e+07 1.e+07 1.e+09]\n",
      " [0.e+00 0.e+00 0.e+00 1.e+07 1.e+07 1.e+09]]\n"
     ]
    }
   ],
   "source": [
    "import pandas as pd\n",
    "fields_1 = fields_1.numpy()\n",
    "spec_1 = spec_1.numpy()\n",
    "\n",
    "\n",
    "data_frame = pd.DataFrame({\"field\": fields_1, \"spec\": spec_1})\n",
    "data_frame.to_csv(\"D:\\ITC\\РНФ_Курганский_2024\\qulity_spectra.csv\", header=False, index=False)\n",
    "save_procedures.save(\"D:\\ITC\\РНФ_Курганский_2024\\example.mat\", sample, spec_creat, fields_1, format_type=\"easyspin\")"
   ]
  },
  {
   "cell_type": "code",
   "execution_count": 24,
   "id": "976c6755-a8d4-4b0a-a3fd-326bc5a16cbc",
   "metadata": {
    "tags": []
   },
   "outputs": [
    {
     "data": {
      "text/plain": [
       "<module 'save_procedures' from 'D:\\\\ITC\\\\РНФ_Курганский_2024\\\\pythonProject\\\\save_procedures.py'>"
      ]
     },
     "execution_count": 24,
     "metadata": {},
     "output_type": "execute_result"
    }
   ],
   "source": [
    "reload(spectral_integration)\n",
    "reload(spin_system)\n",
    "reload(population)\n",
    "reload(population.stationary_population)\n",
    "reload(optimization.fitter)\n",
    "reload(optimization.objectives)\n",
    "reload(time_population)\n",
    "reload(levels_plot)\n",
    "reload(transitions_plot)\n",
    "reload(tr_utils)\n",
    "reload(spectra_manager)\n",
    "reload(spin_system)\n",
    "reload(res_field_algorithm)\n",
    "reload(optimization)\n",
    "reload(mesher.general_mesh)\n",
    "reload(mesher)\n",
    "reload(mesher.delanay_neigbour)\n",
    "\n",
    "\n",
    "reload(spin_system_plot)\n",
    "reload(save_procedures)"
   ]
  },
  {
   "cell_type": "code",
   "execution_count": 139,
   "id": "51c73e48-4828-4c7d-a282-eac640c3d45b",
   "metadata": {},
   "outputs": [],
   "source": [
    "out = save_procedures.load(\"D:\\ITC\\РНФ_Курганский_2024\\example.mat\", format_type=\"easyspin\")"
   ]
  },
  {
   "cell_type": "code",
   "execution_count": 140,
   "id": "f4203916-92b9-4bca-8624-3767ae2fef49",
   "metadata": {
    "tags": []
   },
   "outputs": [],
   "source": [
    "sample = out[\"sample\"]"
   ]
  },
  {
   "cell_type": "code",
   "execution_count": 142,
   "id": "4f2e976e-9a66-4c3d-ac6b-238f6d4a8745",
   "metadata": {
    "tags": []
   },
   "outputs": [
    {
     "name": "stdout",
     "output_type": "stream",
     "text": [
      "============================================================\n",
      "SPIN SYSTEM SUMMARY\n",
      "============================================================\n",
      "\n",
      "PARTICLES:\n",
      "--------------------\n",
      "Electrons (2):\n",
      "  e0: S=1.0 \n",
      "Principal values: [2.1000, 2.2000, 2.3000]\n",
      "      Frame (Euler angles): [α=0.000, β=0.000, γ=0.000] rad\n",
      "      Strain: None\n",
      "  e1: S=0.5 \n",
      "Principal values: [2.2000, 2.2000, 2.2000]\n",
      "      Frame (Euler angles): [α=0.000, β=0.000, γ=0.000] rad\n",
      "      Strain: None\n",
      "\n",
      "Nuclei (2):\n",
      "  n0: I=1.0\n",
      "  n1: I=1.0\n",
      "\n",
      "SYSTEM PROPERTIES:\n",
      "--------------------\n",
      "Hilbert space dimension: 54\n",
      "Configuration shape: ()\n",
      "\n",
      "INTERACTIONS (5 total):\n",
      "------------------------------\n",
      "\n",
      "Electron-Nucleus (4):\n",
      "  1. e0 ↔ n0:\n",
      "      Principal values: [1.00e+07, 1.00e+07, 1.00e+09]\n",
      "      Frame (Euler angles): [α=0.000, β=0.000, γ=0.000] rad\n",
      "      Strain: None\n",
      "  2. e0 ↔ n1:\n",
      "      Principal values: [1.00e+07, 1.00e+07, 1.00e+09]\n",
      "      Frame (Euler angles): [α=0.000, β=0.000, γ=0.000] rad\n",
      "      Strain: None\n",
      "  3. e1 ↔ n0:\n",
      "      Principal values: [1.00e+07, 1.00e+07, 1.00e+09]\n",
      "      Frame (Euler angles): [α=0.000, β=0.000, γ=0.000] rad\n",
      "      Strain: None\n",
      "  4. e1 ↔ n1:\n",
      "      Principal values: [1.00e+07, 1.00e+07, 1.00e+09]\n",
      "      Frame (Euler angles): [α=0.000, β=0.000, γ=0.000] rad\n",
      "      Strain: None\n",
      "\n",
      "Electron-Electron (1):\n",
      "  1. e0 ↔ e1:\n",
      "      Principal values: [0.0000, 0.0000, 0.0000]\n",
      "      Frame (Euler angles): [α=0.000, β=0.000, γ=0.000] rad\n",
      "      Strain: None\n",
      "\n",
      "============================================================\n",
      "\n",
      "============================================================\n",
      "GENERAL INFO: \n",
      "============================================================\n",
      "lorentz: 0.01000 T\n",
      "gauss: 0.00010 T\n",
      "ham_str: ['5.0000e+07', '5.0000e+07', '5.0000e+07'] Hz\n"
     ]
    }
   ],
   "source": [
    "print(sample)"
   ]
  },
  {
   "cell_type": "code",
   "execution_count": null,
   "id": "de9caadd-bbed-4390-bfaa-8b4fdf17e523",
   "metadata": {},
   "outputs": [],
   "source": []
  }
 ],
 "metadata": {
  "kernelspec": {
   "display_name": "Python 3 (ipykernel)",
   "language": "python",
   "name": "python3"
  },
  "language_info": {
   "codemirror_mode": {
    "name": "ipython",
    "version": 3
   },
   "file_extension": ".py",
   "mimetype": "text/x-python",
   "name": "python",
   "nbconvert_exporter": "python",
   "pygments_lexer": "ipython3",
   "version": "3.10.9"
  }
 },
 "nbformat": 4,
 "nbformat_minor": 5
}
