{
 "cells": [
  {
   "cell_type": "code",
   "execution_count": 364,
   "id": "469f952c-49e0-427a-80eb-0bf511c5e532",
   "metadata": {
    "tags": []
   },
   "outputs": [
    {
     "data": {
      "text/plain": [
       "<module 'particles' from 'D:\\\\ITC\\\\РНФ_Курганский_2024\\\\pythonProject\\\\particles\\\\__init__.py'>"
      ]
     },
     "execution_count": 364,
     "metadata": {},
     "output_type": "execute_result"
    }
   ],
   "source": [
    "import numpy as np\n",
    "import torch\n",
    "from scipy.spatial import Delaunay\n",
    "import matplotlib.pyplot as plt\n",
    "\n",
    "import spin_system, utils, particles, res_field_algorithm, constants, spectral_integration, mesher, spectra_manager, particles\n",
    "from importlib import reload\n",
    "reload(mesher)\n",
    "reload(spin_system)\n",
    "reload(utils)\n",
    "reload(particles)\n",
    "reload(res_field_algorithm)\n",
    "reload(constants)\n",
    "reload(spectral_integration)\n",
    "reload(spectra_manager)\n",
    "reload(mesher)\n",
    "reload(mesher.general_mesh)\n",
    "reload(mesher.delanay_mesh)\n",
    "reload(particles)"
   ]
  },
  {
   "cell_type": "code",
   "execution_count": 365,
   "id": "b0d232c9-af08-4bf0-92a3-83e50069b44d",
   "metadata": {
    "tags": []
   },
   "outputs": [
    {
     "data": {
      "text/plain": [
       "<module 'constants' from 'D:\\\\ITC\\\\РНФ_Курганский_2024\\\\pythonProject\\\\constants.py'>"
      ]
     },
     "execution_count": 365,
     "metadata": {},
     "output_type": "execute_result"
    }
   ],
   "source": [
    "import numpy as np\n",
    "import torch\n",
    "from scipy.spatial import Delaunay\n",
    "import matplotlib.pyplot as plt\n",
    "\n",
    "import mesher, spin_system, utils, particles, res_field_algorithm, spectra_manager, constants\n",
    "from importlib import reload\n",
    "reload(mesher)\n",
    "reload(spin_system)\n",
    "reload(utils)\n",
    "reload(particles)\n",
    "reload(res_field_algorithm)\n",
    "reload(spectra_manager)\n",
    "reload(constants)"
   ]
  },
  {
   "cell_type": "code",
   "execution_count": 366,
   "id": "fa81e6dc-69de-4c12-9e1a-b71a3c119734",
   "metadata": {
    "tags": []
   },
   "outputs": [],
   "source": [
    "mesh = mesher.DelaunayMeshClough(phi_limit =  np.pi / 2, initial_grid_frequency=20, interpolate=False)\n",
    "\n",
    "rotation_matrices = mesh.create_rotation_matrices()"
   ]
  },
  {
   "cell_type": "code",
   "execution_count": 367,
   "id": "2004c856-d41b-4534-8f51-bd975ec454f9",
   "metadata": {
    "tags": []
   },
   "outputs": [],
   "source": [
    "matrix = torch.eye(3)"
   ]
  },
  {
   "cell_type": "code",
   "execution_count": 368,
   "id": "ea6af64e-0367-4a48-8049-73f7c6a86d79",
   "metadata": {
    "tags": []
   },
   "outputs": [],
   "source": [
    "ham_strained = torch.tensor([[1.1, 1.1, 1.3], [1.2, 1.3, 1.2]])"
   ]
  },
  {
   "cell_type": "code",
   "execution_count": 369,
   "id": "7d9a65cc-97c8-4dc5-9d0a-d71cc234fd4b",
   "metadata": {
    "tags": []
   },
   "outputs": [],
   "source": [
    "components = torch.tensor([2.0015, 2.0015, 2.0015])\n",
    "frame = torch.tensor([0, 0, 0.0])\n",
    "strain = torch.tensor([0.002, 0.001, 0.002]) / 2000\n",
    "#D = 88.78 * 1e6\n",
    "#E = 31.9475 * 1e6\n",
    "D = 2 * 88.78 * 1e6\n",
    "E = 2 * 31.9475 * 1e6\n",
    "Dx = -1/3 * D + E\n",
    "Dy = -1/3 * D - E\n",
    "Dz = 2/3 * D\n",
    "\n",
    "D_str = 30.957\n",
    "E_str = 20.0\n",
    "Dx_str = -1/3 * D_str + E_str\n",
    "Dy_str = -1/3 * D_str - E_str\n",
    "Dz_str = 2/3 * D_str\n",
    "\n",
    "strain_e_e = torch.tensor([Dx_str, Dy_str, Dz_str]) * (constants.PLANCK / constants.BOHR) * 1e6\n",
    "\n",
    "J = 0.3\n",
    "J = (J * 100) * 3 * 1e8 # in Hz\n",
    "components_dipole =  torch.tensor([Dx, Dy, Dz]) + torch.tensor([J, J, J])\n",
    "\n",
    "\n",
    "some_interaction_e_0 = spin_system.Interaction(components, frame, strain)\n",
    "some_interaction_e_1 = spin_system.Interaction(components, frame, strain)\n",
    "some_interaction_e_e = spin_system.Interaction(components_dipole, frame, strain_e_e)"
   ]
  },
  {
   "cell_type": "code",
   "execution_count": 370,
   "id": "98ad63cf-ed2a-4de0-90b1-90b74e4c7215",
   "metadata": {
    "tags": []
   },
   "outputs": [
    {
     "data": {
      "text/plain": [
       "<spin_system.Interaction at 0x1acce8b7fa0>"
      ]
     },
     "execution_count": 370,
     "metadata": {},
     "output_type": "execute_result"
    }
   ],
   "source": [
    "some_interaction_e_e"
   ]
  },
  {
   "cell_type": "code",
   "execution_count": 371,
   "id": "addcdbdb-940d-4d6b-80f1-6ecebbc8b95d",
   "metadata": {
    "tags": []
   },
   "outputs": [],
   "source": [
    "electron_1 = particles.Electron(spin=1 / 2)\n",
    "electron_2 = particles.Electron(spin=1 / 2)\n",
    "g_1 = some_interaction_e_0\n",
    "g_2 = some_interaction_e_1\n",
    "electrons = [electron_1, electron_2]\n",
    "humiltonian_strained = 3 * torch.tensor([10, 10, 10]) * (constants.PLANCK / constants.BOHR) * 4 * 1e5\n",
    "system = spin_system.SpinSystem(\n",
    "    electrons=electrons,\n",
    "    g_tensors=[g_1, g_2],\n",
    "    electron_electron=[(0, 1, some_interaction_e_e)])"
   ]
  },
  {
   "cell_type": "code",
   "execution_count": 372,
   "id": "0179b2fb-63d8-44fc-9f78-65d6529d4462",
   "metadata": {
    "tags": []
   },
   "outputs": [
    {
     "data": {
      "text/plain": [
       "<spin_system.SpinSystem at 0x1acce728a00>"
      ]
     },
     "execution_count": 372,
     "metadata": {},
     "output_type": "execute_result"
    }
   ],
   "source": [
    "system"
   ]
  },
  {
   "cell_type": "code",
   "execution_count": 373,
   "id": "d50f6539-4e6f-42c7-b2cc-ab233cf8f95c",
   "metadata": {
    "tags": []
   },
   "outputs": [
    {
     "data": {
      "text/plain": [
       "torch.Size([192, 3, 3])"
      ]
     },
     "execution_count": 373,
     "metadata": {},
     "output_type": "execute_result"
    }
   ],
   "source": [
    "rotation_matrices.shape"
   ]
  },
  {
   "cell_type": "code",
   "execution_count": 374,
   "id": "d2ee4d9a-0edc-4528-9187-f0092c5dd291",
   "metadata": {
    "tags": []
   },
   "outputs": [],
   "source": [
    "powder = spin_system.MultiOrientedSample(system, humiltonian_strained, rotation_matrices)"
   ]
  },
  {
   "cell_type": "code",
   "execution_count": 375,
   "id": "514b4191-75b3-4fc5-931b-a28bb3cdf014",
   "metadata": {
    "tags": []
   },
   "outputs": [
    {
     "data": {
      "text/plain": [
       "torch.Size([192])"
      ]
     },
     "execution_count": 375,
     "metadata": {},
     "output_type": "execute_result"
    }
   ],
   "source": [
    "powder.calculate_derivative_max().shape"
   ]
  },
  {
   "cell_type": "code",
   "execution_count": 376,
   "id": "c6ac151c-e529-4d2c-bf76-92f57ae966d0",
   "metadata": {},
   "outputs": [],
   "source": [
    "resonator = res_field_algorithm.ResField()\n",
    "F, Gx, Gy, Gz = powder.get_hamiltonian_terms()\n",
    "resonance_frequency = torch.tensor(9.727265 * 1e9)"
   ]
  },
  {
   "cell_type": "code",
   "execution_count": 377,
   "id": "d42ffd97-95a7-42b1-a542-cbedff66b910",
   "metadata": {
    "tags": []
   },
   "outputs": [],
   "source": [
    "B_low = torch.tensor([0.0]).expand(56)\n",
    "B_high = torch.tensor([1000]).expand(56)"
   ]
  },
  {
   "cell_type": "code",
   "execution_count": 378,
   "id": "8b99e31e-77ec-4891-9d89-b647caa9f7e7",
   "metadata": {
    "tags": []
   },
   "outputs": [
    {
     "data": {
      "text/plain": [
       "tensor([0.])"
      ]
     },
     "execution_count": 378,
     "metadata": {},
     "output_type": "execute_result"
    }
   ],
   "source": [
    "v = torch.tensor(0.0)\n",
    "v.unsqueeze(-1)"
   ]
  },
  {
   "cell_type": "code",
   "execution_count": 379,
   "id": "6d590875-2d61-4ad3-81b1-b3210812a352",
   "metadata": {
    "tags": []
   },
   "outputs": [],
   "source": [
    "spectra_creator = spectra_manager.SpectraCreatorTimeResolved(powder.spin_system.dim, tuple(), mesh)"
   ]
  },
  {
   "cell_type": "code",
   "execution_count": 380,
   "id": "7404bf59-2691-47eb-aa7b-c2c0ac78f5ac",
   "metadata": {
    "tags": []
   },
   "outputs": [
    {
     "ename": "TypeError",
     "evalue": "unsupported operand type(s) for *: 'NoneType' and 'Tensor'",
     "output_type": "error",
     "traceback": [
      "\u001b[1;31m---------------------------------------------------------------------------\u001b[0m",
      "\u001b[1;31mTypeError\u001b[0m                                 Traceback (most recent call last)",
      "Cell \u001b[1;32mIn[380], line 3\u001b[0m\n\u001b[0;32m      1\u001b[0m \u001b[38;5;28;01mwith\u001b[39;00m torch\u001b[38;5;241m.\u001b[39mno_grad():\n\u001b[0;32m      2\u001b[0m     fields_1 \u001b[38;5;241m=\u001b[39m torch\u001b[38;5;241m.\u001b[39mlinspace(\u001b[38;5;241m0.340\u001b[39m, \u001b[38;5;241m0.355\u001b[39m, \u001b[38;5;241m1000\u001b[39m)\n\u001b[1;32m----> 3\u001b[0m     answer_1 \u001b[38;5;241m=\u001b[39m \u001b[43mspectra_creator\u001b[49m\u001b[43m(\u001b[49m\u001b[43mpowder\u001b[49m\u001b[43m,\u001b[49m\u001b[43m \u001b[49m\u001b[43mresonance_frequency\u001b[49m\u001b[43m,\u001b[49m\u001b[43m \u001b[49m\u001b[43mfields_1\u001b[49m\u001b[43m)\u001b[49m\n",
      "File \u001b[1;32mD:\\ITC\\РНФ_Курганский_2024\\pythonProject\\spectra_manager.py:275\u001b[0m, in \u001b[0;36mSpectraCreatorTimeResolved.__call__\u001b[1;34m(self, sample, resonance_frequency, fields)\u001b[0m\n\u001b[0;32m    267\u001b[0m res_fields, intensities, width, vector_down, \\\n\u001b[0;32m    268\u001b[0m     vector_up, resonance_energies, mask_triu \u001b[38;5;241m=\u001b[39m\\\n\u001b[0;32m    269\u001b[0m     \u001b[38;5;28mself\u001b[39m\u001b[38;5;241m.\u001b[39mcompute_parameters(sample, Gx, Gy, Gz, batches)\n\u001b[0;32m    271\u001b[0m population \u001b[38;5;241m=\u001b[39m \u001b[38;5;28mself\u001b[39m\u001b[38;5;241m.\u001b[39mintensity_calculator\u001b[38;5;241m.\u001b[39mcalculate_population_evolution(\n\u001b[0;32m    272\u001b[0m     res_fields, vector_down, vector_up, resonance_energies, mask_triu)\n\u001b[1;32m--> 275\u001b[0m intensities \u001b[38;5;241m=\u001b[39m \u001b[43mpopulation\u001b[49m\u001b[43m \u001b[49m\u001b[38;5;241;43m*\u001b[39;49m\u001b[43m \u001b[49m\u001b[43mintensities\u001b[49m  \u001b[38;5;66;03m# REBUILD IN THE END\u001b[39;00m\n\u001b[0;32m    276\u001b[0m res_fields, width, intensities, areas \u001b[38;5;241m=\u001b[39m \u001b[38;5;28mself\u001b[39m\u001b[38;5;241m.\u001b[39m_transform_data_to_delaunay_format(\n\u001b[0;32m    277\u001b[0m res_fields, intensities, width)\n\u001b[0;32m    278\u001b[0m \u001b[38;5;28;01mreturn\u001b[39;00m \u001b[38;5;28mself\u001b[39m\u001b[38;5;241m.\u001b[39mspectra_integrator\u001b[38;5;241m.\u001b[39mintegrate(res_fields, width, intensities, areas, fields)\n",
      "\u001b[1;31mTypeError\u001b[0m: unsupported operand type(s) for *: 'NoneType' and 'Tensor'"
     ]
    }
   ],
   "source": [
    "with torch.no_grad():\n",
    "    fields_1 = torch.linspace(0.340, 0.355, 1000)\n",
    "    answer_1 = spectra_creator(powder, resonance_frequency, fields_1)"
   ]
  },
  {
   "cell_type": "code",
   "execution_count": 381,
   "id": "d052ad5d-e1e3-467b-9b85-8aed55b9380d",
   "metadata": {
    "tags": []
   },
   "outputs": [],
   "source": [
    "import matplotlib.pyplot as plt"
   ]
  },
  {
   "cell_type": "code",
   "execution_count": 116,
   "id": "9434ac7e-f4f4-43a3-9975-db2b4cd95fc9",
   "metadata": {
    "tags": []
   },
   "outputs": [
    {
     "data": {
      "text/plain": [
       "[<matplotlib.lines.Line2D at 0x1acce1bb280>]"
      ]
     },
     "execution_count": 116,
     "metadata": {},
     "output_type": "execute_result"
    },
    {
     "data": {
      "image/png": "[encoded data removed]",
      "text/plain": [
       "<Figure size 640x480 with 1 Axes>"
      ]
     },
     "metadata": {},
     "output_type": "display_data"
    }
   ],
   "source": [
    "plt.plot(fields_1.numpy(), answer_1.numpy(),linewidth=1.0)\n",
    "#plt.plot(fields_1.numpy(), answer_2.numpy(),linewidth=1.0)"
   ]
  },
  {
   "cell_type": "code",
   "execution_count": 3824,
   "id": "02863a45-3359-4d8c-a9c1-67eaea779c66",
   "metadata": {
    "tags": []
   },
   "outputs": [],
   "source": [
    "mesh_size = (56,)\n",
    "fields = torch.linspace(0.10, 0.45, 1000)\n",
    "B_low = fields[..., 0].unsqueeze(-1).expand(*mesh_size)\n",
    "B_high = fields[..., -1].unsqueeze(-1).expand(*mesh_size)"
   ]
  },
  {
   "cell_type": "code",
   "execution_count": null,
   "id": "9f714b6b-3d78-4156-ac40-92ab030dd614",
   "metadata": {
    "tags": []
   },
   "outputs": [],
   "source": [
    "def print_answers():\n",
    "    mesh_size = (56,)\n",
    "    fields = torch.linspace(0.30, 0.33, 2000)\n",
    "    B_low = fields[..., 0].unsqueeze(-1).expand(*mesh_size)\n",
    "    B_high = fields[..., -1].unsqueeze(-1).expand(*mesh_size)\n",
    "    F, Gx, Gy, Gz = powder.get_hamiltonian_terms()\n",
    "    bathces = res_field_algorithm.ResField()(powder, resonance_frequency, B_low, B_high, F, Gz)\n",
    "    (vectors_u, vectors_v), (valid_lvl_down, valid_lvl_up), B_trans, mask_trans, mask_triu, indexes, resonance_energies = bathces[0]\n",
    "    \n",
    "    fields = torch.linspace(0.31, 0.33, 2000)\n",
    "    B_low = fields[..., 0].unsqueeze(-1).expand(*mesh_size)\n",
    "    B_high = fields[..., -1].unsqueeze(-1).expand(*mesh_size)\n",
    "    F, Gx, Gy, Gz = powder.get_hamiltonian_terms()\n",
    "    bathces = res_field_algorithm.ResField()(powder, resonance_frequency, B_low, B_high, F, Gz)\n",
    "    (vectors_u_2, vectors_v_2), (valid_lvl_down_2, valid_lvl_up_2), B_trans_2, mask_trans_2, mask_triu_2, indexes_2, resonance_energies_2 = bathces[0]\n",
    "\n",
    "    #print(f\"B_trans \\n: {1 - B_trans / B_trans_2}\")\n",
    "    #print(f\"mask_triu \\n: {mask_triu}, {mask_triu_2}\")\n",
    "    #print(f\"energies \\n: {1 - resonance_energies / resonance_energies_2}\")\n",
    "    print(B_trans)\n",
    "    #delta = (1 - ((vectors_u + 1e-22) / (vectors_u_2 + 1e-22)).abs())\n",
    "    delta = (vectors_u  - vectors_u_2)\n",
    "    max_u = vectors_u.abs().max(dim=(-1))[0] + vectors_u_2.abs().max(dim=(-1))[0]\n",
    "    res = (delta / max_u[..., None]).abs()\n",
    "    mask = (res >0.6).any(dim=(0, 2))\n",
    "    print(res[:, 3, :] > 0.6)\n",
    "    print(f\"vectors_u \\n: {delta[5, 3, :]}\")\n",
    "    print(f\"vectors_u \\n: {vectors_u_2[5, 3, :]}\")\n",
    "    print(f\"vectors_u \\n: {vectors_u[5, 3, :]}\")"
   ]
  },
  {
   "cell_type": "code",
   "execution_count": null,
   "id": "96499d4c-b726-4b72-85e8-a096f561cc43",
   "metadata": {},
   "outputs": [],
   "source": [
    "print_answers()"
   ]
  },
  {
   "cell_type": "code",
   "execution_count": 1374,
   "id": "fb414cae-f3da-4eef-b433-94b6de4075a7",
   "metadata": {
    "tags": []
   },
   "outputs": [
    {
     "ename": "NameError",
     "evalue": "name 'print_answers' is not defined",
     "output_type": "error",
     "traceback": [
      "\u001b[1;31m---------------------------------------------------------------------------\u001b[0m",
      "\u001b[1;31mNameError\u001b[0m                                 Traceback (most recent call last)",
      "Cell \u001b[1;32mIn[1374], line 5\u001b[0m\n\u001b[0;32m      3\u001b[0m B_low \u001b[38;5;241m=\u001b[39m fields[\u001b[38;5;241m.\u001b[39m\u001b[38;5;241m.\u001b[39m\u001b[38;5;241m.\u001b[39m, \u001b[38;5;241m0\u001b[39m]\u001b[38;5;241m.\u001b[39munsqueeze(\u001b[38;5;241m-\u001b[39m\u001b[38;5;241m1\u001b[39m)\u001b[38;5;241m.\u001b[39mexpand(\u001b[38;5;241m*\u001b[39mmesh_size)\n\u001b[0;32m      4\u001b[0m B_high \u001b[38;5;241m=\u001b[39m fields[\u001b[38;5;241m.\u001b[39m\u001b[38;5;241m.\u001b[39m\u001b[38;5;241m.\u001b[39m, \u001b[38;5;241m-\u001b[39m\u001b[38;5;241m1\u001b[39m]\u001b[38;5;241m.\u001b[39munsqueeze(\u001b[38;5;241m-\u001b[39m\u001b[38;5;241m1\u001b[39m)\u001b[38;5;241m.\u001b[39mexpand(\u001b[38;5;241m*\u001b[39mmesh_size)\n\u001b[1;32m----> 5\u001b[0m \u001b[43mprint_answers\u001b[49m(B_low, B_high)\n",
      "\u001b[1;31mNameError\u001b[0m: name 'print_answers' is not defined"
     ]
    }
   ],
   "source": [
    "mesh_size = (56,)\n",
    "fields = torch.linspace(0.10, 0.45, 1000)\n",
    "B_low = fields[..., 0].unsqueeze(-1).expand(*mesh_size)\n",
    "B_high = fields[..., -1].unsqueeze(-1).expand(*mesh_size)\n",
    "print_answers(B_low, B_high)"
   ]
  },
  {
   "cell_type": "code",
   "execution_count": 1375,
   "id": "b2c2dfdc-7d81-482f-baa7-c31cbc50f8a8",
   "metadata": {
    "tags": []
   },
   "outputs": [
    {
     "ename": "NameError",
     "evalue": "name 'print_answers' is not defined",
     "output_type": "error",
     "traceback": [
      "\u001b[1;31m---------------------------------------------------------------------------\u001b[0m",
      "\u001b[1;31mNameError\u001b[0m                                 Traceback (most recent call last)",
      "Cell \u001b[1;32mIn[1375], line 5\u001b[0m\n\u001b[0;32m      3\u001b[0m B_low \u001b[38;5;241m=\u001b[39m fields[\u001b[38;5;241m.\u001b[39m\u001b[38;5;241m.\u001b[39m\u001b[38;5;241m.\u001b[39m, \u001b[38;5;241m0\u001b[39m]\u001b[38;5;241m.\u001b[39munsqueeze(\u001b[38;5;241m-\u001b[39m\u001b[38;5;241m1\u001b[39m)\u001b[38;5;241m.\u001b[39mexpand(\u001b[38;5;241m*\u001b[39mmesh_size)\n\u001b[0;32m      4\u001b[0m B_high \u001b[38;5;241m=\u001b[39m fields[\u001b[38;5;241m.\u001b[39m\u001b[38;5;241m.\u001b[39m\u001b[38;5;241m.\u001b[39m, \u001b[38;5;241m-\u001b[39m\u001b[38;5;241m1\u001b[39m]\u001b[38;5;241m.\u001b[39munsqueeze(\u001b[38;5;241m-\u001b[39m\u001b[38;5;241m1\u001b[39m)\u001b[38;5;241m.\u001b[39mexpand(\u001b[38;5;241m*\u001b[39mmesh_size)\n\u001b[1;32m----> 5\u001b[0m \u001b[43mprint_answers\u001b[49m(B_low, B_high)\n",
      "\u001b[1;31mNameError\u001b[0m: name 'print_answers' is not defined"
     ]
    }
   ],
   "source": [
    "mesh_size = (56,)\n",
    "fields = torch.linspace(0.30, 0.40, 1000)\n",
    "B_low = fields[..., 0].unsqueeze(-1).expand(*mesh_size)\n",
    "B_high = fields[..., -1].unsqueeze(-1).expand(*mesh_size)\n",
    "print_answers(B_low, B_high)"
   ]
  },
  {
   "cell_type": "code",
   "execution_count": 1376,
   "id": "1baf9083-2b74-475f-bde8-be11609c2adf",
   "metadata": {},
   "outputs": [],
   "source": [
    "fields_1 = torch.linspace(0.305, 0.70, 2000)"
   ]
  },
  {
   "cell_type": "code",
   "execution_count": null,
   "id": "87f6f183-a0d4-4600-9461-a5e9926ccdd2",
   "metadata": {
    "tags": []
   },
   "outputs": [],
   "source": [
    "components = torch.tensor([2.05, 2.05, 2.3])\n",
    "resonance_frequency = torch.tensor([9.8 * 1e9])\n",
    "g_perp = 2.3\n",
    "g_parall = 2.05\n",
    "factor_1 = (1/4) * (constants.BOHR * g_perp ** 2 / (constants.PLANCK * resonance_frequency * (g_perp - g_parall))) ** 0.5\n",
    "factor_2 = 1 / (fields_1 - constants.PLANCK * resonance_frequency / (g_perp * constants.BOHR )) ** 0.5"
   ]
  },
  {
   "cell_type": "code",
   "execution_count": null,
   "id": "210d1f98-42de-4bba-94e1-cd7a9676caee",
   "metadata": {
    "tags": []
   },
   "outputs": [],
   "source": [
    "answer = factor_1 * factor_2"
   ]
  },
  {
   "cell_type": "code",
   "execution_count": null,
   "id": "20a5d5c0-9a4f-4969-a73d-6e8d55980b83",
   "metadata": {
    "tags": []
   },
   "outputs": [],
   "source": [
    "plt.plot(fields_1.numpy(), answer.numpy())"
   ]
  },
  {
   "cell_type": "code",
   "execution_count": 1565,
   "id": "be6e14b2-ee24-4beb-97a5-38f6a794497c",
   "metadata": {
    "tags": []
   },
   "outputs": [],
   "source": [
    "post_processor = mesher.MeshProcessor(init_grid_frequency=5, interpolating_grid_frequency=6, phi_limit= 2* np.pi, interpolate=True)"
   ]
  },
  {
   "cell_type": "code",
   "execution_count": 1566,
   "id": "ef2142a6-6d65-4bdb-be31-bf26cf0c2034",
   "metadata": {
    "tags": []
   },
   "outputs": [],
   "source": [
    "f_values = np.stack((post_processor.base_vertices[:, 0]**2, post_processor.base_vertices[:, 1]**2))"
   ]
  },
  {
   "cell_type": "code",
   "execution_count": 1567,
   "id": "3c9b12c2-1c3c-4ebf-874b-95e0da7bee9f",
   "metadata": {
    "tags": []
   },
   "outputs": [
    {
     "data": {
      "text/plain": [
       "(2, 12)"
      ]
     },
     "execution_count": 1567,
     "metadata": {},
     "output_type": "execute_result"
    }
   ],
   "source": [
    "f_values.shape"
   ]
  },
  {
   "cell_type": "code",
   "execution_count": 1568,
   "id": "8458ff1e-a31c-40a2-a3e2-07659b99bf08",
   "metadata": {
    "tags": []
   },
   "outputs": [
    {
     "ename": "ValueError",
     "evalue": "could not broadcast input array from shape (2,0) into shape (2,6)",
     "output_type": "error",
     "traceback": [
      "\u001b[1;31m---------------------------------------------------------------------------\u001b[0m",
      "\u001b[1;31mValueError\u001b[0m                                Traceback (most recent call last)",
      "Cell \u001b[1;32mIn[1568], line 1\u001b[0m\n\u001b[1;32m----> 1\u001b[0m f_extended \u001b[38;5;241m=\u001b[39m \u001b[43mpost_processor\u001b[49m\u001b[38;5;241;43m.\u001b[39;49m\u001b[43mpost_process\u001b[49m\u001b[43m(\u001b[49m\u001b[43mf_values\u001b[49m\u001b[43m)\u001b[49m\n",
      "File \u001b[1;32mD:\\ITC\\РНФ_Курганский_2024\\pythonProject\\mesher\\delanay_mesh.py:175\u001b[0m, in \u001b[0;36mMeshProcessor.post_process\u001b[1;34m(self, f_values)\u001b[0m\n\u001b[0;32m    174\u001b[0m \u001b[38;5;28;01mdef\u001b[39;00m \u001b[38;5;21mpost_process\u001b[39m(\u001b[38;5;28mself\u001b[39m, f_values):\n\u001b[1;32m--> 175\u001b[0m     f_extended \u001b[38;5;241m=\u001b[39m \u001b[38;5;28;43mself\u001b[39;49m\u001b[38;5;241;43m.\u001b[39;49m\u001b[43m_get_extended_function\u001b[49m\u001b[43m(\u001b[49m\u001b[43mf_values\u001b[49m\u001b[43m)\u001b[49m\n\u001b[0;32m    176\u001b[0m     \u001b[38;5;28;01mif\u001b[39;00m \u001b[38;5;28mself\u001b[39m\u001b[38;5;241m.\u001b[39minterpolate:\n\u001b[0;32m    177\u001b[0m         interpolator \u001b[38;5;241m=\u001b[39m scipy\u001b[38;5;241m.\u001b[39minterpolate\u001b[38;5;241m.\u001b[39mCloughTocher2DInterpolator(\u001b[38;5;28mself\u001b[39m\u001b[38;5;241m.\u001b[39mextended_tri,\n\u001b[0;32m    178\u001b[0m                                                                     f_extended\u001b[38;5;241m.\u001b[39mswapaxes(\u001b[38;5;241m-\u001b[39m\u001b[38;5;241m1\u001b[39m, \u001b[38;5;241m0\u001b[39m)\n\u001b[0;32m    179\u001b[0m                                                                     )\n",
      "File \u001b[1;32mD:\\ITC\\РНФ_Курганский_2024\\pythonProject\\mesher\\delanay_mesh.py:169\u001b[0m, in \u001b[0;36mMeshProcessor._get_extended_function\u001b[1;34m(self, f_values)\u001b[0m\n\u001b[0;32m    167\u001b[0m \u001b[38;5;28;01mif\u001b[39;00m \u001b[38;5;28mself\u001b[39m\u001b[38;5;241m.\u001b[39minterpolate:\n\u001b[0;32m    168\u001b[0m     \u001b[38;5;28;01mfor\u001b[39;00m begin, end, mask \u001b[38;5;129;01min\u001b[39;00m \u001b[38;5;28mself\u001b[39m\u001b[38;5;241m.\u001b[39midx_mask[\u001b[38;5;241m1\u001b[39m:]:\n\u001b[1;32m--> 169\u001b[0m         \u001b[43mf_extended\u001b[49m\u001b[43m[\u001b[49m\u001b[38;5;241;43m.\u001b[39;49m\u001b[38;5;241;43m.\u001b[39;49m\u001b[38;5;241;43m.\u001b[39;49m\u001b[43m,\u001b[49m\u001b[43m \u001b[49m\u001b[43mbegin\u001b[49m\u001b[43m:\u001b[49m\u001b[43mend\u001b[49m\u001b[43m]\u001b[49m \u001b[38;5;241m=\u001b[39m f_extended[\u001b[38;5;241m.\u001b[39m\u001b[38;5;241m.\u001b[39m\u001b[38;5;241m.\u001b[39m, mask]\n\u001b[0;32m    170\u001b[0m     \u001b[38;5;28;01melse\u001b[39;00m:\n\u001b[0;32m    171\u001b[0m         \u001b[38;5;28;01mpass\u001b[39;00m\n",
      "\u001b[1;31mValueError\u001b[0m: could not broadcast input array from shape (2,0) into shape (2,6)"
     ]
    }
   ],
   "source": [
    "f_extended = post_processor.post_process(f_values)"
   ]
  },
  {
   "cell_type": "code",
   "execution_count": 1563,
   "id": "31caa739-5f93-4ed9-8a8f-7d0a55e5249e",
   "metadata": {
    "tags": []
   },
   "outputs": [],
   "source": [
    "import numpy as np"
   ]
  },
  {
   "cell_type": "code",
   "execution_count": 1564,
   "id": "7edf4f50-5110-4bd8-a19c-b67cfa021c94",
   "metadata": {
    "tags": []
   },
   "outputs": [
    {
     "data": {
      "image/png": "[encoded data removed]",
      "text/plain": [
       "<Figure size 640x480 with 1 Axes>"
      ]
     },
     "metadata": {},
     "output_type": "display_data"
    }
   ],
   "source": [
    "tri = Delaunay(post_processor.final_vertices)\n",
    "points = tri.points\n",
    "import matplotlib.pyplot as plt\n",
    "plt.triplot(points[:,0], points[:,1], tri.simplices)\n",
    "plt.plot(points[:,0], points[:,1], 'o')\n",
    "plt.show()"
   ]
  },
  {
   "cell_type": "code",
   "execution_count": null,
   "id": "e173d273-4e0e-41a2-8368-6d64478409c2",
   "metadata": {
    "tags": []
   },
   "outputs": [],
   "source": [
    "points"
   ]
  },
  {
   "cell_type": "code",
   "execution_count": 1538,
   "id": "1d971cff-e6a1-4f4d-abb2-7cdea4480bd5",
   "metadata": {},
   "outputs": [],
   "source": [
    "import numpy as np\n",
    "from scipy.spatial import Delaunay\n",
    "\n",
    "def _create_base_vertices(grid_frequency, phi_limit):\n",
    "    \"\"\"Generates base grid vertices and extended vertices up to phi_limit.\"\"\"\n",
    "    initial_points = np.array([[0.0, 0.01], [phi_limit/2, 1/ (grid_frequency-1)], [phi_limit, 0.01]])\n",
    "\n",
    "    k_values = np.arange(1, grid_frequency)\n",
    "    q_per_k = [np.arange(k) for k in k_values]\n",
    "    q_values = np.concatenate(q_per_k)\n",
    "    k_repeated = np.repeat(k_values, k_values)\n",
    "\n",
    "    phi = phi_limit * q_values / k_repeated\n",
    "    factor = k_repeated / (grid_frequency - 1)\n",
    "\n",
    "    #theta = (np.pi / 2) * k_repeated / (grid_frequency - 1)\n",
    "    theta = np.arcsin(factor)\n",
    "    \n",
    "    \n",
    "    \n",
    "    grid_points = np.column_stack((phi, theta))\n",
    "\n",
    "    base_vertices = np.vstack((initial_points, grid_points))\n",
    "\n",
    "    #theta_2pi = (np.pi / 2) * k_values / (grid_frequency - 1)\n",
    "    theta_2pi = np.arcsin(k_values / (grid_frequency - 1))\n",
    "    additional_points = np.column_stack((np.full_like(theta_2pi, phi_limit), theta_2pi))\n",
    "    extended_vertices = np.vstack((base_vertices, additional_points))\n",
    "\n",
    "    return base_vertices, extended_vertices\n",
    "\n",
    "def spherical_to_cartesian(phi, theta, radius=1):\n",
    "    \"\"\"Converts spherical coordinates to Cartesian (assuming unit sphere).\"\"\"\n",
    "    x = radius * np.sin(theta) * np.cos(phi)\n",
    "    y = radius * np.sin(theta) * np.sin(phi)\n",
    "    z = radius * np.cos(theta)\n",
    "    return np.column_stack((x, y, z))\n",
    "\n",
    "def stereographic_projection(x, y, z):\n",
    "    \"\"\"Projects 3D points onto a 2D plane using stereographic projection.\"\"\"\n",
    "    return np.column_stack((x / (1 - z), y / (1 - z)))  # Stereographic projection"
   ]
  },
  {
   "cell_type": "code",
   "execution_count": 1539,
   "id": "00f6fdef-c824-4677-a835-4ee36c5af80b",
   "metadata": {
    "tags": []
   },
   "outputs": [],
   "source": [
    "_, base_vertices = _create_base_vertices(grid_frequency, 2 * np.pi)"
   ]
  },
  {
   "cell_type": "code",
   "execution_count": null,
   "id": "82b547e9-a470-4884-8035-0fdf08321d8c",
   "metadata": {
    "tags": []
   },
   "outputs": [],
   "source": [
    "tri = Delaunay(base_vertices)\n",
    "points = base_vertices\n",
    "import matplotlib.pyplot as plt\n",
    "plt.triplot(points[:,0], points[:,1], tri.simplices)\n",
    "plt.plot(points[:,0], points[:,1], 'o')\n",
    "plt.show()"
   ]
  },
  {
   "cell_type": "code",
   "execution_count": 1519,
   "id": "949c624d-f969-4aa8-bf66-6c6533d04dfe",
   "metadata": {
    "tags": []
   },
   "outputs": [
    {
     "data": {
      "text/plain": [
       "array([[0.        , 0.01      ],\n",
       "       [6.28318531, 0.01      ],\n",
       "       [0.        , 0.39269908],\n",
       "       [0.        , 0.78539816],\n",
       "       [3.14159265, 0.78539816],\n",
       "       [0.        , 1.17809725],\n",
       "       [2.0943951 , 1.17809725],\n",
       "       [4.1887902 , 1.17809725],\n",
       "       [0.        , 1.57079633],\n",
       "       [1.57079633, 1.57079633],\n",
       "       [3.14159265, 1.57079633],\n",
       "       [4.71238898, 1.57079633],\n",
       "       [6.28318531, 0.39269908],\n",
       "       [6.28318531, 0.78539816],\n",
       "       [6.28318531, 1.17809725],\n",
       "       [6.28318531, 1.57079633]])"
      ]
     },
     "execution_count": 1519,
     "metadata": {},
     "output_type": "execute_result"
    }
   ],
   "source": [
    "base_vertices"
   ]
  },
  {
   "cell_type": "code",
   "execution_count": 1508,
   "id": "a9f3b048-0774-4c0b-b8d9-cbf2a97934af",
   "metadata": {
    "tags": []
   },
   "outputs": [],
   "source": [
    "grid_frequency = 5"
   ]
  },
  {
   "cell_type": "code",
   "execution_count": 1516,
   "id": "aa72c095-d332-46a6-8f09-079b6ee8c39e",
   "metadata": {
    "tags": []
   },
   "outputs": [],
   "source": [
    "a = np.linspace(0, 1, grid_frequency)"
   ]
  },
  {
   "cell_type": "code",
   "execution_count": 1517,
   "id": "f9696a94-63d9-463f-a86c-1f06bc6054b3",
   "metadata": {
    "tags": []
   },
   "outputs": [],
   "source": [
    "theta = np.arcsin(a)"
   ]
  },
  {
   "cell_type": "code",
   "execution_count": 1518,
   "id": "bfd8fac8-83aa-4f1b-9cc7-2684f550428a",
   "metadata": {
    "tags": []
   },
   "outputs": [
    {
     "data": {
      "text/plain": [
       "array([0.        , 0.25268026, 0.52359878, 0.84806208, 1.57079633])"
      ]
     },
     "execution_count": 1518,
     "metadata": {},
     "output_type": "execute_result"
    }
   ],
   "source": [
    "theta"
   ]
  },
  {
   "cell_type": "code",
   "execution_count": 222,
   "id": "0d5b2ed9-aebf-4780-a462-f9cf462b8266",
   "metadata": {},
   "outputs": [],
   "source": [
    "import torch\n",
    "\n",
    "def check_and_find_roots(a3, a2, a1, a0, max_iter=20, tol=1e-6):\n",
    "    \"\"\"\n",
    "    Checks for roots in the interval (0, 1) and finds them for cubic polynomials using the derivative and Newton-Raphson method.\n",
    "\n",
    "    Args:\n",
    "        a3, a2, a1, a0 (torch.Tensor): Coefficients of the cubic polynomials (shape: (N,)).\n",
    "        max_iter (int): Maximum number of iterations for Newton-Raphson.\n",
    "        tol (float): Tolerance for convergence and root checking.\n",
    "\n",
    "    Returns:\n",
    "        has_roots (torch.Tensor): Boolean tensor indicating if each polynomial has roots in (0, 1).\n",
    "        roots_list (list of torch.Tensor): List containing roots in (0, 1) for each polynomial.\n",
    "    \"\"\"\n",
    "    device = a3.device\n",
    "    dtype = a3.dtype\n",
    "    N = a3.shape[0]\n",
    "\n",
    "    # Compute critical points t1 and t2 (roots of derivative)\n",
    "    with torch.no_grad():\n",
    "        D = (2 * a2)**2 - 12 * a3 * a1  # Discriminant\n",
    "        sqrt_D = torch.sqrt(torch.abs(D))\n",
    "        t1 = (-2 * a2 + sqrt_D) / (6 * a3)\n",
    "        t2 = (-2 * a2 - sqrt_D) / (6 * a3)\n",
    "\n",
    "        # Mask for valid critical points (real and in [0, 1])\n",
    "        valid_t1 = (D >= 0) & (t1 >= 0) & (t1 <= 1)\n",
    "        valid_t2 = (D >= 0) & (t2 >= 0) & (t2 <= 1)\n",
    "        t1 = torch.where(valid_t1, t1, torch.nan)\n",
    "        t2 = torch.where(valid_t2, t2, torch.nan)\n",
    "\n",
    "        # Stack 0, t1, t2, 1 and sort\n",
    "        points = torch.stack([\n",
    "            torch.zeros(N, device=device, dtype=dtype),\n",
    "            t1,\n",
    "            t2,\n",
    "            torch.ones(N, device=device, dtype=dtype)\n",
    "        ], dim=1)\n",
    "        sorted_points, _ = torch.sort(points, dim=1)\n",
    "\n",
    "        # Generate intervals (start and end)\n",
    "        intervals_start = sorted_points[:, :-1]\n",
    "        intervals_end = sorted_points[:, 1:]\n",
    "\n",
    "        # Mask for valid intervals (start < end and both not NaN)\n",
    "        mask_valid = (intervals_start < intervals_end) & ~torch.isnan(intervals_start) & ~torch.isnan(intervals_end)\n",
    "\n",
    "        # Compute f at interval endpoints\n",
    "        a3_exp = a3.unsqueeze(1)\n",
    "        a2_exp = a2.unsqueeze(1)\n",
    "        a1_exp = a1.unsqueeze(1)\n",
    "        a0_exp = a0.unsqueeze(1)\n",
    "        f_start = a3_exp * intervals_start**3 + a2_exp * intervals_start**2 + a1_exp * intervals_start + a0_exp\n",
    "        f_end = a3_exp * intervals_end**3 + a2_exp * intervals_end**2 + a1_exp * intervals_end + a0_exp\n",
    "        sign_change = (f_start * f_end) < 0\n",
    "        mask_interval = mask_valid & sign_change\n",
    "\n",
    "        # Flatten all valid intervals and their polynomial indices\n",
    "        flat_mask = mask_interval.flatten()\n",
    "        valid_starts = intervals_start.flatten()[flat_mask]\n",
    "        valid_ends = intervals_end.flatten()[flat_mask]\n",
    "        batch_indices = torch.arange(N, device=device).unsqueeze(1).expand(N, 3).flatten()[flat_mask]\n",
    "\n",
    "        if len(batch_indices) == 0:\n",
    "            return torch.zeros(N, dtype=torch.bool, device=device), [torch.tensor([], dtype=dtype, device=device) for _ in range(N)]\n",
    "\n",
    "        # Gather coefficients for valid intervals\n",
    "        a3_valid = a3[batch_indices]\n",
    "        a2_valid = a2[batch_indices]\n",
    "        a1_valid = a1[batch_indices]\n",
    "        a0_valid = a0[batch_indices]\n",
    "\n",
    "        # Initialize Newton-Raphson\n",
    "        t = (valid_starts + valid_ends) / 2.0\n",
    "        for _ in range(max_iter):\n",
    "            f_t = a3_valid * t**3 + a2_valid * t**2 + a1_valid * t + a0_valid\n",
    "            f_prime_t = 3 * a3_valid * t**2 + 2 * a2_valid * t + a1_valid\n",
    "            delta = f_t / (f_prime_t + 1e-12)  # Avoid division by zero\n",
    "            t_new = t - delta\n",
    "\n",
    "            # Check if new t is within bounds, else use bisection\n",
    "            out_of_bounds = (t_new < valid_starts) | (t_new > valid_ends)\n",
    "            t_new = torch.where(out_of_bounds, (valid_starts + valid_ends) / 2.0, t_new)\n",
    "\n",
    "            # Update t and check convergence\n",
    "            t = t_new\n",
    "\n",
    "        # Check final convergence and validity\n",
    "        f_t = a3_valid * t**3 + a2_valid * t**2 + a1_valid * t + a0_valid\n",
    "        valid_root = (t >= valid_starts) & (t <= valid_ends) & (f_t.abs() <= tol)\n",
    "        roots = t[valid_root]\n",
    "        valid_batch_indices = batch_indices[valid_root]\n",
    "\n",
    "    # Collect roots into list\n",
    "    roots_list = [[] for _ in range(N)]\n",
    "    for idx, root in zip(valid_batch_indices.cpu().numpy(), roots.cpu().numpy()):\n",
    "        roots_list[idx].append(root)\n",
    "    \n",
    "    # Deduplicate and convert to tensors\n",
    "    roots_tensors = []\n",
    "    has_roots = torch.zeros(N, dtype=torch.bool, device=device)\n",
    "    for i in range(N):\n",
    "        unique_roots = torch.unique(torch.tensor(roots_list[i], dtype=dtype, device=device))\n",
    "        # Filter roots within (0, 1) strictly (endpoints excluded)\n",
    "        in_interval = (unique_roots > 0) & (unique_roots < 1)\n",
    "        unique_roots = unique_roots[in_interval]\n",
    "        roots_tensors.append(unique_roots)\n",
    "        has_roots[i] = len(unique_roots) > 0\n",
    "\n",
    "    return has_roots, roots_tensors"
   ]
  },
  {
   "cell_type": "code",
   "execution_count": null,
   "id": "a0afd27a-c7e3-49b3-b131-b8bacafaf6d2",
   "metadata": {},
   "outputs": [],
   "source": []
  }
 ],
 "metadata": {
  "kernelspec": {
   "display_name": "Python 3 (ipykernel)",
   "language": "python",
   "name": "python3"
  },
  "language_info": {
   "codemirror_mode": {
    "name": "ipython",
    "version": 3
   },
   "file_extension": ".py",
   "mimetype": "text/x-python",
   "name": "python",
   "nbconvert_exporter": "python",
   "pygments_lexer": "ipython3",
   "version": "3.10.9"
  }
 },
 "nbformat": 4,
 "nbformat_minor": 5
}
