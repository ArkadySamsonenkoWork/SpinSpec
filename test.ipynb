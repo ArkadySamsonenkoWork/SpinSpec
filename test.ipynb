{
 "cells": [
  {
   "cell_type": "code",
   "execution_count": 302,
   "id": "469f952c-49e0-427a-80eb-0bf511c5e532",
   "metadata": {
    "tags": []
   },
   "outputs": [
    {
     "data": {
      "text/plain": [
       "<module 'constants' from 'D:\\\\ITC\\\\РНФ_Курганский_2024\\\\pythonProject\\\\constants.py'>"
      ]
     },
     "execution_count": 302,
     "metadata": {},
     "output_type": "execute_result"
    }
   ],
   "source": [
    "import numpy as np\n",
    "import torch\n",
    "from scipy.spatial import Delaunay\n",
    "import matplotlib.pyplot as plt\n",
    "\n",
    "import mesher, spin_system, utils, particles, res_field_algorithm, spectra_manager, constants\n",
    "from importlib import reload\n",
    "reload(mesher)\n",
    "reload(spin_system)\n",
    "reload(utils)\n",
    "reload(particles)\n",
    "reload(res_field_algorithm)\n",
    "reload(spectra_manager)\n",
    "reload(constants)"
   ]
  },
  {
   "cell_type": "code",
   "execution_count": 303,
   "id": "fa81e6dc-69de-4c12-9e1a-b71a3c119734",
   "metadata": {
    "tags": []
   },
   "outputs": [],
   "source": [
    "mesh = mesher.DelaunayMesh()\n",
    "rotation_matrices = mesh.create_rotation_matrices()"
   ]
  },
  {
   "cell_type": "code",
   "execution_count": 304,
   "id": "91e2a1fd-d348-433e-a431-93a7e4f2e79b",
   "metadata": {
    "tags": []
   },
   "outputs": [
    {
     "name": "stdout",
     "output_type": "stream",
     "text": [
      "tensor(6.2835)\n"
     ]
    }
   ],
   "source": [
    "interpolation_grid = torch.tensor([[val[0], val[1]] for val in mesh.interpolation_grid])\n",
    "areas = mesh.spherical_triangle_areas(interpolation_grid, mesh.final_simplices)"
   ]
  },
  {
   "cell_type": "code",
   "execution_count": null,
   "id": "0b20aba0-3627-48bf-9345-f05ba3215deb",
   "metadata": {
    "tags": []
   },
   "outputs": [],
   "source": []
  },
  {
   "cell_type": "code",
   "execution_count": 305,
   "id": "ea6af64e-0367-4a48-8049-73f7c6a86d79",
   "metadata": {
    "tags": []
   },
   "outputs": [],
   "source": [
    "ham_strained = torch.tensor([[1.1, 1.1, 1.3], [1.2, 1.3, 1.2]])"
   ]
  },
  {
   "cell_type": "code",
   "execution_count": 306,
   "id": "f884817a-6eb1-4769-b715-24a7bc4cf7d9",
   "metadata": {
    "tags": []
   },
   "outputs": [],
   "source": [
    "components = torch.tensor([[1.1, 1.1, 1.3], [1.2, 1.3, 1.2]])\n",
    "frame = torch.tensor([[1.1, 1.1, 1.3], [1.2, 1.3, 1.2]])\n",
    "#strain = torch.tensor([[1.1, 1.1, 1.3], [1.2, 1.3, 1.2]])\n",
    "\n",
    "some_interaction_1 = spin_system.Interaction(components, frame, None)\n",
    "some_interaction_2 = spin_system.Interaction(components, frame, None)"
   ]
  },
  {
   "cell_type": "code",
   "execution_count": 307,
   "id": "7d9a65cc-97c8-4dc5-9d0a-d71cc234fd4b",
   "metadata": {
    "tags": []
   },
   "outputs": [],
   "source": [
    "components = torch.tensor([2.3, 2.31, 2.05])\n",
    "frame = torch.tensor([0, 0, 0.0])\n",
    "strain = torch.tensor([0.2, 0.1, 0.2])\n",
    "\n",
    "some_interaction_1 = spin_system.Interaction(components, frame, strain / 10000)\n",
    "some_interaction_2 = spin_system.Interaction(components * 3e2, frame, strain / 100000)"
   ]
  },
  {
   "cell_type": "code",
   "execution_count": 308,
   "id": "addcdbdb-940d-4d6b-80f1-6ecebbc8b95d",
   "metadata": {
    "tags": []
   },
   "outputs": [],
   "source": [
    "electron = particles.Electron(spin=1 / 2)\n",
    "g_isotropic = some_interaction_1\n",
    "nucleus = particles.Nucleus(\"14N\")\n",
    "A = some_interaction_2\n",
    "electrons = [electron]\n",
    "nuclei = [nucleus]\n",
    "humiltonian_strained = torch.tensor([1.1, 2.2, 3.3]) / 10000"
   ]
  },
  {
   "cell_type": "code",
   "execution_count": 309,
   "id": "0179b2fb-63d8-44fc-9f78-65d6529d4462",
   "metadata": {
    "tags": []
   },
   "outputs": [],
   "source": [
    "system = spin_system.SpinSystem(electrons=electrons, nuclei=nuclei, g_tensors=[g_isotropic], hyperfine_interactions=[(0, 0, A)])"
   ]
  },
  {
   "cell_type": "code",
   "execution_count": 310,
   "id": "f01c4f4d-05d8-4c15-b536-867ab5888669",
   "metadata": {
    "tags": []
   },
   "outputs": [],
   "source": [
    "def iterate_and_print_shape(gen):\n",
    "    for value in gen:\n",
    "        print(value.shape)"
   ]
  },
  {
   "cell_type": "code",
   "execution_count": 311,
   "id": "7d2f41a3-72aa-4043-a541-e82cb82f3a28",
   "metadata": {
    "tags": []
   },
   "outputs": [
    {
     "name": "stdout",
     "output_type": "stream",
     "text": [
      "torch.Size([6, 6])\n",
      "torch.Size([6, 6])\n",
      "torch.Size([6, 6])\n"
     ]
    }
   ],
   "source": [
    "iterate_and_print_shape(system.build_field_dep_stained())"
   ]
  },
  {
   "cell_type": "code",
   "execution_count": 312,
   "id": "d2ee4d9a-0edc-4528-9187-f0092c5dd291",
   "metadata": {
    "tags": []
   },
   "outputs": [],
   "source": [
    "powder = spin_system.MultiOrientedSystem(system, humiltonian_strained, rotation_matrices)"
   ]
  },
  {
   "cell_type": "code",
   "execution_count": 313,
   "id": "583c8e3c-e831-4f87-9bbb-4feceda26fdd",
   "metadata": {
    "tags": []
   },
   "outputs": [
    {
     "name": "stdout",
     "output_type": "stream",
     "text": [
      "torch.Size([469, 6, 6])\n",
      "torch.Size([469, 6, 6])\n",
      "torch.Size([469, 6, 6])\n"
     ]
    }
   ],
   "source": [
    "iterate_and_print_shape(powder.spin_system.build_field_dep_stained())"
   ]
  },
  {
   "cell_type": "code",
   "execution_count": 314,
   "id": "1db19019-9ebe-4f01-94a6-6a8c81f2c14d",
   "metadata": {
    "tags": []
   },
   "outputs": [
    {
     "data": {
      "text/plain": [
       "torch.Size([469, 6, 6])"
      ]
     },
     "execution_count": 314,
     "metadata": {},
     "output_type": "execute_result"
    }
   ],
   "source": [
    "powder.get_hamiltonian_terms()[0].shape"
   ]
  },
  {
   "cell_type": "code",
   "execution_count": 315,
   "id": "514b4191-75b3-4fc5-931b-a28bb3cdf014",
   "metadata": {
    "tags": []
   },
   "outputs": [
    {
     "data": {
      "text/plain": [
       "torch.Size([469, 1, 1])"
      ]
     },
     "execution_count": 315,
     "metadata": {},
     "output_type": "execute_result"
    }
   ],
   "source": [
    "powder.calculate_derivative_max().shape"
   ]
  },
  {
   "cell_type": "code",
   "execution_count": 316,
   "id": "23b8b6d8-edd1-43d9-bb0d-90ed420ac94e",
   "metadata": {
    "tags": []
   },
   "outputs": [
    {
     "name": "stdout",
     "output_type": "stream",
     "text": [
      "torch.Size([469, 6, 6])\n",
      "torch.Size([469, 6, 6])\n",
      "torch.Size([469, 6, 6])\n"
     ]
    }
   ],
   "source": [
    "for i in powder.build_field_dep_stained():\n",
    "    print(i.shape)"
   ]
  },
  {
   "cell_type": "code",
   "execution_count": 317,
   "id": "fcfe6537-7f55-4ace-8599-821ae7d9d35f",
   "metadata": {},
   "outputs": [],
   "source": [
    "resonator = res_field_algorithm.ResField()\n",
    "F, Gx, Gy, Gz = powder.get_hamiltonian_terms()\n",
    "resonance_frequency = torch.tensor([9.8 * 1e9])"
   ]
  },
  {
   "cell_type": "code",
   "execution_count": 318,
   "id": "d42ffd97-95a7-42b1-a542-cbedff66b910",
   "metadata": {
    "tags": []
   },
   "outputs": [],
   "source": [
    "B_low = torch.tensor([0.0]).expand(56)\n",
    "B_high = torch.tensor([1000]).expand(56)"
   ]
  },
  {
   "cell_type": "code",
   "execution_count": 319,
   "id": "8b99e31e-77ec-4891-9d89-b647caa9f7e7",
   "metadata": {
    "tags": []
   },
   "outputs": [
    {
     "data": {
      "text/plain": [
       "tensor([0.])"
      ]
     },
     "execution_count": 319,
     "metadata": {},
     "output_type": "execute_result"
    }
   ],
   "source": [
    "v = torch.tensor(0.0)\n",
    "v.unsqueeze(-1)"
   ]
  },
  {
   "cell_type": "code",
   "execution_count": 320,
   "id": "2ee803df-00de-4bea-bee9-8bba522e7a73",
   "metadata": {
    "tags": []
   },
   "outputs": [
    {
     "ename": "RuntimeError",
     "evalue": "The size of tensor a (469) must match the size of tensor b (56) at non-singleton dimension 0",
     "output_type": "error",
     "traceback": [
      "\u001b[1;31m---------------------------------------------------------------------------\u001b[0m",
      "\u001b[1;31mRuntimeError\u001b[0m                              Traceback (most recent call last)",
      "Cell \u001b[1;32mIn[320], line 1\u001b[0m\n\u001b[1;32m----> 1\u001b[0m batches \u001b[38;5;241m=\u001b[39m \u001b[43mresonator\u001b[49m\u001b[43m(\u001b[49m\u001b[43mpowder\u001b[49m\u001b[43m,\u001b[49m\u001b[43m \u001b[49m\u001b[43mresonance_frequency\u001b[49m\u001b[43m,\u001b[49m\u001b[43m \u001b[49m\u001b[43mB_low\u001b[49m\u001b[43m,\u001b[49m\u001b[43m \u001b[49m\u001b[43mB_high\u001b[49m\u001b[43m,\u001b[49m\u001b[43m \u001b[49m\u001b[43mF\u001b[49m\u001b[43m,\u001b[49m\u001b[43m \u001b[49m\u001b[43mGz\u001b[49m\u001b[43m)\u001b[49m\n",
      "File \u001b[1;32mD:\\ITC\\РНФ_Курганский_2024\\pythonProject\\res_field_algorithm.py:775\u001b[0m, in \u001b[0;36mResField.__call__\u001b[1;34m(self, system, resonance_frequency, B_low, B_high, F, Gz)\u001b[0m\n\u001b[0;32m    773\u001b[0m \u001b[38;5;28;01mdef\u001b[39;00m \u001b[38;5;21m__call__\u001b[39m(\u001b[38;5;28mself\u001b[39m, system, resonance_frequency, B_low: torch\u001b[38;5;241m.\u001b[39mTensor, B_high: torch\u001b[38;5;241m.\u001b[39mTensor, F, Gz):\n\u001b[0;32m    774\u001b[0m     interval_solver, locator, args \u001b[38;5;241m=\u001b[39m \u001b[38;5;28mself\u001b[39m\u001b[38;5;241m.\u001b[39m_solver_fabric(F, resonance_frequency)\n\u001b[1;32m--> 775\u001b[0m     bathces \u001b[38;5;241m=\u001b[39m \u001b[43minterval_solver\u001b[49m\u001b[43m(\u001b[49m\u001b[43mF\u001b[49m\u001b[43m,\u001b[49m\u001b[43m \u001b[49m\u001b[43mGz\u001b[49m\u001b[43m,\u001b[49m\u001b[43m \u001b[49m\u001b[43mB_low\u001b[49m\u001b[43m,\u001b[49m\u001b[43m \u001b[49m\u001b[43mB_high\u001b[49m\u001b[43m,\u001b[49m\u001b[43m \u001b[49m\u001b[43mresonance_frequency\u001b[49m\u001b[43m,\u001b[49m\u001b[43m \u001b[49m\u001b[38;5;241;43m*\u001b[39;49m\u001b[43margs\u001b[49m\u001b[43m)\u001b[49m\n\u001b[0;32m    776\u001b[0m     bathces \u001b[38;5;241m=\u001b[39m locator(bathces, resonance_frequency)\n\u001b[0;32m    777\u001b[0m     \u001b[38;5;28;01mreturn\u001b[39;00m bathces\n",
      "File \u001b[1;32mD:\\ITC\\РНФ_Курганский_2024\\pythonProject\\res_field_algorithm.py:425\u001b[0m, in \u001b[0;36mBaseResonanceIntervalSolver.__call__\u001b[1;34m(self, F, Gz, B_low, B_high, resonance_frequency, *args, **kwargs)\u001b[0m\n\u001b[0;32m    423\u001b[0m B_low \u001b[38;5;241m=\u001b[39m B_low[\u001b[38;5;241m.\u001b[39m\u001b[38;5;241m.\u001b[39m\u001b[38;5;241m.\u001b[39m, \u001b[38;5;28;01mNone\u001b[39;00m, \u001b[38;5;28;01mNone\u001b[39;00m]\n\u001b[0;32m    424\u001b[0m B_high \u001b[38;5;241m=\u001b[39m B_high[\u001b[38;5;241m.\u001b[39m\u001b[38;5;241m.\u001b[39m\u001b[38;5;241m.\u001b[39m, \u001b[38;5;28;01mNone\u001b[39;00m, \u001b[38;5;28;01mNone\u001b[39;00m]\n\u001b[1;32m--> 425\u001b[0m Hamiltonians \u001b[38;5;241m=\u001b[39m torch\u001b[38;5;241m.\u001b[39mstack((F \u001b[38;5;241m+\u001b[39m \u001b[43mGz\u001b[49m\u001b[43m \u001b[49m\u001b[38;5;241;43m*\u001b[39;49m\u001b[43m \u001b[49m\u001b[43mB_low\u001b[49m, F \u001b[38;5;241m+\u001b[39m Gz \u001b[38;5;241m*\u001b[39m B_high), dim\u001b[38;5;241m=\u001b[39m\u001b[38;5;241m-\u001b[39m\u001b[38;5;241m3\u001b[39m)\n\u001b[0;32m    426\u001b[0m eig_values, eig_vectors \u001b[38;5;241m=\u001b[39m torch\u001b[38;5;241m.\u001b[39mlinalg\u001b[38;5;241m.\u001b[39meigh(Hamiltonians)\n\u001b[0;32m    427\u001b[0m eig_values_low, eig_values_high \u001b[38;5;241m=\u001b[39m eig_values[\u001b[38;5;241m.\u001b[39m\u001b[38;5;241m.\u001b[39m\u001b[38;5;241m.\u001b[39m, \u001b[38;5;241m0\u001b[39m, :], eig_values[\u001b[38;5;241m.\u001b[39m\u001b[38;5;241m.\u001b[39m\u001b[38;5;241m.\u001b[39m, \u001b[38;5;241m1\u001b[39m, :]\n",
      "\u001b[1;31mRuntimeError\u001b[0m: The size of tensor a (469) must match the size of tensor b (56) at non-singleton dimension 0"
     ]
    }
   ],
   "source": [
    "batches = resonator(powder, resonance_frequency, B_low, B_high, F, Gz)"
   ]
  },
  {
   "cell_type": "code",
   "execution_count": 321,
   "id": "577ba23e-49ce-48b4-acdd-286a6b0870ea",
   "metadata": {
    "tags": []
   },
   "outputs": [
    {
     "data": {
      "text/plain": [
       "torch.Size([469])"
      ]
     },
     "execution_count": 321,
     "metadata": {},
     "output_type": "execute_result"
    }
   ],
   "source": [
    "mesh.size"
   ]
  },
  {
   "cell_type": "code",
   "execution_count": 322,
   "id": "6d590875-2d61-4ad3-81b1-b3210812a352",
   "metadata": {
    "tags": []
   },
   "outputs": [],
   "source": [
    "spectra_creator = spectra_manager.SpectraCreator(6, (469, ), mesh)"
   ]
  },
  {
   "cell_type": "code",
   "execution_count": 323,
   "id": "8b0a0917-7e23-41d0-92a9-27abd2b71e1f",
   "metadata": {
    "tags": []
   },
   "outputs": [
    {
     "name": "stdout",
     "output_type": "stream",
     "text": [
      "tensor(6.2831)\n"
     ]
    }
   ],
   "source": [
    "fields_1 = torch.linspace(0.290, 0.36, 3000)\n",
    "answer = spectra_creator(powder, resonance_frequency, fields_1)"
   ]
  },
  {
   "cell_type": "code",
   "execution_count": 324,
   "id": "5a2618d0-b0ed-41a5-8833-404a53497186",
   "metadata": {
    "tags": []
   },
   "outputs": [
    {
     "data": {
      "text/plain": [
       "tensor([ 0.0366, -0.1216,  0.0324,  ...,  0.4837,  0.5241,  0.0493])"
      ]
     },
     "execution_count": 324,
     "metadata": {},
     "output_type": "execute_result"
    }
   ],
   "source": [
    "answer"
   ]
  },
  {
   "cell_type": "code",
   "execution_count": 325,
   "id": "d052ad5d-e1e3-467b-9b85-8aed55b9380d",
   "metadata": {
    "tags": []
   },
   "outputs": [],
   "source": [
    "import matplotlib.pyplot as plt"
   ]
  },
  {
   "cell_type": "code",
   "execution_count": 326,
   "id": "9434ac7e-f4f4-43a3-9975-db2b4cd95fc9",
   "metadata": {
    "tags": []
   },
   "outputs": [
    {
     "data": {
      "text/plain": [
       "[<matplotlib.lines.Line2D at 0x262705a08b0>]"
      ]
     },
     "execution_count": 326,
     "metadata": {},
     "output_type": "execute_result"
    },
    {
     "data": {
      "image/png": "[encoded data removed]",
      "text/plain": [
       "<Figure size 640x480 with 1 Axes>"
      ]
     },
     "metadata": {},
     "output_type": "display_data"
    }
   ],
   "source": [
    "plt.plot(fields_1.numpy(), answer.numpy())"
   ]
  },
  {
   "cell_type": "code",
   "execution_count": 275,
   "id": "b0d232c9-af08-4bf0-92a3-83e50069b44d",
   "metadata": {
    "tags": []
   },
   "outputs": [
    {
     "data": {
      "text/plain": [
       "<module 'constants' from 'D:\\\\ITC\\\\РНФ_Курганский_2024\\\\pythonProject\\\\constants.py'>"
      ]
     },
     "execution_count": 275,
     "metadata": {},
     "output_type": "execute_result"
    }
   ],
   "source": [
    "import numpy as np\n",
    "import torch\n",
    "from scipy.spatial import Delaunay\n",
    "import matplotlib.pyplot as plt\n",
    "\n",
    "import mesher, spin_system, utils, particles, res_field_algorithm, spectra_manager, constants\n",
    "from importlib import reload\n",
    "reload(mesher)\n",
    "reload(spin_system)\n",
    "reload(utils)\n",
    "reload(particles)\n",
    "reload(res_field_algorithm)\n",
    "reload(spectra_manager)\n",
    "reload(constants)"
   ]
  },
  {
   "cell_type": "code",
   "execution_count": 276,
   "id": "02863a45-3359-4d8c-a9c1-67eaea779c66",
   "metadata": {
    "tags": []
   },
   "outputs": [],
   "source": [
    "mesh_size = (56,)\n",
    "fields = torch.linspace(0.10, 0.45, 1000)\n",
    "B_low = fields[..., 0].unsqueeze(-1).expand(*mesh_size)\n",
    "B_high = fields[..., -1].unsqueeze(-1).expand(*mesh_size)"
   ]
  },
  {
   "cell_type": "code",
   "execution_count": 706,
   "id": "9f714b6b-3d78-4156-ac40-92ab030dd614",
   "metadata": {
    "tags": []
   },
   "outputs": [],
   "source": [
    "def print_answers():\n",
    "    mesh_size = (56,)\n",
    "    fields = torch.linspace(0.30, 0.33, 2000)\n",
    "    B_low = fields[..., 0].unsqueeze(-1).expand(*mesh_size)\n",
    "    B_high = fields[..., -1].unsqueeze(-1).expand(*mesh_size)\n",
    "    F, Gx, Gy, Gz = powder.get_hamiltonian_terms()\n",
    "    bathces = res_field_algorithm.ResField()(powder, resonance_frequency, B_low, B_high, F, Gz)\n",
    "    (vectors_u, vectors_v), (valid_lvl_down, valid_lvl_up), B_trans, mask_trans, mask_triu, indexes, resonance_energies = bathces[0]\n",
    "    \n",
    "    fields = torch.linspace(0.31, 0.33, 2000)\n",
    "    B_low = fields[..., 0].unsqueeze(-1).expand(*mesh_size)\n",
    "    B_high = fields[..., -1].unsqueeze(-1).expand(*mesh_size)\n",
    "    F, Gx, Gy, Gz = powder.get_hamiltonian_terms()\n",
    "    bathces = res_field_algorithm.ResField()(powder, resonance_frequency, B_low, B_high, F, Gz)\n",
    "    (vectors_u_2, vectors_v_2), (valid_lvl_down_2, valid_lvl_up_2), B_trans_2, mask_trans_2, mask_triu_2, indexes_2, resonance_energies_2 = bathces[0]\n",
    "\n",
    "    #print(f\"B_trans \\n: {1 - B_trans / B_trans_2}\")\n",
    "    #print(f\"mask_triu \\n: {mask_triu}, {mask_triu_2}\")\n",
    "    #print(f\"energies \\n: {1 - resonance_energies / resonance_energies_2}\")\n",
    "    print(B_trans)\n",
    "    #delta = (1 - ((vectors_u + 1e-22) / (vectors_u_2 + 1e-22)).abs())\n",
    "    delta = (vectors_u  - vectors_u_2)\n",
    "    max_u = vectors_u.abs().max(dim=(-1))[0] + vectors_u_2.abs().max(dim=(-1))[0]\n",
    "    res = (delta / max_u[..., None]).abs()\n",
    "    mask = (res >0.6).any(dim=(0, 2))\n",
    "    print(res[:, 3, :] > 0.6)\n",
    "    print(f\"vectors_u \\n: {delta[5, 3, :]}\")\n",
    "    print(f\"vectors_u \\n: {vectors_u_2[5, 3, :]}\")\n",
    "    print(f\"vectors_u \\n: {vectors_u[5, 3, :]}\")"
   ]
  },
  {
   "cell_type": "code",
   "execution_count": null,
   "id": "96499d4c-b726-4b72-85e8-a096f561cc43",
   "metadata": {},
   "outputs": [],
   "source": [
    "print_answers()"
   ]
  },
  {
   "cell_type": "code",
   "execution_count": 703,
   "id": "fb414cae-f3da-4eef-b433-94b6de4075a7",
   "metadata": {
    "tags": []
   },
   "outputs": [
    {
     "ename": "TypeError",
     "evalue": "print_answers() takes 0 positional arguments but 2 were given",
     "output_type": "error",
     "traceback": [
      "\u001b[1;31m---------------------------------------------------------------------------\u001b[0m",
      "\u001b[1;31mTypeError\u001b[0m                                 Traceback (most recent call last)",
      "Cell \u001b[1;32mIn[703], line 5\u001b[0m\n\u001b[0;32m      3\u001b[0m B_low \u001b[38;5;241m=\u001b[39m fields[\u001b[38;5;241m.\u001b[39m\u001b[38;5;241m.\u001b[39m\u001b[38;5;241m.\u001b[39m, \u001b[38;5;241m0\u001b[39m]\u001b[38;5;241m.\u001b[39munsqueeze(\u001b[38;5;241m-\u001b[39m\u001b[38;5;241m1\u001b[39m)\u001b[38;5;241m.\u001b[39mexpand(\u001b[38;5;241m*\u001b[39mmesh_size)\n\u001b[0;32m      4\u001b[0m B_high \u001b[38;5;241m=\u001b[39m fields[\u001b[38;5;241m.\u001b[39m\u001b[38;5;241m.\u001b[39m\u001b[38;5;241m.\u001b[39m, \u001b[38;5;241m-\u001b[39m\u001b[38;5;241m1\u001b[39m]\u001b[38;5;241m.\u001b[39munsqueeze(\u001b[38;5;241m-\u001b[39m\u001b[38;5;241m1\u001b[39m)\u001b[38;5;241m.\u001b[39mexpand(\u001b[38;5;241m*\u001b[39mmesh_size)\n\u001b[1;32m----> 5\u001b[0m \u001b[43mprint_answers\u001b[49m\u001b[43m(\u001b[49m\u001b[43mB_low\u001b[49m\u001b[43m,\u001b[49m\u001b[43m \u001b[49m\u001b[43mB_high\u001b[49m\u001b[43m)\u001b[49m\n",
      "\u001b[1;31mTypeError\u001b[0m: print_answers() takes 0 positional arguments but 2 were given"
     ]
    }
   ],
   "source": [
    "mesh_size = (56,)\n",
    "fields = torch.linspace(0.10, 0.45, 1000)\n",
    "B_low = fields[..., 0].unsqueeze(-1).expand(*mesh_size)\n",
    "B_high = fields[..., -1].unsqueeze(-1).expand(*mesh_size)\n",
    "print_answers(B_low, B_high)"
   ]
  },
  {
   "cell_type": "code",
   "execution_count": null,
   "id": "b2c2dfdc-7d81-482f-baa7-c31cbc50f8a8",
   "metadata": {
    "tags": []
   },
   "outputs": [],
   "source": [
    "mesh_size = (56,)\n",
    "fields = torch.linspace(0.30, 0.40, 1000)\n",
    "B_low = fields[..., 0].unsqueeze(-1).expand(*mesh_size)\n",
    "B_high = fields[..., -1].unsqueeze(-1).expand(*mesh_size)\n",
    "print_answers(B_low, B_high)"
   ]
  },
  {
   "cell_type": "code",
   "execution_count": 1219,
   "id": "1baf9083-2b74-475f-bde8-be11609c2adf",
   "metadata": {},
   "outputs": [],
   "source": [
    "fields_1 = torch.linspace(0.305, 0.70, 2000)"
   ]
  },
  {
   "cell_type": "code",
   "execution_count": 1408,
   "id": "87f6f183-a0d4-4600-9461-a5e9926ccdd2",
   "metadata": {
    "tags": []
   },
   "outputs": [],
   "source": [
    "components = torch.tensor([2.05, 2.05, 2.3])\n",
    "resonance_frequency = torch.tensor([9.8 * 1e9])\n",
    "g_perp = 2.3\n",
    "g_parall = 2.05\n",
    "factor_1 = (1/4) * (constants.BOHR * g_perp ** 2 / (constants.PLANCK * resonance_frequency * (g_perp - g_parall))) ** 0.5\n",
    "factor_2 = 1 / (fields_1 - constants.PLANCK * resonance_frequency / (g_perp * constants.BOHR )) ** 0.5"
   ]
  },
  {
   "cell_type": "code",
   "execution_count": 1409,
   "id": "210d1f98-42de-4bba-94e1-cd7a9676caee",
   "metadata": {
    "tags": []
   },
   "outputs": [],
   "source": [
    "answer = factor_1 * factor_2"
   ]
  },
  {
   "cell_type": "code",
   "execution_count": 1410,
   "id": "20a5d5c0-9a4f-4969-a73d-6e8d55980b83",
   "metadata": {
    "tags": []
   },
   "outputs": [
    {
     "data": {
      "text/plain": [
       "[<matplotlib.lines.Line2D at 0x1ee111cf1f0>]"
      ]
     },
     "execution_count": 1410,
     "metadata": {},
     "output_type": "execute_result"
    },
    {
     "data": {
      "image/png": "[encoded data removed]",
      "text/plain": [
       "<Figure size 640x480 with 1 Axes>"
      ]
     },
     "metadata": {},
     "output_type": "display_data"
    }
   ],
   "source": [
    "plt.plot(fields_1.numpy(), answer.numpy())"
   ]
  },
  {
   "cell_type": "code",
   "execution_count": 1223,
   "id": "be6e14b2-ee24-4beb-97a5-38f6a794497c",
   "metadata": {
    "tags": []
   },
   "outputs": [
    {
     "data": {
      "text/plain": [
       "tensor([57.5373, 49.5878, 44.2242,  ...,  2.1862,  2.1857,  2.1851])"
      ]
     },
     "execution_count": 1223,
     "metadata": {},
     "output_type": "execute_result"
    }
   ],
   "source": [
    "answer"
   ]
  },
  {
   "cell_type": "code",
   "execution_count": null,
   "id": "1ab04f24-63b3-41e1-a299-3bd8edf1b66e",
   "metadata": {},
   "outputs": [],
   "source": []
  }
 ],
 "metadata": {
  "kernelspec": {
   "display_name": "Python 3 (ipykernel)",
   "language": "python",
   "name": "python3"
  },
  "language_info": {
   "codemirror_mode": {
    "name": "ipython",
    "version": 3
   },
   "file_extension": ".py",
   "mimetype": "text/x-python",
   "name": "python",
   "nbconvert_exporter": "python",
   "pygments_lexer": "ipython3",
   "version": "3.10.9"
  }
 },
 "nbformat": 4,
 "nbformat_minor": 5
}
