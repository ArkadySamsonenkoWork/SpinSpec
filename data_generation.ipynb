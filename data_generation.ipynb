{
 "cells": [
  {
   "cell_type": "code",
   "execution_count": 208,
   "id": "c20f8f8b-a9b5-4dbd-8c09-dfc2e9ef2e31",
   "metadata": {
    "tags": []
   },
   "outputs": [
    {
     "data": {
      "text/plain": [
       "<module 'optimization' from 'D:\\\\ITC\\\\РНФ_Курганский_2024\\\\pythonProject\\\\optimization\\\\__init__.py'>"
      ]
     },
     "execution_count": 208,
     "metadata": {},
     "output_type": "execute_result"
    }
   ],
   "source": [
    "import sys\n",
    "import os\n",
    "import typing as tp\n",
    "import tqdm\n",
    "\n",
    "sys.path.append(os.path.abspath('D:\\ITC\\РНФ_Курганский_2024\\pythonProject'))\n",
    "import itertools\n",
    "\n",
    "from dataclasses import dataclass\n",
    "import numpy as np\n",
    "import torch\n",
    "from torch import nn\n",
    "import math\n",
    "\n",
    "from scipy.spatial import Delaunay\n",
    "import matplotlib.pyplot as plt\n",
    "\n",
    "import spin_system, utils, particles, res_field_algorithm, constants, spectral_integration, mesher, spectra_manager, particles\n",
    "from visualization import levels_plot, transitions_plot\n",
    "from population import time_population, tr_utils, transform\n",
    "import population\n",
    "\n",
    "import machine_learning as ml\n",
    "\n",
    "import pathlib\n",
    "from importlib import reload\n",
    "\n",
    "from spectra_manager import TruncatedSpectraCreatorTimeResolved, PostSpectraProcessing,TimeResolvedIntensitiesCalculator, ParamSpec\n",
    "from spectral_integration import SpectraIntegratorEasySpinLikeTimeResolved, BaseSpectraIntegrator\n",
    "from reader import read_bruker_data\n",
    "from spectra_manager import BaseSpectraCreator\n",
    "import spectral_integration\n",
    "import optimization\n",
    "import particles\n",
    "import random\n",
    "import pickle\n",
    "\n",
    "import spectra_processing\n",
    "\n",
    "reload(population)\n",
    "reload(optimization.fitter)\n",
    "reload(optimization.objectives)\n",
    "reload(time_population)\n",
    "reload(levels_plot)\n",
    "reload(transitions_plot)\n",
    "reload(tr_utils)\n",
    "reload(spectral_integration)\n",
    "reload(spectra_manager)\n",
    "reload(spin_system)\n",
    "reload(res_field_algorithm)\n",
    "reload(optimization)"
   ]
  },
  {
   "cell_type": "code",
   "execution_count": 209,
   "id": "8b9d3305-0663-4d94-97a8-674de7abc370",
   "metadata": {
    "tags": []
   },
   "outputs": [],
   "source": [
    "import safetensors.torch\n",
    "import safetensors\n",
    "\n",
    "import traceback\n",
    "import datetime"
   ]
  },
  {
   "cell_type": "code",
   "execution_count": 210,
   "id": "db693a17-1d09-42e9-a644-0fda95d2e89f",
   "metadata": {
    "tags": []
   },
   "outputs": [
    {
     "data": {
      "text/plain": [
       "<module 'machine_learning' from 'D:\\\\ITC\\\\РНФ_Курганский_2024\\\\pythonProject\\\\machine_learning\\\\__init__.py'>"
      ]
     },
     "execution_count": 210,
     "metadata": {},
     "output_type": "execute_result"
    }
   ],
   "source": [
    "from particles import Nucleus\n",
    "from torch.distributions import Uniform\n",
    "import torch\n",
    "\n",
    "reload(mesher)\n",
    "reload(mesher.delanay_neigbour)\n",
    "reload(ml.spectra_generation)\n",
    "reload(ml.data_generation)\n",
    "reload(ml.data_loading)\n",
    "reload(ml)"
   ]
  },
  {
   "cell_type": "code",
   "execution_count": 211,
   "id": "52cfb57d-47ad-46f3-8797-eb37180691d3",
   "metadata": {
    "tags": []
   },
   "outputs": [],
   "source": [
    "intercation = spin_system.Interaction(components=torch.tensor([[2.0, 2.0, 2.0], [2.0, 2.0, 2.0]]))\n",
    "base_system = spin_system.SpinSystem((1/2, ), g_tensors=[intercation])\n",
    "\n",
    "sample = spin_system.MultiOrientedSample(spin_system=base_system)\n",
    "gen_creator = ml.GenerationCreator(freq=9e9, sample=sample)\n",
    "fields = torch.tensor([[0.1, 0.5], [0.1, 0.5]])\n",
    "spec, (min_pos_batch, max_pos_batch) = gen_creator(fields=fields, sample=sample)\n",
    "\n",
    "steps = torch.linspace(0, 1, spec.shape[-1])\n",
    "fields = steps * (max_pos_batch - min_pos_batch).unsqueeze(-1) + min_pos_batch.unsqueeze(-1)"
   ]
  },
  {
   "cell_type": "code",
   "execution_count": 212,
   "id": "b7690613-cb35-4423-bdfe-dc83b0adcb2c",
   "metadata": {
    "tags": []
   },
   "outputs": [
    {
     "data": {
      "text/plain": [
       "torch.Size([2, 1, 2, 4000])"
      ]
     },
     "execution_count": 212,
     "metadata": {},
     "output_type": "execute_result"
    }
   ],
   "source": [
    "spec.shape"
   ]
  },
  {
   "cell_type": "code",
   "execution_count": 213,
   "id": "7c4e68a9-a45e-4a79-8511-3663eb3ff17c",
   "metadata": {
    "tags": []
   },
   "outputs": [
    {
     "data": {
      "text/plain": [
       "[<matplotlib.lines.Line2D at 0x24ae18691e0>]"
      ]
     },
     "execution_count": 213,
     "metadata": {},
     "output_type": "execute_result"
    },
    {
     "data": {
      "image/png": "[encoded data removed]",
      "text/plain": [
       "<Figure size 640x480 with 1 Axes>"
      ]
     },
     "metadata": {},
     "output_type": "display_data"
    }
   ],
   "source": [
    "plt.plot(fields[0,0,0].numpy(), spec[0,0,0].numpy())"
   ]
  },
  {
   "cell_type": "code",
   "execution_count": 214,
   "id": "e261d93b-2a14-4c67-a17f-57c0051966a8",
   "metadata": {
    "tags": []
   },
   "outputs": [
    {
     "data": {
      "text/plain": [
       "SpinSystemStructure(num_electrons=1, num_nuclei=1, nuclei=['55Mn'], electron_nuclei=[(0, 0)], electron_electron=[], nuclei_nuclei=[], nuclei_spins=[2.5], electrons_spins=[1.5], bound_map={0: 0}, spin_system_dim=24)"
      ]
     },
     "execution_count": 214,
     "metadata": {},
     "output_type": "execute_result"
    }
   ],
   "source": [
    "rng_generator = random.Random(42)\n",
    "\n",
    "ion_spin_defaults = {\"63Cu\": [1/2], \"65Cu\": [1/2], \"59Co\": [3/2, 1/2], \"55Mn\": [3/2, 5/2, 2]}\n",
    "generator = ml.RandomStructureGenerator(\n",
    "    max_num_electrons=5,\n",
    "    min_num_electrons=1,\n",
    "    max_num_nuclei=2,\n",
    "    min_num_nuclei=1,\n",
    "    ion_spin_defaults=ion_spin_defaults,\n",
    "    ion_spin_usage_prob=0.5,\n",
    "    max_dim=100,\n",
    "    rng_generator=rng_generator\n",
    ")\n",
    "structure = generator()\n",
    "structure"
   ]
  },
  {
   "cell_type": "code",
   "execution_count": 215,
   "id": "af968f37-3ed8-4d6b-94d9-3af15499299c",
   "metadata": {},
   "outputs": [],
   "source": [
    "g_angles_levels = ([\n",
    "    ml.UncorrelatedLevel(\n",
    "        initial_bounds=[(0.0, 2 * math.pi), (0.0, math.pi), (0.0, 2 * math.pi)],\n",
    "        vary_shift = (math.pi / 20, math.pi / 20, math.pi / 20)\n",
    "    ),\n",
    "    ml.UncorrelatedLevel(\n",
    "        initial_bounds=[(0.0, math.pi / 8), (0.0, math.pi / 8), (0.0, math.pi / 8)],\n",
    "        vary_shift = (math.pi / 80, math.pi / 80, math.pi / 80)\n",
    "    )\n",
    "        ], (0.5, 0.5))\n",
    "g_tensor_orientation_generator = ml.MultiDimensionalTensorGenerator(levels=g_angles_levels[0], output_dims=3, rng_generator=rng_generator, probabilities=g_angles_levels[1])\n",
    "\n",
    "\n",
    "nuclei_angles_levels = ([\n",
    "    ml.UncorrelatedLevel(\n",
    "        initial_bounds=[(0.0, 2 * math.pi), (0.0, math.pi), (0.0, 2 * math.pi)],\n",
    "        vary_shift = (math.pi / 20, math.pi / 20, math.pi / 20)\n",
    "    ),\n",
    "    ml.UncorrelatedLevel(\n",
    "        initial_bounds=[(0.0, math.pi / 8), (0.0, math.pi / 8), (0.0, math.pi / 8)],\n",
    "        vary_shift = (math.pi / 80, math.pi / 80, math.pi / 80)\n",
    "    )\n",
    "        ], (0.5, 0.5))\n",
    "hyperfine_orientation_generator = ml.MultiDimensionalTensorGenerator(levels=nuclei_angles_levels[0], output_dims=3, rng_generator=rng_generator, probabilities=nuclei_angles_levels[1])\n",
    "\n",
    "\n",
    "el_el_angles_levels = ([\n",
    "    ml.UncorrelatedLevel(\n",
    "        initial_bounds=[(0.0, 2 * math.pi), (0.0, math.pi), (0.0, 2 * math.pi)],\n",
    "        vary_shift = (math.pi / 20, math.pi / 20, math.pi / 20)\n",
    "    ),\n",
    "    ml.UncorrelatedLevel(\n",
    "        initial_bounds=[(0.0, math.pi / 8), (0.0, math.pi / 8), (0.0, math.pi / 8)],\n",
    "        vary_shift = (math.pi / 80, math.pi / 80, math.pi / 80)\n",
    "    )\n",
    "        ], (0.5, 0.5))\n",
    "electron_electron_orientation_generator = ml.MultiDimensionalTensorGenerator(levels=el_el_angles_levels[0], output_dims=3, rng_generator=rng_generator, probabilities=el_el_angles_levels[1])"
   ]
  },
  {
   "cell_type": "code",
   "execution_count": 216,
   "id": "8da92fe4-2432-4155-aab4-cb22a8c0a095",
   "metadata": {
    "tags": []
   },
   "outputs": [],
   "source": [
    "g_levels = ([\n",
    "    ml.UncorrelatedLevel(\n",
    "        initial_bounds=[(1.9, 2.4), (1.9, 2.4), (1.9, 2.4),],\n",
    "        vary_shift = (0.02, 0.02, 0.02)\n",
    "    )\n",
    "        ], None\n",
    ")\n",
    "\n",
    "g_tensor_components_generator = ml.MultiDimensionalTensorGenerator(levels=g_levels[0], output_dims=3, rng_generator=rng_generator)"
   ]
  },
  {
   "cell_type": "code",
   "execution_count": 217,
   "id": "8776741c-179a-4590-8415-7484bb25a253",
   "metadata": {
    "tags": []
   },
   "outputs": [],
   "source": [
    "nuclei_levels = {\"1H\": ([\n",
    "    ml.IsotropicLevel(\n",
    "        isotropic_bounds=(-40.0 * 1e6, 40.0 * 1e6),\n",
    "        isotropic_shift = 5.0 * 1e6,\n",
    "        variation_bounds = (-2.0 * 1e6, 2.0 * 1e6),\n",
    "        variation_shift = 0.5 * 1e6\n",
    "    )\n",
    "        ], None),\n",
    "\"2H\": ([\n",
    "    ml.IsotropicLevel(\n",
    "        isotropic_bounds=(-40.0 * 1e6, 40.0 * 1e6),\n",
    "        isotropic_shift = 5.0 * 1e6,\n",
    "        variation_bounds = (-2.0 * 1e6, 2.0 * 1e6),\n",
    "        variation_shift = 0.5 * 1e6\n",
    "    )\n",
    "        ], None),\n",
    "\"14N\": ([\n",
    "    ml.AxialLevel(\n",
    "        parallel_bounds=(0.0 * 1e6, 110.0 * 1e6),\n",
    "        parallel_shift = 4.0 * 1e6,\n",
    "        perpendicular_bounds = (0.0 * 1e6, 25.0 * 1e6),\n",
    "        perpendicular_shift = 4.0 * 1e6\n",
    "    ),\n",
    "    ml.AxialLevel(\n",
    "        parallel_bounds=(-10.0, 0.0),\n",
    "        parallel_shift = 4.0 * 1e6,\n",
    "        perpendicular_bounds = (-10.0, 0.0),\n",
    "        perpendicular_shift = 4.0 * 1e6\n",
    "    )\n",
    "        ],\n",
    "    (0.7, 0.3)\n",
    "),\n",
    "\"15N\": ([\n",
    "    ml.AxialLevel(\n",
    "        parallel_bounds=(0.0 * 1e6, 110.0 * 1e6),\n",
    "        parallel_shift = 6.0 * 1e6,\n",
    "        perpendicular_bounds = (0.0 * 1e6, 25.0 * 1e6),\n",
    "        perpendicular_shift = 6.0 * 1e6\n",
    "    ),\n",
    "    ml.AxialLevel(\n",
    "        parallel_bounds=(-10.0, 0.0),\n",
    "        parallel_shift = 4.0 * 1e6,\n",
    "        perpendicular_bounds = (-10.0, 0.0),\n",
    "        perpendicular_shift = 4.0 * 1e6\n",
    "    )\n",
    "        ],\n",
    "    (0.7, 0.3)\n",
    "),\n",
    "\"63Cu\": ([\n",
    "    ml.AxialLevel(\n",
    "        parallel_bounds=(100.0 * 1e6, 600.0 * 1e6),\n",
    "        parallel_shift = 10.0 * 1e6,\n",
    "        perpendicular_bounds = (20.0 * 1e6, 120.0 * 1e6),\n",
    "        perpendicular_shift = 10.0 * 1e6\n",
    "    )], None),\n",
    "\"65Cu\": ([\n",
    "    ml.AxialLevel(\n",
    "        parallel_bounds=(100.0 * 1e6, 600.0 * 1e6),\n",
    "        parallel_shift = 10.0 * 1e6,\n",
    "        perpendicular_bounds = (20.0 * 1e6, 120.0 * 1e6),\n",
    "        perpendicular_shift = 10.0 * 1e6\n",
    "    )], None),\n",
    "\"59Co\": ([\n",
    "    ml.UncorrelatedLevel(\n",
    "        initial_bounds=[(0.0 * 1e6, 600.0 * 1e6), (0.0 * 1e6, 600.0 * 1e6), (0.0 * 1e6, 600.0 * 1e6)],\n",
    "        vary_shift = (10 * 1e6, 10 * 1e6, 10 * 1e6)\n",
    "    )\n",
    "        ], None),\n",
    "\"55Mn\": ([\n",
    "    ml.UncorrelatedLevel(\n",
    "        initial_bounds=[(-300.0 * 1e6, 300.0 * 1e6), (-300.0 * 1e6, 300.0 * 1e6), (-300.0 * 1e6, 300.0 * 1e6),],\n",
    "        vary_shift = (10 * 1e6, 10 * 1e6, 10 * 1e6)\n",
    "    )\n",
    "        ], None),\n",
    "\"31P\": ([\n",
    "    ml.UncorrelatedLevel(\n",
    "        initial_bounds=[(-300.0 * 1e6, 300.0 * 1e6), (-300.0 * 1e6, 300.0 * 1e6), (-300.0 * 1e6, 300.0 * 1e6)],\n",
    "        vary_shift = (10 * 1e6, 10 * 1e6, 10 * 1e6)\n",
    "    )\n",
    "        ], None),\n",
    " \n",
    "\"19F\": ([\n",
    "    ml.UncorrelatedLevel(\n",
    "        initial_bounds=[(-0.0 * 1.0e6, 100.0 * 1e6), (-0.0 * 1e6, 100.0 * 1e6), (-0.0 * 1e6, 100.0 * 1e6),],\n",
    "        vary_shift = (10 * 1e6, 10 * 1e6, 10 * 1e6)\n",
    "    )\n",
    "        ], None),\n",
    "}\n",
    "\n",
    "hyperfine_coupling_generator = {key: ml.MultiDimensionalTensorGenerator(levels=value[0], output_dims=3, probabilities=value[1], rng_generator=rng_generator) for key, value in nuclei_levels.items()}"
   ]
  },
  {
   "cell_type": "code",
   "execution_count": 218,
   "id": "3f7c2766-e2d8-4230-8ed1-fd6cc7ea90ba",
   "metadata": {
    "tags": []
   },
   "outputs": [],
   "source": [
    "exchange_levels = [\n",
    "    ml.IsotropicLevel(\n",
    "        isotropic_bounds=(constants.unit_converter(-100.0, \"cm-1_to_Hz\"), constants.unit_converter(100.0, \"cm-1_to_Hz\")),\n",
    "        isotropic_shift = constants.unit_converter(10.0, \"cm-1_to_Hz\"),\n",
    "        \n",
    "        variation_bounds = None,\n",
    "        variation_shift = None,\n",
    "    ),\n",
    "    ml.IsotropicLevel(\n",
    "        isotropic_bounds=(constants.unit_converter(-2.0, \"cm-1_to_Hz\"), constants.unit_converter(2.0, \"cm-1_to_Hz\")),\n",
    "        isotropic_shift = constants.unit_converter(0.2, \"cm-1_to_Hz\"),\n",
    "        \n",
    "        variation_bounds = None,\n",
    "        variation_shift = None,\n",
    "    ),\n",
    "]\n",
    "exchange_coupling_generator = ml.MultiDimensionalTensorGenerator(levels=exchange_levels, output_dims=1, probabilities=(0.5, 0.5))\n",
    "\n",
    "\n",
    "diplolar_levels = [\n",
    "    ml.DELevel(\n",
    "        D_bounds=(-250.0 * 1e6, 250.0 * 1e6),\n",
    "        E_attitude_bounds = (0.0, 0.3),\n",
    "\n",
    "        D_shift = 10.0,\n",
    "        E_attitude_shift = 0.02,\n",
    "    )\n",
    "]\n",
    "dipolar_coupling_generator = ml.MultiDimensionalTensorGenerator(levels=diplolar_levels, output_dims=2, probabilities=None, rng_generator=rng_generator)"
   ]
  },
  {
   "cell_type": "code",
   "execution_count": 219,
   "id": "b7db8f42-2dd5-4f2a-8cda-86e3e862205d",
   "metadata": {
    "tags": []
   },
   "outputs": [],
   "source": [
    "zfs_levels = [\n",
    "    ml.DELevel(\n",
    "        D_bounds=(constants.unit_converter(-100.0, \"cm-1_to_Hz\"), constants.unit_converter(100.0, \"cm-1_to_Hz\")),\n",
    "        E_attitude_bounds = (0.0, 0.3),\n",
    "\n",
    "        D_shift = constants.unit_converter(10.0, \"cm-1_to_Hz\"),\n",
    "        E_attitude_shift = 0.02,\n",
    "    )\n",
    "]\n",
    "zero_field_splitting_generator = ml.MultiDimensionalTensorGenerator(levels=zfs_levels, output_dims=2, probabilities=None, rng_generator=rng_generator)"
   ]
  },
  {
   "cell_type": "code",
   "execution_count": 220,
   "id": "32a9e529-1ebb-4d3d-967a-ce43198b099d",
   "metadata": {
    "tags": []
   },
   "outputs": [],
   "source": [
    "temperature_levels = [\n",
    "    ml.IsotropicLevel(\n",
    "        isotropic_bounds=(3.5, 300.0),\n",
    "        isotropic_shift = 50.0,\n",
    "        \n",
    "        variation_bounds = None,\n",
    "        variation_shift = None,\n",
    "    ),\n",
    "]\n",
    "temperature_generator = ml.MultiDimensionalTensorGenerator(levels=temperature_levels, output_dims=1, probabilities=None, rng_generator=rng_generator)"
   ]
  },
  {
   "cell_type": "code",
   "execution_count": 221,
   "id": "bac4f4fd-08a9-4a8d-b5f6-0fe254f4a7a6",
   "metadata": {
    "tags": []
   },
   "outputs": [],
   "source": [
    "hamiltonian_levels = [\n",
    "    ml.IsotropicLevel(\n",
    "        isotropic_bounds=(constants.unit_converter(2.0e-4, \"T_to_Hz_e\"), constants.unit_converter(5.0e-2, \"T_to_Hz_e\")),\n",
    "        isotropic_shift = constants.unit_converter(5.0e-4, \"T_to_Hz_e\"),\n",
    "        \n",
    "        variation_bounds = (constants.unit_converter(1.0e-4, \"T_to_Hz_e\"), constants.unit_converter(1.0e-3, \"T_to_Hz_e\")),\n",
    "        variation_shift = constants.unit_converter(0.5e-4, \"T_to_Hz_e\"),\n",
    "    ),\n",
    "]\n",
    "hamiltonian_strain_generator = ml.MultiDimensionalTensorGenerator(levels=hamiltonian_levels, output_dims=3, probabilities=None, rng_generator=rng_generator)"
   ]
  },
  {
   "cell_type": "code",
   "execution_count": 222,
   "id": "2b037709-103e-4540-9c64-6ebe14a7351e",
   "metadata": {
    "tags": []
   },
   "outputs": [],
   "source": [
    "freq_levels = [\n",
    "    ml.IsotropicLevel(\n",
    "        isotropic_bounds=(8.8 * 1e9, 10.0 * 1e9),\n",
    "        isotropic_shift = 0.02 * 1e9,\n",
    "        \n",
    "        variation_bounds = None,\n",
    "        variation_shift = None,\n",
    "    ),\n",
    "    ml.IsotropicLevel(\n",
    "        isotropic_bounds=(25.0 * 1e9, 40.0 * 1e9),\n",
    "        isotropic_shift = 0.02 * 1e9,\n",
    "        \n",
    "        variation_bounds = None,\n",
    "        variation_shift = None,\n",
    "    ),\n",
    "]\n",
    "freq_generator = ml.MultiDimensionalTensorGenerator(levels=freq_levels, output_dims=1, probabilities=None, rng_generator=rng_generator)"
   ]
  },
  {
   "cell_type": "code",
   "execution_count": 223,
   "id": "7aac70f0-3aa6-45f4-81d7-a6b2edb26703",
   "metadata": {
    "tags": []
   },
   "outputs": [
    {
     "data": {
      "text/plain": [
       "torch.Size([2, 3])"
      ]
     },
     "execution_count": 223,
     "metadata": {},
     "output_type": "execute_result"
    }
   ],
   "source": [
    "sample.base_ham_strain.shape"
   ]
  },
  {
   "cell_type": "code",
   "execution_count": 225,
   "id": "bd59c02b-406b-46f9-868c-0512bc0ad870",
   "metadata": {},
   "outputs": [],
   "source": [
    "from IPython.display import clear_output"
   ]
  },
  {
   "cell_type": "code",
   "execution_count": 19,
   "id": "c35031ae-b24f-44ea-945c-4a72df299e7c",
   "metadata": {
    "tags": []
   },
   "outputs": [],
   "source": [
    "path = \"D:\\ITC\\generation\"\n",
    "\n",
    "ion_spin_defaults = {\"63Cu\": [1/2], \"65Cu\": [1/2], \"59Co\": [3/2, 1/2], \"55Mn\": [3/2, 5/2, 2]}\n",
    "struct_generator = ml.RandomStructureGenerator(\n",
    "    max_num_electrons=3,\n",
    "    min_num_electrons=1,\n",
    "    max_num_nuclei=1,\n",
    "    min_num_nuclei=0,\n",
    "    ion_spin_defaults=ion_spin_defaults,\n",
    "    ion_spin_usage_prob=0.5,\n",
    "    max_dim=12,\n",
    "    rng_generator=rng_generator\n",
    ")\n",
    "structure = struct_generator()\n",
    "mesh = mesher.DelaunayMeshNeighbour(initial_grid_frequency=7)"
   ]
  },
  {
   "cell_type": "code",
   "execution_count": 50,
   "id": "e75c4a5e-3333-4b03-96b0-deb9388ebaa9",
   "metadata": {
    "tags": []
   },
   "outputs": [],
   "source": [
    "data_generator = ml.DataFullGenerator(\n",
    "    path=path,\n",
    "    struct_generator=struct_generator,\n",
    "    mesh=mesh,\n",
    "    freq_generator=freq_generator,\n",
    "    temperature_generator=temperature_generator,\n",
    "    hamiltonian_strain_generator=hamiltonian_strain_generator,\n",
    "    g_tensor_components_generator=g_tensor_components_generator,\n",
    "    g_tensor_orientation_generator=g_tensor_orientation_generator,\n",
    "    hyperfine_coupling_generator=hyperfine_coupling_generator,\n",
    "    hyperfine_orientation_generator=hyperfine_orientation_generator,\n",
    "    exchange_coupling_generator=exchange_coupling_generator,\n",
    "    dipolar_coupling_generator=dipolar_coupling_generator,\n",
    "    zero_field_splitting_generator=zero_field_splitting_generator,\n",
    "    electron_electron_orientation_generator=electron_electron_orientation_generator\n",
    ")"
   ]
  },
  {
   "cell_type": "code",
   "execution_count": null,
   "id": "110a0df0-01cf-4f88-88a2-34dbc9955217",
   "metadata": {
    "tags": []
   },
   "outputs": [],
   "source": [
    "data_generator.generate(5,1,1,1)"
   ]
  },
  {
   "cell_type": "markdown",
   "id": "c0204959-1d0a-4fac-b0e4-3f9aa6a2fcd9",
   "metadata": {},
   "source": [
    "### DataLoading"
   ]
  },
  {
   "cell_type": "code",
   "execution_count": 204,
   "id": "7166c54b-6e60-4087-97b8-52dd35367497",
   "metadata": {
    "tags": []
   },
   "outputs": [],
   "source": [
    "path_structure = \"D:\\ITC\\generation\\structure_0004\"\n",
    "path_sample = \"D:\\ITC\\generation\\structure_0004\\mean_0000\\sample_0000\""
   ]
  },
  {
   "cell_type": "code",
   "execution_count": null,
   "id": "c92f89e4-aa43-4494-a8fe-1007e5718ab9",
   "metadata": {
    "tags": []
   },
   "outputs": [],
   "source": [
    "structure, generator_summary = ml.FileParser().open_structure(path_structure)"
   ]
  },
  {
   "cell_type": "code",
   "execution_count": 207,
   "id": "1a4da87c-6fd0-4f7d-a455-04ee78e3c609",
   "metadata": {
    "tags": []
   },
   "outputs": [
    {
     "data": {
      "text/plain": [
       "SpinSystemStructure(num_electrons=2, num_nuclei=1, nuclei=['2H'], electron_nuclei=[(0, 0)], electron_electron=[], nuclei_nuclei=[], nuclei_spins=[1.0], electrons_spins=[0.5, 0.5], bound_map={}, spin_system_dim=12)"
      ]
     },
     "execution_count": 207,
     "metadata": {},
     "output_type": "execute_result"
    }
   ],
   "source": [
    "structure"
   ]
  },
  {
   "cell_type": "code",
   "execution_count": null,
   "id": "2b409e6c-98e1-4c85-a2e5-e054f78c4903",
   "metadata": {
    "tags": []
   },
   "outputs": [],
   "source": [
    "out = ml.FileParser().to_sample_data(structure, generator_summary, path_sample, None, None)"
   ]
  },
  {
   "cell_type": "code",
   "execution_count": 191,
   "id": "cfa8cf28-951a-42c5-93ef-c79fb42f6781",
   "metadata": {
    "tags": []
   },
   "outputs": [
    {
     "data": {
      "text/plain": [
       "torch.Size([3, 3, 4, 1, 3])"
      ]
     },
     "execution_count": 191,
     "metadata": {},
     "output_type": "execute_result"
    }
   ],
   "source": [
    "out[\"components\"].shape"
   ]
  }
 ],
 "metadata": {
  "kernelspec": {
   "display_name": "Python 3 (ipykernel)",
   "language": "python",
   "name": "python3"
  },
  "language_info": {
   "codemirror_mode": {
    "name": "ipython",
    "version": 3
   },
   "file_extension": ".py",
   "mimetype": "text/x-python",
   "name": "python",
   "nbconvert_exporter": "python",
   "pygments_lexer": "ipython3",
   "version": "3.10.9"
  }
 },
 "nbformat": 4,
 "nbformat_minor": 5
}
