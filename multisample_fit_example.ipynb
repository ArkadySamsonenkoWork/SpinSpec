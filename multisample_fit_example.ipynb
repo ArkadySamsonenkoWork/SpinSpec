{
 "cells": [
  {
   "cell_type": "code",
   "execution_count": 448,
   "id": "95e50ed1-6c84-48c5-9788-97fe71caf0dc",
   "metadata": {
    "tags": []
   },
   "outputs": [
    {
     "data": {
      "text/plain": [
       "<module 'optimiation' from 'D:\\\\ITC\\\\РНФ_Курганский_2024\\\\pythonProject\\\\optimiation\\\\__init__.py'>"
      ]
     },
     "execution_count": 448,
     "metadata": {},
     "output_type": "execute_result"
    }
   ],
   "source": [
    "import sys\n",
    "import os\n",
    "\n",
    "sys.path.append(os.path.abspath('D:\\ITC\\РНФ_Курганский_2024\\pythonProject'))\n",
    "\n",
    "import numpy as np\n",
    "import torch\n",
    "from torch import nn\n",
    "import math\n",
    "\n",
    "from scipy.spatial import Delaunay\n",
    "import matplotlib.pyplot as plt\n",
    "\n",
    "import spin_system, utils, particles, res_field_algorithm, constants, spectral_integration, mesher, spectra_manager, particles\n",
    "from visualization import levels_plot, transitions_plot\n",
    "from population import time_population, tr_utils, transform\n",
    "import population\n",
    "\n",
    "from importlib import reload\n",
    "\n",
    "from spectra_manager import TruncatedSpectraCreatorTimeResolved, PostSpectraProcessing,TimeResolvedIntensitiesCalculator, ParamSpec\n",
    "from spectral_integration import SpectraIntegratorEasySpinLikeTimeResolved, BaseSpectraIntegrator\n",
    "from reader import read_bruker_data\n",
    "from spectra_manager import BaseSpectraCreator\n",
    "\n",
    "import optimiation\n",
    "import spectra_processing\n",
    "\n",
    "reload(population)\n",
    "reload(optimiation.fitter)\n",
    "reload(optimiation.objectives)\n",
    "reload(time_population)\n",
    "reload(levels_plot)\n",
    "reload(transitions_plot)\n",
    "reload(tr_utils)\n",
    "reload(spectra_manager)\n",
    "reload(spin_system)\n",
    "reload(res_field_algorithm)\n",
    "reload(optimiation)"
   ]
  },
  {
   "cell_type": "markdown",
   "id": "96e4f372-8bb5-49fd-81a0-3a621805bc1f",
   "metadata": {},
   "source": [
    "### ИЗВЛЕЧЁМ ЭКСПЕРЕМЕНТАЛЬНЫЕ СПЕКТРЫ"
   ]
  },
  {
   "cell_type": "code",
   "execution_count": 449,
   "id": "4c18fb65-c2ac-4c7f-9ec4-2562772d14b3",
   "metadata": {
    "tags": []
   },
   "outputs": [],
   "source": [
    "import os\n",
    "import re\n",
    "\n",
    "import os\n",
    "import re\n",
    "\n",
    "def extract_data(folder_path):\n",
    "    temperatures = []\n",
    "    file_paths = []\n",
    "    \n",
    "    # Convert p notation to decimal for temperatures\n",
    "    def parse_temp(temp_str):\n",
    "        if 'p' in temp_str:\n",
    "            parts = temp_str.split('p')\n",
    "            return float(parts[0]) + float(parts[1]) / 10**len(parts[1])\n",
    "        else:\n",
    "            # Remove 'K' suffix if present\n",
    "            temp_str = temp_str.rstrip('K')\n",
    "            return float(temp_str)\n",
    "    \n",
    "    # Regex pattern to match your filename format: KY3_{temp}_{attin}.DSC/.DTA\n",
    "    pattern = r'KY3_([^_]+)_[^_]+\\.(DSC)$'\n",
    "    \n",
    "    # Walk through the directory structure\n",
    "    for root, dirs, files in os.walk(folder_path):\n",
    "        for file in files:\n",
    "            # Use regex to extract temperature from filename\n",
    "            match = re.match(pattern, file)\n",
    "            if match:\n",
    "                temp_str = match.group(1)  # Extract the temperature part\n",
    "                try:\n",
    "                    temp = parse_temp(temp_str)\n",
    "                    temperatures.append(temp)\n",
    "                    file_paths.append(os.path.join(root, file))\n",
    "                except ValueError as e:\n",
    "                    print(f\"Could not parse temperature from {file}: {e}\")\n",
    "            else:\n",
    "                print(f\"File {file} does not match expected pattern\")\n",
    "    \n",
    "    return temperatures, file_paths"
   ]
  },
  {
   "cell_type": "code",
   "execution_count": 450,
   "id": "2e1852aa-e909-4c26-a1b0-6fb27bc553da",
   "metadata": {
    "tags": []
   },
   "outputs": [],
   "source": [
    "folder = r\"D:\\ITC\\Эксперементы_на_ЭПР_спектрометре\\2025_EPR\\Qband_Ksenia_2025_07_11\\Qband_Ksenia_2025_07_11\\KY3\\up\""
   ]
  },
  {
   "cell_type": "code",
   "execution_count": 451,
   "id": "6cb25c47-ddf1-4a26-bf9d-7c3d09c59c2d",
   "metadata": {
    "tags": []
   },
   "outputs": [
    {
     "name": "stdout",
     "output_type": "stream",
     "text": [
      "File KY3_107K_30dB.DTA does not match expected pattern\n",
      "File KY3_10K_35dB.DTA does not match expected pattern\n",
      "File KY3_113K_30dB.DTA does not match expected pattern\n",
      "File KY3_123K_30dB.DTA does not match expected pattern\n",
      "File KY3_136K_30dB.DTA does not match expected pattern\n",
      "File KY3_152K_30dB.DTA does not match expected pattern\n",
      "File KY3_175K_30dB.DTA does not match expected pattern\n",
      "File KY3_20K_30dB.DTA does not match expected pattern\n",
      "File KY3_210K_30dB.DTA does not match expected pattern\n",
      "File KY3_36K_30dB.DTA does not match expected pattern\n",
      "File KY3_4K_35dB.DTA does not match expected pattern\n",
      "File KY3_52K_30dB.DTA does not match expected pattern\n",
      "File KY3_67K_30dB.DTA does not match expected pattern\n",
      "File KY3_6K_35dB.DTA does not match expected pattern\n",
      "File KY3_80K_30dB.DTA does not match expected pattern\n",
      "File KY3_90K_30dB.DTA does not match expected pattern\n",
      "File KY3_96K_30dB.DTA does not match expected pattern\n"
     ]
    }
   ],
   "source": [
    "temperatures, file_paths = extract_data(folder)\n",
    "results = []\n",
    "for path in file_paths:\n",
    "    areas = ((0.0, 1.0), (1.35, 1.5))\n",
    "    meta, data = read_bruker_data(path)\n",
    "    x_values = data[\"x_values\"] / 1e4\n",
    "    data[\"x_values\"] = x_values\n",
    "    y_values = data[\"y_values\"]\n",
    "    y_values, _ = spectra_processing.correct_baseline(x_values, y_values, areas, poly_order=1)\n",
    "    y_values = y_values / max(y_values)\n",
    "    data[\"y_values\"] = y_values\n",
    "    results.append((meta, data))"
   ]
  },
  {
   "cell_type": "markdown",
   "id": "5ac1e7ef-1929-4861-9b06-1ab86a824d75",
   "metadata": {},
   "source": [
    "### Зададим спиновую систему"
   ]
  },
  {
   "cell_type": "markdown",
   "id": "71ab5286-d292-4630-8f68-a82d027fc2ba",
   "metadata": {},
   "source": [
    "Спиновая система - это три элетронных спина с разными g-тензорами. Один изотропный, и два анизотропных. При температруе порядка 100К в системе наблюдается стркутрынй переход - изменяются обменные энергии и g-tensor branching меди.\n",
    "\n",
    "При этом ориентация g-тензоров медей известна из струкутруного анализа"
   ]
  },
  {
   "cell_type": "code",
   "execution_count": 454,
   "id": "997425ed-3dd2-45be-86c3-5aa8ce6c5a61",
   "metadata": {
    "tags": []
   },
   "outputs": [],
   "source": [
    "fixed_parameters = {}\n",
    "\n",
    "fixed_parameters[\"g_rad\"] = 2.002\n",
    "\n",
    "fixed_parameters[\"J_chain_high_temp\"] = 1.4\n",
    "fixed_parameters[\"J_branching_high_temp\"] = -4.21\n",
    "\n",
    "fixed_parameters[\"J_chain_low_temp\"] = 1.9\n",
    "fixed_parameters[\"J_branching_low_temp\"] = -0.23\n",
    "\n",
    "\n",
    "orien_side_up = torch.tensor(\n",
    "    [\n",
    "        [0.8859114, 0.0008034, 0.4638538],\n",
    "        [0.0005397, -0.9999996, 0.0007013],\n",
    "        [0.4638541, -0.000371, -0.8859115],]\n",
    ")\n",
    "\n",
    "orien_chain_left = torch.tensor(\n",
    "    [\n",
    "        [0.744169, 0.4552341, -0.4888501],\n",
    "        [0.3236334, -0.8859029, -0.3323212],\n",
    "        [-0.5843577, 0.0890949, -0.8065904]\n",
    "    ]\n",
    ")\n",
    "fixed_parameters[\"orien_side_up\"] = orien_side_up\n",
    "fixed_parameters[\"orien_chain_left\"] = orien_chain_left\n",
    "\n",
    "\n",
    "varies_parameters = []\n",
    "varies_parameters.append(\n",
    "    optimiation.fitter.ParamSpec(\"g_cu_interchain_x\", (2.00, 2.14), 2.05)\n",
    ")\n",
    "varies_parameters.append(\n",
    "    optimiation.fitter.ParamSpec(\"g_cu_interchain_y\", (2.00, 2.14), 2.05)\n",
    ")\n",
    "varies_parameters.append(\n",
    "    optimiation.fitter.ParamSpec(\"g_cu_interchain_z\", (2.20, 2.31), 2.20)\n",
    ")\n",
    "\n",
    "\n",
    "varies_parameters.append(\n",
    "    optimiation.fitter.ParamSpec(\"g_cu_branching_high_temp_x\", (2.00, 2.31), 2.20)\n",
    ")\n",
    "varies_parameters.append(\n",
    "    optimiation.fitter.ParamSpec(\"g_cu_branching_high_temp_y\", (2.00, 2.31), 2.20)\n",
    ")\n",
    "varies_parameters.append(\n",
    "    optimiation.fitter.ParamSpec(\"g_cu_branching_high_temp_z\", (2.00, 2.31), 2.20)\n",
    ")\n",
    "\n",
    "\n",
    "varies_parameters.append(\n",
    "    optimiation.fitter.ParamSpec(\"g_cu_branching_low_temp_x\", (2.00, 2.31), 2.20)\n",
    ")\n",
    "varies_parameters.append(\n",
    "    optimiation.fitter.ParamSpec(\"g_cu_branching_low_temp_z\", (2.00, 2.31), 2.20)\n",
    ")\n",
    "\n",
    "varies_parameters.append(\n",
    "    optimiation.fitter.ParamSpec(\"delta_g\", (-0.01, 0.01), 0.0)\n",
    ") # Здесь по задаче считается, что <g *g > меняется слабо\n",
    "\n",
    "\n",
    "\n",
    "varies_parameters.append(\n",
    "    optimiation.fitter.ParamSpec(\"lorentz_high_temp\", (0.00, 0.01), 0.0001)\n",
    ")\n",
    "\n",
    "varies_parameters.append(\n",
    "    optimiation.fitter.ParamSpec(\"gauss_high_temp\", (0.00, 0.01), 0.0001)\n",
    ")\n",
    "\n",
    "varies_parameters.append(\n",
    "    optimiation.fitter.ParamSpec(\"h_strain_high_temp\", (0.00, 0.01), 0.0001)\n",
    ")\n",
    "\n",
    "\n",
    "varies_parameters.append(\n",
    "    optimiation.fitter.ParamSpec(\"lorentz_low_temp\", (0.00, 0.01), 0.0001)\n",
    ")\n",
    "\n",
    "varies_parameters.append(\n",
    "    optimiation.fitter.ParamSpec(\"gauss_low_temp\", (0.00, 0.01), 0.0001)\n",
    ")\n",
    "\n",
    "varies_parameters.append(\n",
    "    optimiation.fitter.ParamSpec(\"h_strain_low_temp\", (0.00, 0.01), 0.0001)\n",
    ")\n",
    "\n",
    "\n",
    "param_space = optimiation.fitter.ParameterSpace(varies_parameters, fixed_parameters)"
   ]
  },
  {
   "cell_type": "markdown",
   "id": "0af79705-f578-4b98-b59d-6ec74a1a377a",
   "metadata": {},
   "source": [
    "### Подгрузим эксперементальные данные - 136K и 90K спектры"
   ]
  },
  {
   "cell_type": "code",
   "execution_count": 455,
   "id": "7eef4183-fe61-4e2a-a47a-4d4d2cbdc7eb",
   "metadata": {
    "tags": []
   },
   "outputs": [],
   "source": [
    "###### Эксперементальные данные, которые будут использованы\n",
    "\n",
    "idx_high = 4\n",
    "fields_high = results[idx_high][1][\"x_values\"][300:-300]\n",
    "y_exp_high = results[idx_high][1][\"y_values\"][300:-300]\n",
    "freq_high = results[idx_high][0][\"MWFQ\"]\n",
    "temp_high = temperatures[idx_high]\n",
    "\n",
    "\n",
    "idx_low = -2\n",
    "fields_low = results[idx_low][1][\"x_values\"][300:-300]\n",
    "y_exp_low = results[idx_low][1][\"y_values\"][300:-300]\n",
    "freq_low = results[idx_low][0][\"MWFQ\"]\n",
    "temp_low = temperatures[idx_low]"
   ]
  },
  {
   "cell_type": "markdown",
   "id": "18d9b454-f11c-424e-b5fe-0ac5fcdda32a",
   "metadata": {},
   "source": [
    "Нужно задать метод, который строит спектры. У меня это\n",
    "\n",
    "from functools import partial\n",
    "\n",
    "simulate_spectra_partial = partial(\n",
    "        simulate_spectra,\n",
    "        mesh=mesh,\n",
    "        freq_high_temp=freq_high,\n",
    "        freq_low_temp=freq_low,\n",
    "        high_temp=temp_high,\n",
    "        low_temp=temp_low\n",
    ")\n",
    "\n",
    "partial я использую, чтобы передать всякие эксперементальный опции. Потом, на следующей итерации подумаю, как это лучше сделать\n",
    "\n"
   ]
  },
  {
   "cell_type": "code",
   "execution_count": 456,
   "id": "d8a2dea2-475c-4169-b9c7-ecde7ae06496",
   "metadata": {
    "tags": []
   },
   "outputs": [],
   "source": [
    "def build_sample(\n",
    "    J_chain, J_branching,\n",
    "    g_rad, g_cu_chain, g_cu_branching,\n",
    "    orient_side, orient_up, h_strain,\n",
    "    rotation_matrices\n",
    ") -> spin_system.MultiOrientedSample:\n",
    "\n",
    "        # g-tensor components\n",
    "        g_cu_chain_tensor = torch.tensor(g_cu_chain)\n",
    "        g1_frame = orient_side\n",
    "        zeem_chain = spin_system.Interaction(g_cu_chain_tensor, g1_frame)\n",
    "        \n",
    "        g_cu_branching = torch.tensor(g_cu_branching)\n",
    "        orient_up = orient_up\n",
    "        zeem_branching = spin_system.Interaction(g_cu_branching, orient_up)\n",
    "        \n",
    "        g_rad = torch.full((3,), g_rad)\n",
    "        g_rad_frame = torch.tensor([0, 0, 0])\n",
    "        zeem_rad = spin_system.Interaction(g_rad, g_rad_frame)\n",
    "        \n",
    "        e_chain = particles.Electron(spin=0.5)\n",
    "        e_branching = particles.Electron(spin=0.5)\n",
    "        e_rad = particles.Electron(spin=0.5)\n",
    "        \n",
    "        J_chain = 2 * J_chain # Because 2 S1 S2\n",
    "        J_chain_hz = (J_chain * 100) * 3 * 1e8\n",
    "        inter_chain = torch.full((3,), J_chain_hz)\n",
    "        d_frame = torch.zeros(3)\n",
    "        ee_int_chain = spin_system.Interaction(inter_chain, d_frame, torch.zeros(3))\n",
    "\n",
    "        J_branching = 2 * J_branching # Because 2 S1 S2\n",
    "        J_branching_hz = (J_branching * 100) * 3 * 1e8\n",
    "        inter_side = torch.full((3,), J_branching_hz)\n",
    "        d_frame = torch.zeros(3)\n",
    "        ee_int_side = spin_system.Interaction(inter_side, d_frame, torch.zeros(3))\n",
    "        \n",
    "        system = spin_system.SpinSystem(\n",
    "            electrons=[e_rad, e_chain, e_branching],\n",
    "            g_tensors=[zeem_rad, zeem_chain, zeem_branching],\n",
    "            electron_electron=[\n",
    "                (0, 1, ee_int_side), (0, 2, ee_int_chain)\n",
    "            ]\n",
    "        )\n",
    "\n",
    "        # Homogeneity strain\n",
    "        hum_str = h_strain * torch.ones(3)\n",
    "        return spin_system.MultiOrientedSample(system, hum_str, rotation_matrices)\n",
    "\n",
    "\n",
    "def simulate_spectra(\n",
    "    magnetic_fields,\n",
    "    params,\n",
    "    freq_high_temp,\n",
    "    freq_low_temp,\n",
    "    high_temp,\n",
    "    low_temp, mesh\n",
    "):\n",
    "    B_high = magnetic_fields[0]\n",
    "    B_low = magnetic_fields[1]\n",
    "    rotation_matrices = mesh.create_rotation_matrices()\n",
    "\n",
    "    g_cu_chain = torch.tensor(\n",
    "        [params[\"g_cu_interchain_x\"],\n",
    "         params[\"g_cu_interchain_y\"],\n",
    "         params[\"g_cu_interchain_z\"]]\n",
    "        )\n",
    "    \n",
    "    g_cu_branching_high_temp = torch.tensor(\n",
    "        [params[\"g_cu_branching_high_temp_x\"],\n",
    "         params[\"g_cu_branching_high_temp_y\"],\n",
    "         params[\"g_cu_branching_high_temp_z\"]]\n",
    "    )\n",
    "    \n",
    "    delta_g = params[\"delta_g\"]\n",
    "    g_cu_branching_low_temp_x = params[\"g_cu_branching_low_temp_x\"]\n",
    "    g_cu_branching_low_temp_z = params[\"g_cu_branching_low_temp_z\"]\n",
    "    \n",
    "    g_cu__intra_sq =  sum(g_cu_branching_high_temp ** 2)\n",
    "    g_cu_branching_low_temp_y =\\\n",
    "    g_cu__intra_sq - g_cu_branching_low_temp_x ** 2 - g_cu_branching_low_temp_z**2  + delta_g\n",
    "    g_cu_branching_low_temp_y = g_cu_branching_low_temp_y ** 0.5 \n",
    "    \n",
    "    g_cu_branching_low_temp = torch.tensor(\n",
    "        [params[\"g_cu_branching_high_temp_x\"],\n",
    "         g_cu_branching_low_temp_y,\n",
    "         params[\"g_cu_branching_high_temp_z\"]]\n",
    "    )\n",
    "    \n",
    "    powder_high_temp = build_sample(\n",
    "        J_chain=params[\"J_chain_high_temp\"],\n",
    "        J_branching=params[\"J_branching_high_temp\"],\n",
    "        g_rad=params[\"g_rad\"],\n",
    "        g_cu_chain = g_cu_chain,\n",
    "        g_cu_branching = g_cu_branching_high_temp,\n",
    "        orient_side=params[\"orien_side_up\"],\n",
    "        orient_up=params[\"orien_chain_left\"],\n",
    "        h_strain=params[\"h_strain_high_temp\"],\n",
    "        rotation_matrices=rotation_matrices\n",
    "    )\n",
    "    \n",
    "    powder_low_temp = build_sample(\n",
    "        J_chain=params[\"J_chain_low_temp\"],\n",
    "        J_branching=params[\"J_branching_low_temp\"],\n",
    "        g_rad=params[\"g_rad\"],\n",
    "        g_cu_chain = g_cu_chain,\n",
    "        g_cu_branching = g_cu_branching_low_temp,\n",
    "        orient_side=params[\"orien_side_up\"],\n",
    "        orient_up=params[\"orien_chain_left\"],\n",
    "        h_strain=params[\"h_strain_low_temp\"],\n",
    "        rotation_matrices=rotation_matrices\n",
    "    )\n",
    "    \n",
    "    spec_high = create_temp_spectra(powder_high_temp,\n",
    "                                    mesh, B_high,\n",
    "                                    torch.tensor(freq_high_temp),\n",
    "                                    torch.tensor(params[\"lorentz_high_temp\"]),\n",
    "                                    torch.tensor(params[\"gauss_high_temp\"]),\n",
    "                                    temperature=torch.tensor(high_temp),\n",
    "                                   )\n",
    "    \n",
    "    spec_low = create_temp_spectra(powder_low_temp,\n",
    "                                    mesh, B_low,\n",
    "                                    torch.tensor(freq_low_temp),\n",
    "                                    torch.tensor(params[\"lorentz_low_temp\"]),\n",
    "                                    torch.tensor(params[\"gauss_low_temp\"]),\n",
    "                                    temperature=torch.tensor(low_temp),\n",
    "                                   )\n",
    "    return [spec_high, spec_low]\n",
    "\n",
    "def create_temp_spectra(powder, mesh, B, res_freq, gauss, lorentz, temperature):\n",
    "    post_spectra_processor = spectra_manager.PostSpectraProcessing(gauss, lorentz)\n",
    "    populator = population.StationaryPopulator(temperature)\n",
    "    intensity_calculator = spectra_manager.StationaryIntensitiesCalculator(\n",
    "    powder.spin_system.dim, populator=populator)\n",
    "    creator = spectra_manager.BaseSpectraCreator(powder.spin_system.dim, (), mesh, \n",
    "                                                 post_spectra_processor=post_spectra_processor,\n",
    "                                                 intensity_calculator=intensity_calculator)\n",
    "    spec = creator(powder, res_freq, B)\n",
    "    return spec"
   ]
  },
  {
   "cell_type": "markdown",
   "id": "4e5aac32-9f89-4996-a71a-04bb64fc5bd6",
   "metadata": {},
   "source": [
    "### Создадим объект fitter и зафитируем спектры"
   ]
  },
  {
   "cell_type": "code",
   "execution_count": 457,
   "id": "6381d9cd-efc8-4b0a-97b5-4161727e537c",
   "metadata": {
    "tags": []
   },
   "outputs": [],
   "source": [
    "from functools import partial\n",
    "\n",
    "mesh = mesher.DelaunayMeshNeighbour(phi_limits = (0, 2 * np.pi),\n",
    "                                    initial_grid_frequency=25,\n",
    "                                    interpolate=False)\n",
    "\n",
    "simulate_spectra_partial = partial(\n",
    "        simulate_spectra,\n",
    "        mesh=mesh,\n",
    "        freq_high_temp=freq_high,\n",
    "        freq_low_temp=freq_low,\n",
    "        high_temp=temp_high,\n",
    "        low_temp=temp_low\n",
    ")\n",
    "\n",
    "fitter = optimiation.SpectrumFitter(\n",
    "    B=[fields_high, fields_low],\n",
    "    y_exp=[y_exp_high, y_exp_low],\n",
    "    param_space=param_space,\n",
    "    simulate_spectrum_callable=simulate_spectra_partial\n",
    ")"
   ]
  },
  {
   "cell_type": "code",
   "execution_count": 458,
   "id": "5f3028ea-c25d-4a5b-965b-dc3430159872",
   "metadata": {
    "tags": []
   },
   "outputs": [
    {
     "data": {
      "application/vnd.jupyter.widget-view+json": {
       "model_id": "dade45a31e2a42ae8fea4b36878d4bcd",
       "version_major": 2,
       "version_minor": 0
      },
      "text/plain": [
       "  0%|          | 0/2000 [00:00<?, ?it/s]"
      ]
     },
     "metadata": {},
     "output_type": "display_data"
    }
   ],
   "source": [
    "result = fitter.fit(n_trials=2000)"
   ]
  },
  {
   "cell_type": "markdown",
   "id": "4fa3bcec-2344-4b6f-91ad-a6a6b8276bfc",
   "metadata": {},
   "source": [
    "### Сравним с эксперементальынми спектарми"
   ]
  },
  {
   "cell_type": "code",
   "execution_count": 459,
   "id": "7875932a-7afc-4c90-af0c-7ce7d29b2dad",
   "metadata": {
    "tags": []
   },
   "outputs": [
    {
     "data": {
      "text/plain": [
       "[<matplotlib.lines.Line2D at 0x2a6bc017760>]"
      ]
     },
     "execution_count": 459,
     "metadata": {},
     "output_type": "execute_result"
    },
    {
     "data": {
      "image/png": "[encoded data removed]",
      "text/plain": [
       "<Figure size 640x480 with 1 Axes>"
      ]
     },
     "metadata": {},
     "output_type": "display_data"
    }
   ],
   "source": [
    "plt.plot(fitter.B[0].numpy(), result.best_spectrum[0].numpy())\n",
    "plt.plot(fitter.B[0].numpy(), fitter.y_exp[0].numpy())"
   ]
  },
  {
   "cell_type": "code",
   "execution_count": 460,
   "id": "bd825dc5-21bf-4967-bf7b-421862933301",
   "metadata": {
    "tags": []
   },
   "outputs": [
    {
     "data": {
      "text/plain": [
       "[<matplotlib.lines.Line2D at 0x2a6bc06af50>]"
      ]
     },
     "execution_count": 460,
     "metadata": {},
     "output_type": "execute_result"
    },
    {
     "data": {
      "image/png": "[encoded data removed]",
      "text/plain": [
       "<Figure size 640x480 with 1 Axes>"
      ]
     },
     "metadata": {},
     "output_type": "display_data"
    }
   ],
   "source": [
    "plt.plot(fitter.B[1].numpy(), result.best_spectrum[1].numpy())\n",
    "plt.plot(fitter.B[1].numpy(), fitter.y_exp[1].numpy())"
   ]
  },
  {
   "cell_type": "markdown",
   "id": "24aa66e3-4a42-4772-ad22-9317af20fd6b",
   "metadata": {},
   "source": [
    "### как-то в попадаетresult.best_params. В целом, в финильной статье выглядит немного лучше"
   ]
  },
  {
   "cell_type": "code",
   "execution_count": 467,
   "id": "e3330f91-1ff4-4a52-95a8-f5ebf919af06",
   "metadata": {
    "tags": []
   },
   "outputs": [
    {
     "data": {
      "text/plain": [
       "{'g_cu_interchain_x': 2.060739605401563,\n",
       " 'g_cu_interchain_y': 2.0894993455319524,\n",
       " 'g_cu_interchain_z': 2.2892264051120175,\n",
       " 'g_cu_branching_high_temp_x': 2.0005787678991935,\n",
       " 'g_cu_branching_high_temp_y': 2.193800751571051,\n",
       " 'g_cu_branching_high_temp_z': 2.2825583215276337,\n",
       " 'g_cu_branching_low_temp_x': 2.1610694603722185,\n",
       " 'g_cu_branching_low_temp_z': 2.0802921879891345,\n",
       " 'delta_g': -0.0026834389075095933,\n",
       " 'lorentz_high_temp': 0.0026074074163860506,\n",
       " 'gauss_high_temp': 0.004055534746363397,\n",
       " 'h_strain_high_temp': 0.009888151642254137,\n",
       " 'lorentz_low_temp': 0.005967259946349028,\n",
       " 'gauss_low_temp': 0.006323040107505489,\n",
       " 'h_strain_low_temp': 0.009757914488591904}"
      ]
     },
     "execution_count": 467,
     "metadata": {},
     "output_type": "execute_result"
    }
   ],
   "source": [
    "result.best_params # Тут получились совсем другие параметры."
   ]
  },
  {
   "cell_type": "markdown",
   "id": "1c7d9197-f54c-4842-ad21-2f2f014cad3c",
   "metadata": {},
   "source": [
    "Теперь попробуем поискать другие минимумы, с другими g-тензорами. Оставим только их имена"
   ]
  },
  {
   "cell_type": "code",
   "execution_count": 469,
   "id": "f15ba693-2c3e-4fc1-a20c-255b6fafe751",
   "metadata": {
    "tags": []
   },
   "outputs": [],
   "source": [
    "space_searcher = optimiation.fitter.SpaceSearcher()\n",
    "param_names = ['g_cu_interchain_x',\n",
    "                 'g_cu_interchain_y',\n",
    "                 'g_cu_interchain_z',\n",
    "                 'g_cu_branching_high_temp_x',\n",
    "                 'g_cu_branching_high_temp_y',\n",
    "                 'g_cu_branching_high_temp_z', \n",
    "                 'g_cu_branching_low_temp_x',\n",
    "                 'g_cu_branching_low_temp_z'\n",
    "                ]\n",
    "searcher_result = space_searcher(result.optimizer_info[\"study\"], param_names)"
   ]
  },
  {
   "cell_type": "code",
   "execution_count": 480,
   "id": "c9732c27-f1bb-444f-85d0-3e7d82f5cc6b",
   "metadata": {
    "tags": []
   },
   "outputs": [
    {
     "data": {
      "text/plain": [
       "{'g_cu_interchain_x': 2.086460144763321,\n",
       " 'g_cu_interchain_y': 2.0675146767937833,\n",
       " 'g_cu_interchain_z': 2.285527519447461,\n",
       " 'g_cu_branching_high_temp_x': 2.1716763123797853,\n",
       " 'g_cu_branching_high_temp_y': 2.2373090850641546,\n",
       " 'g_cu_branching_high_temp_z': 2.09127187655761,\n",
       " 'g_cu_branching_low_temp_x': 2.1485460168273374,\n",
       " 'g_cu_branching_low_temp_z': 2.0954477244505347,\n",
       " 'delta_g': 0.0031006620661142388,\n",
       " 'lorentz_high_temp': 0.005546924604427954,\n",
       " 'gauss_high_temp': 0.0008991320456773809,\n",
       " 'h_strain_high_temp': 0.009413558066561958,\n",
       " 'lorentz_low_temp': 0.00958116419761588,\n",
       " 'gauss_low_temp': 0.005629291659681643,\n",
       " 'h_strain_low_temp': 0.009167145241406757}"
      ]
     },
     "execution_count": 480,
     "metadata": {},
     "output_type": "execute_result"
    }
   ],
   "source": [
    "searcher_result[1][\"params\"]"
   ]
  },
  {
   "cell_type": "code",
   "execution_count": 476,
   "id": "bfa3f076-9ab3-4418-95f7-3bb2c7940742",
   "metadata": {
    "tags": []
   },
   "outputs": [
    {
     "data": {
      "text/plain": [
       "[<matplotlib.lines.Line2D at 0x2a6bdfa6b30>]"
      ]
     },
     "execution_count": 476,
     "metadata": {},
     "output_type": "execute_result"
    },
    {
     "data": {
      "image/png": "[encoded data removed]",
      "text/plain": [
       "<Figure size 640x480 with 1 Axes>"
      ]
     },
     "metadata": {},
     "output_type": "display_data"
    }
   ],
   "source": [
    "spec_high, spec_low = fitter.simulate_spectra_from_trial_params(searcher_result[1][\"params\"])\n",
    "\n",
    "plt.plot(fitter.B[0].numpy(), spec_high.numpy())\n",
    "plt.plot(fitter.B[0].numpy(), fitter.y_exp[0].numpy())"
   ]
  },
  {
   "cell_type": "code",
   "execution_count": 477,
   "id": "b5d34f0c-372e-492f-b908-8c4be464012a",
   "metadata": {
    "tags": []
   },
   "outputs": [
    {
     "data": {
      "text/plain": [
       "[<matplotlib.lines.Line2D at 0x2a6bb40c790>]"
      ]
     },
     "execution_count": 477,
     "metadata": {},
     "output_type": "execute_result"
    },
    {
     "data": {
      "image/png": "[encoded data removed]",
      "text/plain": [
       "<Figure size 640x480 with 1 Axes>"
      ]
     },
     "metadata": {},
     "output_type": "display_data"
    }
   ],
   "source": [
    "spec_high, spec_low = fitter.simulate_spectra_from_trial_params(searcher_result[1][\"params\"])\n",
    "\n",
    "plt.plot(fitter.B[1].numpy(), spec_low.numpy())\n",
    "plt.plot(fitter.B[1].numpy(), fitter.y_exp[1].numpy())"
   ]
  }
 ],
 "metadata": {
  "kernelspec": {
   "display_name": "Python 3 (ipykernel)",
   "language": "python",
   "name": "python3"
  },
  "language_info": {
   "codemirror_mode": {
    "name": "ipython",
    "version": 3
   },
   "file_extension": ".py",
   "mimetype": "text/x-python",
   "name": "python",
   "nbconvert_exporter": "python",
   "pygments_lexer": "ipython3",
   "version": "3.10.9"
  }
 },
 "nbformat": 4,
 "nbformat_minor": 5
}
