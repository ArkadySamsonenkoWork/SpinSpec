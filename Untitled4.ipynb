{
 "cells": [
  {
   "cell_type": "code",
   "execution_count": 152,
   "id": "c1a1beac-6eb9-43ac-9c95-cad6995eb898",
   "metadata": {
    "tags": []
   },
   "outputs": [
    {
     "data": {
      "text/plain": [
       "<module 'optimization' from 'D:\\\\ITC\\\\РНФ_Курганский_2024\\\\pythonProject\\\\optimization\\\\__init__.py'>"
      ]
     },
     "execution_count": 152,
     "metadata": {},
     "output_type": "execute_result"
    }
   ],
   "source": [
    "import sys\n",
    "import os\n",
    "import typing as tp\n",
    "import tqdm\n",
    "\n",
    "sys.path.append(os.path.abspath('D:\\ITC\\РНФ_Курганский_2024\\pythonProject'))\n",
    "import itertools\n",
    "\n",
    "from dataclasses import dataclass\n",
    "import numpy as np\n",
    "import torch\n",
    "from torch import nn\n",
    "import math\n",
    "\n",
    "from scipy.spatial import Delaunay\n",
    "import matplotlib.pyplot as plt\n",
    "\n",
    "import spin_system, utils, particles, res_field_algorithm, constants, spectral_integration, mesher, spectra_manager, particles\n",
    "from visualization import levels_plot, transitions_plot\n",
    "from population import time_population, tr_utils, transform\n",
    "import population\n",
    "\n",
    "import machine_learning as ml\n",
    "\n",
    "import pathlib\n",
    "from importlib import reload\n",
    "\n",
    "from spectra_manager import TruncatedSpectraCreatorTimeResolved, PostSpectraProcessing,TimeResolvedIntensitiesCalculator, ParamSpec\n",
    "from spectral_integration import SpectraIntegratorEasySpinLikeTimeResolved, BaseSpectraIntegrator\n",
    "from reader import read_bruker_data\n",
    "from spectra_manager import BaseSpectraCreator\n",
    "import spectral_integration\n",
    "import optimization\n",
    "import particles\n",
    "import random\n",
    "import pickle\n",
    "\n",
    "import spectra_processing\n",
    "\n",
    "reload(population)\n",
    "reload(optimization.fitter)\n",
    "reload(optimization.objectives)\n",
    "reload(time_population)\n",
    "reload(levels_plot)\n",
    "reload(transitions_plot)\n",
    "reload(tr_utils)\n",
    "reload(spectral_integration)\n",
    "reload(spectra_manager)\n",
    "reload(spin_system)\n",
    "reload(res_field_algorithm)\n",
    "reload(optimization)"
   ]
  },
  {
   "cell_type": "code",
   "execution_count": 153,
   "id": "1d9d54fc-ddc0-4cca-a0a1-18f350e4a322",
   "metadata": {
    "tags": []
   },
   "outputs": [
    {
     "data": {
      "text/plain": [
       "<module 'utils' from 'D:\\\\ITC\\\\РНФ_Курганский_2024\\\\pythonProject\\\\utils.py'>"
      ]
     },
     "execution_count": 153,
     "metadata": {},
     "output_type": "execute_result"
    }
   ],
   "source": [
    "import safetensors.torch\n",
    "import safetensors\n",
    "\n",
    "import traceback\n",
    "import datetime\n",
    "from particles import Nucleus\n",
    "from torch.distributions import Uniform\n",
    "import torch\n",
    "from mesher import experimental\n",
    "\n",
    "reload(mesher)\n",
    "reload(mesher.experimental)\n",
    "reload(experimental)\n",
    "reload(mesher)\n",
    "\n",
    "reload(ml.spectra_generation)\n",
    "reload(ml.data_generation)\n",
    "reload(ml.data_loading)\n",
    "reload(ml)\n",
    "\n",
    "reload(utils)"
   ]
  },
  {
   "cell_type": "code",
   "execution_count": 154,
   "id": "6f60802b-5167-489e-9ac6-83b4bfee8903",
   "metadata": {
    "tags": []
   },
   "outputs": [
    {
     "name": "stdout",
     "output_type": "stream",
     "text": [
      "torch.Size([20, 210])\n",
      "torch.Size([20, 210])\n",
      "torch.Size([20, 210])\n"
     ]
    }
   ],
   "source": [
    "mesh = mesher.Mesh3D()\n",
    "\n",
    "matr = mesh.rotation_matrices"
   ]
  },
  {
   "cell_type": "code",
   "execution_count": 184,
   "id": "1d951bc1-02be-4e3c-90d0-be31e303f32b",
   "metadata": {
    "tags": []
   },
   "outputs": [
    {
     "data": {
      "text/plain": [
       "torch.Size([210])"
      ]
     },
     "execution_count": 184,
     "metadata": {},
     "output_type": "execute_result"
    }
   ],
   "source": [
    "mesh.initial_size"
   ]
  },
  {
   "cell_type": "code",
   "execution_count": 156,
   "id": "6f00038c-c0b3-47fc-a09b-1c8140ae3ca2",
   "metadata": {
    "tags": []
   },
   "outputs": [],
   "source": [
    "g = spin_system.Interaction([1.9, 2.2, 2.3])\n",
    "dip = spin_system.Interaction([1.9 * 1e8, 2.2 * 1e8, 2.3 * 1e8])"
   ]
  },
  {
   "cell_type": "code",
   "execution_count": 157,
   "id": "cba05d5b-827b-4cb5-9381-0ac45bdeb6ab",
   "metadata": {
    "tags": []
   },
   "outputs": [],
   "source": [
    "base_spin_system = spin_system.SpinSystem(electrons=[1.0, ], g_tensors=[g], electron_electron=[(0, 0, dip)])"
   ]
  },
  {
   "cell_type": "code",
   "execution_count": 158,
   "id": "26bc49f8-060e-4667-b6ca-a60a1fb43425",
   "metadata": {
    "tags": []
   },
   "outputs": [],
   "source": [
    "sample = spin_system.MultiOrientedSample(spin_system=base_spin_system, gauss=0.01, mesh=mesh)"
   ]
  },
  {
   "cell_type": "code",
   "execution_count": 159,
   "id": "36c5205d-9158-4bca-bfc2-14597ac50b4d",
   "metadata": {
    "tags": []
   },
   "outputs": [],
   "source": [
    "F, Gx, Gy, Gz = sample.get_hamiltonian_terms()"
   ]
  },
  {
   "cell_type": "code",
   "execution_count": 160,
   "id": "bcaef1b5-72e7-41d7-a91b-f14c6030c106",
   "metadata": {
    "tags": []
   },
   "outputs": [],
   "source": [
    "B = 1"
   ]
  },
  {
   "cell_type": "code",
   "execution_count": 161,
   "id": "bb233142-c149-4757-a5d1-d4d0da16c00e",
   "metadata": {
    "tags": []
   },
   "outputs": [],
   "source": [
    "H = F + Gz * B"
   ]
  },
  {
   "cell_type": "code",
   "execution_count": 179,
   "id": "be7cc3b7-9b00-4854-bef4-e5041abdf3ca",
   "metadata": {
    "tags": []
   },
   "outputs": [],
   "source": [
    "energy, vectors = torch.linalg.eigh(H)\n",
    "vectors_abs = vectors.abs()"
   ]
  }
 ],
 "metadata": {
  "kernelspec": {
   "display_name": "Python 3 (ipykernel)",
   "language": "python",
   "name": "python3"
  },
  "language_info": {
   "codemirror_mode": {
    "name": "ipython",
    "version": 3
   },
   "file_extension": ".py",
   "mimetype": "text/x-python",
   "name": "python",
   "nbconvert_exporter": "python",
   "pygments_lexer": "ipython3",
   "version": "3.10.9"
  }
 },
 "nbformat": 4,
 "nbformat_minor": 5
}
